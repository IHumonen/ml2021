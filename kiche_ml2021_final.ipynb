{
  "nbformat": 4,
  "nbformat_minor": 0,
  "metadata": {
    "colab": {
      "name": "kiche_ml2021_DA.ipynb",
      "provenance": [],
      "collapsed_sections": [],
      "toc_visible": true
    },
    "kernelspec": {
      "name": "python3",
      "display_name": "Python 3"
    },
    "language_info": {
      "name": "python"
    }
  },
  "cells": [
    {
      "cell_type": "markdown",
      "metadata": {
        "id": "CO_ZIYY18hUE"
      },
      "source": [
        "## Импортируем библиотеки"
      ]
    },
    {
      "cell_type": "code",
      "metadata": {
        "colab": {
          "base_uri": "https://localhost:8080/"
        },
        "id": "v_2RU03VRbgw",
        "outputId": "5c65fd99-3fa0-46f2-a50f-a0bb78691602"
      },
      "source": [
        "!pip install sklearn_crfsuite"
      ],
      "execution_count": null,
      "outputs": [
        {
          "output_type": "stream",
          "text": [
            "Requirement already satisfied: sklearn_crfsuite in /usr/local/lib/python3.7/dist-packages (0.3.6)\n",
            "Requirement already satisfied: tqdm>=2.0 in /usr/local/lib/python3.7/dist-packages (from sklearn_crfsuite) (4.41.1)\n",
            "Requirement already satisfied: six in /usr/local/lib/python3.7/dist-packages (from sklearn_crfsuite) (1.15.0)\n",
            "Requirement already satisfied: python-crfsuite>=0.8.3 in /usr/local/lib/python3.7/dist-packages (from sklearn_crfsuite) (0.9.7)\n",
            "Requirement already satisfied: tabulate in /usr/local/lib/python3.7/dist-packages (from sklearn_crfsuite) (0.8.9)\n"
          ],
          "name": "stdout"
        }
      ]
    },
    {
      "cell_type": "code",
      "metadata": {
        "id": "vn7hjhkSVLwG"
      },
      "source": [
        "import copy\n",
        "import pickle\n",
        "import sys\n",
        "\n",
        "from string import punctuation\n",
        "\n",
        "import pandas as pd"
      ],
      "execution_count": null,
      "outputs": []
    },
    {
      "cell_type": "code",
      "metadata": {
        "id": "CfSDcGo7Q06D"
      },
      "source": [
        "import sklearn_crfsuite\n",
        "\n",
        "import matplotlib.pyplot as plt"
      ],
      "execution_count": null,
      "outputs": []
    },
    {
      "cell_type": "markdown",
      "metadata": {
        "id": "MJmRC0Pbp5xA"
      },
      "source": [
        "## Предобработка и лейблы (то, что раньше было в другой тетрадке)"
      ]
    },
    {
      "cell_type": "code",
      "metadata": {
        "id": "hoivTvwM5S_T"
      },
      "source": [
        "#punctuation += ' …' #c этой штукой почему-то всё отвалилось из-за кодировки\n",
        "punctuation += ' '\n",
        "sep='>'"
      ],
      "execution_count": null,
      "outputs": []
    },
    {
      "cell_type": "markdown",
      "metadata": {
        "id": "dZMv060krp5Q"
      },
      "source": [
        "### Записываем алфавит киче в удобном виде"
      ]
    },
    {
      "cell_type": "code",
      "metadata": {
        "id": "4oyU48hwr2tG"
      },
      "source": [
        "kiche_anbur = \"a [a], ä [ə], e [ɛ], i [i], o [o], u [u], m [m], n [n], nh [ŋ], p [p], bʼ [ɓ], t [t], tʼ [tʼ], k [k], kʼ [kʼ], q [q], qʼ [qʼ], tz [ʦ], tzʼ [ʦ’], ch [ʧ], chʼ [ʧ’], s [s], x [ʃ], j [χ], h [h], r [r], l [l], y [j], w [w], ʼ [ʔ]\"\n",
        "alphabet = []\n",
        "for letter in kiche_anbur.split(\",\"):\n",
        "    letter = letter.split()[0]\n",
        "    alphabet.append(letter)\n",
        "    alphabet.append(letter[0].upper() + letter[1:])"
      ],
      "execution_count": null,
      "outputs": []
    },
    {
      "cell_type": "code",
      "metadata": {
        "id": "sC2_mQicqk7L"
      },
      "source": [
        "alph_to_int = dict(zip(alphabet, range(len(alphabet))))\n",
        "int_to_alph = dict(zip(range(len(alphabet)), alphabet))"
      ],
      "execution_count": null,
      "outputs": []
    },
    {
      "cell_type": "markdown",
      "metadata": {
        "id": "E5IVw8kzsUJ9"
      },
      "source": [
        "### Функции для токенизации, побуквенная и посимвольная\n"
      ]
    },
    {
      "cell_type": "code",
      "metadata": {
        "id": "xbrcz1bksHl4"
      },
      "source": [
        "def window(text, size):\n",
        "    tokens = []\n",
        "    i = 0\n",
        "    while i < (len(text)-size+1):\n",
        "        try:\n",
        "            current = ''.join(text[i:i+size])\n",
        "        except:\n",
        "            current = 'not_in_alphabet'\n",
        "        if current in alphabet:\n",
        "            tokens.append(alph_to_int[current])\n",
        "            i += size\n",
        "        else:\n",
        "            tokens.append(text[i])\n",
        "            i += 1\n",
        "    return tokens\n",
        "\n",
        "def tokenize_letters(text):\n",
        "    tokens = list(text + 'ggg')\n",
        "    for i in range(3, 0, -1):\n",
        "        tokens = window(tokens, i)\n",
        "    tokens_2 = []\n",
        "    for token in tokens:\n",
        "        if token in int_to_alph:\n",
        "            token = int_to_alph[token]\n",
        "        tokens_2.append(token)\n",
        "    return tokens_2"
      ],
      "execution_count": null,
      "outputs": []
    },
    {
      "cell_type": "code",
      "metadata": {
        "id": "2eq1uYY5seIU"
      },
      "source": [
        "def tokenize_symbols(text):\n",
        "    #return(list(text))\n",
        "    tokens = []\n",
        "    for s in text:\n",
        "      tokens.append(s)\n",
        "    return tokens"
      ],
      "execution_count": null,
      "outputs": []
    },
    {
      "cell_type": "code",
      "metadata": {
        "id": "0nqOcQhbBrkW"
      },
      "source": [
        "def tokenize(text, type_='letters'):\n",
        "  if type_ == 'letters':\n",
        "    return tokenize_letters(text)\n",
        "  if type_ == 'symbols':\n",
        "    return tokenize_symbols(text)"
      ],
      "execution_count": null,
      "outputs": []
    },
    {
      "cell_type": "markdown",
      "metadata": {
        "id": "UvvvC3IDtROs"
      },
      "source": [
        "Функция, которая навешивает лейблы"
      ]
    },
    {
      "cell_type": "code",
      "metadata": {
        "id": "2iS14KY4soam"
      },
      "source": [
        "#sep — c разделителем, not — без разделителя\n",
        "#b, m и s значат beginning, middle и end, а s — single\n",
        "def to_labels(tokens, unite_punct=False):\n",
        "    border_tokens = sep + punctuation\n",
        "    labels = []\n",
        "    tokens = [sep] + tokens + [sep]\n",
        "    for i in range(1, len(tokens)-1):\n",
        "        current = tokens[i]\n",
        "        previous = tokens[i-1]\n",
        "        next_ = tokens[i+1]\n",
        "        if current != sep:\n",
        "            if current not in punctuation:\n",
        "                if previous in border_tokens:\n",
        "                    if next_ in border_tokens:\n",
        "                        labels.append('s-morph') #labels.append('sep')\n",
        "                    else:\n",
        "                        labels.append('b-morph') #labels.append('not')\n",
        "                elif next_ in border_tokens:\n",
        "                    labels.append('e-morph') #labels.append('sep')\n",
        "                else:\n",
        "                    labels.append('m-morph') #labels.append('not')\n",
        "            else:\n",
        "                if not unite_punct:\n",
        "                  labels.append(current)\n",
        "                else:\n",
        "                  labels.append('punct')\n",
        "    return labels"
      ],
      "execution_count": null,
      "outputs": []
    },
    {
      "cell_type": "markdown",
      "metadata": {
        "id": "LzYx8XpCtG7Y"
      },
      "source": [
        "### Функция, которая открывает файл .tsv и создаёт колонки с токенизацией и лейблами"
      ]
    },
    {
      "cell_type": "code",
      "metadata": {
        "id": "1-ydidHNsszO"
      },
      "source": [
        "def preprocess_df(df, text='text', with_sep='with_sep', unite_punct=False, type_='letters'):\n",
        "    df['tokens_with_sep'] = df[with_sep].apply(lambda x: tokenize(x, type_))\n",
        "    df['tokens'] = df['tokens_with_sep'].apply(lambda array: list(filter(lambda x: x!=sep, array)))\n",
        "    df['tokens_honest'] = df[text].apply(lambda x: tokenize(x, type_))\n",
        "    df['labels'] = df['tokens_with_sep'].apply(lambda x: to_labels(x, unite_punct))\n",
        "\n",
        "\n",
        "def open_and_preprocess(filename, text='text', with_sep='with_sep', unite_punct=False, type_='letters'):\n",
        "  df = pd.read_csv(filename, sep='\\t', names=[text, with_sep], encoding='utf-8')\n",
        "  preprocess_df(df, text, with_sep, unite_punct, type_)\n",
        "  return df"
      ],
      "execution_count": null,
      "outputs": []
    },
    {
      "cell_type": "markdown",
      "metadata": {
        "id": "oCX-tf64XZK0"
      },
      "source": [
        "## Функции, которые добавляют свойства и делают из токена словарь свойств"
      ]
    },
    {
      "cell_type": "markdown",
      "metadata": {
        "id": "KYaSJ1O00DWR"
      },
      "source": [
        "### Свойства"
      ]
    },
    {
      "cell_type": "code",
      "metadata": {
        "id": "XU4JCqSxyUvG"
      },
      "source": [
        "def is_vowel(token):\n",
        "  return token.lower() in 'aeiouä'"
      ],
      "execution_count": null,
      "outputs": []
    },
    {
      "cell_type": "code",
      "metadata": {
        "id": "2K0gyk58Xej-"
      },
      "source": [
        "def vow_cons(token, document=None, i=None):\n",
        "  if token in punctuation:\n",
        "    return 'none'\n",
        "  elif is_vowel(token):\n",
        "    return 'v'\n",
        "  else:\n",
        "    return 'c'"
      ],
      "execution_count": null,
      "outputs": []
    },
    {
      "cell_type": "code",
      "metadata": {
        "id": "FQppWtVryZFz"
      },
      "source": [
        "# begin, middle, end и single\n",
        "def position(token, document, i):\n",
        "  if token in punctuation:\n",
        "    return 'none'\n",
        "  elif i == 0:\n",
        "    return 'b'\n",
        "  elif i == len(document) - 1:\n",
        "    return 'e'\n",
        "  elif document[i-1] == ' ' and document[i+1] == ' ':\n",
        "    return 's'\n",
        "  elif document[i-1] == ' ':\n",
        "    return 'b'\n",
        "  elif document[i+1] == ' ':\n",
        "    return 'e'\n",
        "  else:\n",
        "    return 'm'"
      ],
      "execution_count": null,
      "outputs": []
    },
    {
      "cell_type": "code",
      "metadata": {
        "id": "4dUdixx90XTF"
      },
      "source": [
        "def lower(token, document=None, i=None):\n",
        "  return token.lower()"
      ],
      "execution_count": null,
      "outputs": []
    },
    {
      "cell_type": "code",
      "metadata": {
        "id": "6xw6982Q0ixv"
      },
      "source": [
        "def is_upper(token, document=None, i=None):\n",
        "  return token[0].isupper()"
      ],
      "execution_count": null,
      "outputs": []
    },
    {
      "cell_type": "code",
      "metadata": {
        "id": "m1l_LiO9QQ22"
      },
      "source": [
        "def trigramma(token, document, i):\n",
        "  token = token.lower()\n",
        "  if i != 0:\n",
        "    previous = document[i-1].lower()\n",
        "  else:\n",
        "    previous = ''\n",
        "  if i != len(document) - 1:\n",
        "    next_ = document[i+1].lower()\n",
        "  else:\n",
        "    next_ = ''\n",
        "  return previous + token + next_"
      ],
      "execution_count": null,
      "outputs": []
    },
    {
      "cell_type": "markdown",
      "metadata": {
        "id": "3dDerf5GxwPD"
      },
      "source": [
        "![image.png](data:image/png;base64,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)"
      ]
    },
    {
      "cell_type": "code",
      "metadata": {
        "id": "o2DwxSh-J8ez"
      },
      "source": [
        "def my_str(array):\n",
        "  return ''.join(array).lower() #почему-то если не писать тут lower, то скор только с set_a становится больше"
      ],
      "execution_count": null,
      "outputs": []
    },
    {
      "cell_type": "code",
      "metadata": {
        "id": "FNge35OExRVR"
      },
      "source": [
        "def set_a(token, document, i):\n",
        "  if i != len(document)-1:\n",
        "    markers_cons = ['nu', 'in', 'qa', 'ki']\n",
        "    markers_vowel = ['inw', 'aw', 'iw']\n",
        "    morpheme = my_str(document[i-1:i+1])\n",
        "    next_ = document[i+1]\n",
        "    if is_vowel(next_):\n",
        "      if morpheme in markers_vowel:\n",
        "        return True\n",
        "      if my_str(document[i-2:i+1]) in markers_vowel:\n",
        "        return True\n",
        "    else:\n",
        "      if morpheme in markers_cons:\n",
        "        return True\n",
        "  return False"
      ],
      "execution_count": null,
      "outputs": []
    },
    {
      "cell_type": "code",
      "metadata": {
        "id": "DCuGwxNYxYWR"
      },
      "source": [
        "def set_b(token, document, i):\n",
        "  if i != len(document)-1:\n",
        "    markers = ['in', 'at', 'oj', 'uj', 'ix', 'ebʼ'] #тут будем считать, что токенизация была по буквам\n",
        "    morpheme = my_str(document[i-1:i+1])\n",
        "    if morpheme in markers:\n",
        "      return True\n",
        "  return False"
      ],
      "execution_count": null,
      "outputs": []
    },
    {
      "cell_type": "markdown",
      "metadata": {
        "id": "DatxD2YB0NxY"
      },
      "source": [
        "### Превращение токена в словарь свойств"
      ]
    },
    {
      "cell_type": "code",
      "metadata": {
        "id": "listP_9M61OH"
      },
      "source": [
        "# список фичей\n",
        "features = {'token' : lower,\n",
        "            'is_upper' : is_upper,\n",
        "            'vow_cons' : vow_cons,\n",
        "            'position' : position,\n",
        "            'trigramma' : trigramma,\n",
        "            'set_A' : set_a,\n",
        "            'set_B' : set_b\n",
        "            }"
      ],
      "execution_count": null,
      "outputs": []
    },
    {
      "cell_type": "code",
      "metadata": {
        "id": "YTfQDa3UaxRd"
      },
      "source": [
        "def document_to_features(document, features):\n",
        "  list_of_features = []\n",
        "  for i, token in enumerate(document):\n",
        "    token_features = {}\n",
        "    for feature_name in features:\n",
        "      feature = features[feature_name]\n",
        "      token_features[feature_name] = feature(token, document, i)\n",
        "    list_of_features.append(token_features)\n",
        "  return list_of_features"
      ],
      "execution_count": null,
      "outputs": []
    },
    {
      "cell_type": "markdown",
      "metadata": {
        "id": "NvZ4Kxr_4eMP"
      },
      "source": [
        "## Функция, которая делает из названия файла X и y (если есть) для алгоритма"
      ]
    },
    {
      "cell_type": "code",
      "metadata": {
        "id": "0eNf36Ub44Z4"
      },
      "source": [
        "def tsv_to_samples(filename, features, is_train=False, tokens='tokens_honest', labels='labels', \n",
        "                   text='text', with_sep='with_sep', unite_punct=False, type_='letters'):\n",
        "  df = open_and_preprocess(filename, text, with_sep, unite_punct, type_)\n",
        "  if is_train:\n",
        "    tokens = 'tokens'\n",
        "    X = list(df[tokens].apply(lambda x:document_to_features(x, features)))\n",
        "    y = list(df[labels])\n",
        "    return (df, X, y)\n",
        "  else:\n",
        "    X = list(df[tokens].apply(lambda x:document_to_features(x, features)))\n",
        "    return (df, X)"
      ],
      "execution_count": null,
      "outputs": []
    },
    {
      "cell_type": "markdown",
      "metadata": {
        "id": "avxThk8EdCMm"
      },
      "source": [
        "## Открываем тренировочную выборку"
      ]
    },
    {
      "cell_type": "code",
      "metadata": {
        "id": "QWIz0gNDzaDD"
      },
      "source": [
        "df_train, X_train, y_train = tsv_to_samples(\"train.tsv\", features, is_train=True)"
      ],
      "execution_count": null,
      "outputs": []
    },
    {
      "cell_type": "code",
      "metadata": {
        "id": "1-Imb1nfBKu_",
        "colab": {
          "base_uri": "https://localhost:8080/",
          "height": 759
        },
        "outputId": "d0bb8f76-0db0-46b6-ce23-ecf62b4930bb"
      },
      "source": [
        "df_train"
      ],
      "execution_count": null,
      "outputs": [
        {
          "output_type": "execute_result",
          "data": {
            "text/html": [
              "<div>\n",
              "<style scoped>\n",
              "    .dataframe tbody tr th:only-of-type {\n",
              "        vertical-align: middle;\n",
              "    }\n",
              "\n",
              "    .dataframe tbody tr th {\n",
              "        vertical-align: top;\n",
              "    }\n",
              "\n",
              "    .dataframe thead th {\n",
              "        text-align: right;\n",
              "    }\n",
              "</style>\n",
              "<table border=\"1\" class=\"dataframe\">\n",
              "  <thead>\n",
              "    <tr style=\"text-align: right;\">\n",
              "      <th></th>\n",
              "      <th>text</th>\n",
              "      <th>with_sep</th>\n",
              "      <th>tokens_with_sep</th>\n",
              "      <th>tokens</th>\n",
              "      <th>tokens_honest</th>\n",
              "      <th>labels</th>\n",
              "    </tr>\n",
              "  </thead>\n",
              "  <tbody>\n",
              "    <tr>\n",
              "      <th>0</th>\n",
              "      <td>Ri numam xkamik are taq kʼo jumuchʼ lajuj ujun...</td>\n",
              "      <td>Ri nu&gt;mam x&gt;kamik are taq kʼo jumuchʼ lajuj u&gt;...</td>\n",
              "      <td>[R, i,  , n, u, &gt;, m, a, m,  , x, &gt;, k, a, m, ...</td>\n",
              "      <td>[R, i,  , n, u, m, a, m,  , x, k, a, m, i, k, ...</td>\n",
              "      <td>[R, i,  , n, u, m, a, m,  , x, k, a, m, i, k, ...</td>\n",
              "      <td>[b-morph, e-morph,  , b-morph, e-morph, b-morp...</td>\n",
              "    </tr>\n",
              "    <tr>\n",
              "      <th>1</th>\n",
              "      <td>Nojel qʼij ri a Tiʼx kuyuqʼuj le taq awaj jela...</td>\n",
              "      <td>Nojel qʼij ri a Tiʼx k&gt;u&gt;yuqʼuj le taq awaj je...</td>\n",
              "      <td>[N, o, j, e, l,  , qʼ, i, j,  , r, i,  , a,  ,...</td>\n",
              "      <td>[N, o, j, e, l,  , qʼ, i, j,  , r, i,  , a,  ,...</td>\n",
              "      <td>[N, o, j, e, l,  , qʼ, i, j,  , r, i,  , a,  ,...</td>\n",
              "      <td>[b-morph, m-morph, m-morph, m-morph, e-morph, ...</td>\n",
              "    </tr>\n",
              "    <tr>\n",
              "      <th>2</th>\n",
              "      <td>Kateʼbʼin .</td>\n",
              "      <td>K&gt;at&gt;eʼ&gt;bʼin .</td>\n",
              "      <td>[K, &gt;, a, t, &gt;, e, ʼ, &gt;, bʼ, i, n,  , .]</td>\n",
              "      <td>[K, a, t, e, ʼ, bʼ, i, n,  , .]</td>\n",
              "      <td>[K, a, t, e, ʼ, bʼ, i, n,  , .]</td>\n",
              "      <td>[s-morph, b-morph, e-morph, b-morph, e-morph, ...</td>\n",
              "    </tr>\n",
              "    <tr>\n",
              "      <th>3</th>\n",
              "      <td>Entonses are kʼwaʼ le kawaj kinbʼij pan in .</td>\n",
              "      <td>Entonses are kʼ&gt;waʼ le k&gt;aw&gt;aj k&gt;in&gt;bʼij pan in .</td>\n",
              "      <td>[E, n, t, o, n, s, e, s,  , a, r, e,  , kʼ, &gt;,...</td>\n",
              "      <td>[E, n, t, o, n, s, e, s,  , a, r, e,  , kʼ, w,...</td>\n",
              "      <td>[E, n, t, o, n, s, e, s,  , a, r, e,  , kʼ, w,...</td>\n",
              "      <td>[b-morph, m-morph, m-morph, m-morph, m-morph, ...</td>\n",
              "    </tr>\n",
              "    <tr>\n",
              "      <th>4</th>\n",
              "      <td>Nim raqan le cheʼ .</td>\n",
              "      <td>Nim r&gt;aqan le cheʼ .</td>\n",
              "      <td>[N, i, m,  , r, &gt;, a, q, a, n,  , l, e,  , ch,...</td>\n",
              "      <td>[N, i, m,  , r, a, q, a, n,  , l, e,  , ch, e,...</td>\n",
              "      <td>[N, i, m,  , r, a, q, a, n,  , l, e,  , ch, e,...</td>\n",
              "      <td>[b-morph, m-morph, e-morph,  , s-morph, b-morp...</td>\n",
              "    </tr>\n",
              "    <tr>\n",
              "      <th>...</th>\n",
              "      <td>...</td>\n",
              "      <td>...</td>\n",
              "      <td>...</td>\n",
              "      <td>...</td>\n",
              "      <td>...</td>\n",
              "      <td>...</td>\n",
              "    </tr>\n",
              "    <tr>\n",
              "      <th>1467</th>\n",
              "      <td>Xax rij mansaʼn .</td>\n",
              "      <td>Xax r&gt;ij mansaʼn .</td>\n",
              "      <td>[X, a, x,  , r, &gt;, i, j,  , m, a, n, s, a, ʼ, ...</td>\n",
              "      <td>[X, a, x,  , r, i, j,  , m, a, n, s, a, ʼ, n, ...</td>\n",
              "      <td>[X, a, x,  , r, i, j,  , m, a, n, s, a, ʼ, n, ...</td>\n",
              "      <td>[b-morph, m-morph, e-morph,  , s-morph, b-morp...</td>\n",
              "    </tr>\n",
              "    <tr>\n",
              "      <th>1468</th>\n",
              "      <td>Man kʼo ta pwaq chech ri umuqubʼal .</td>\n",
              "      <td>Man kʼo ta pwaq ch&gt;ech ri u&gt;muqubʼal .</td>\n",
              "      <td>[M, a, n,  , kʼ, o,  , t, a,  , p, w, a, q,  ,...</td>\n",
              "      <td>[M, a, n,  , kʼ, o,  , t, a,  , p, w, a, q,  ,...</td>\n",
              "      <td>[M, a, n,  , kʼ, o,  , t, a,  , p, w, a, q,  ,...</td>\n",
              "      <td>[b-morph, m-morph, e-morph,  , b-morph, e-morp...</td>\n",
              "    </tr>\n",
              "    <tr>\n",
              "      <th>1469</th>\n",
              "      <td>Rajawaxik kakʼaman chawe le utijik le lej .</td>\n",
              "      <td>Rajawaxik ka&gt;kʼaman ch&gt;aw&gt;e le u&gt;tij&gt;ik le lej .</td>\n",
              "      <td>[R, a, j, a, w, a, x, i, k,  , k, a, &gt;, kʼ, a,...</td>\n",
              "      <td>[R, a, j, a, w, a, x, i, k,  , k, a, kʼ, a, m,...</td>\n",
              "      <td>[R, a, j, a, w, a, x, i, k,  , k, a, kʼ, a, m,...</td>\n",
              "      <td>[b-morph, m-morph, m-morph, m-morph, m-morph, ...</td>\n",
              "    </tr>\n",
              "    <tr>\n",
              "      <th>1470</th>\n",
              "      <td>Sipojinaq ri nupam .</td>\n",
              "      <td>Sipojinaq ri nu&gt;pam .</td>\n",
              "      <td>[S, i, p, o, j, i, n, a, q,  , r, i,  , n, u, ...</td>\n",
              "      <td>[S, i, p, o, j, i, n, a, q,  , r, i,  , n, u, ...</td>\n",
              "      <td>[S, i, p, o, j, i, n, a, q,  , r, i,  , n, u, ...</td>\n",
              "      <td>[b-morph, m-morph, m-morph, m-morph, m-morph, ...</td>\n",
              "    </tr>\n",
              "    <tr>\n",
              "      <th>1471</th>\n",
              "      <td>Xinbʼe .</td>\n",
              "      <td>X&gt;in&gt;bʼe .</td>\n",
              "      <td>[X, &gt;, i, n, &gt;, bʼ, e,  , .]</td>\n",
              "      <td>[X, i, n, bʼ, e,  , .]</td>\n",
              "      <td>[X, i, n, bʼ, e,  , .]</td>\n",
              "      <td>[s-morph, b-morph, e-morph, b-morph, e-morph, ...</td>\n",
              "    </tr>\n",
              "  </tbody>\n",
              "</table>\n",
              "<p>1472 rows × 6 columns</p>\n",
              "</div>"
            ],
            "text/plain": [
              "                                                   text  ...                                             labels\n",
              "0     Ri numam xkamik are taq kʼo jumuchʼ lajuj ujun...  ...  [b-morph, e-morph,  , b-morph, e-morph, b-morp...\n",
              "1     Nojel qʼij ri a Tiʼx kuyuqʼuj le taq awaj jela...  ...  [b-morph, m-morph, m-morph, m-morph, e-morph, ...\n",
              "2                                           Kateʼbʼin .  ...  [s-morph, b-morph, e-morph, b-morph, e-morph, ...\n",
              "3          Entonses are kʼwaʼ le kawaj kinbʼij pan in .  ...  [b-morph, m-morph, m-morph, m-morph, m-morph, ...\n",
              "4                                   Nim raqan le cheʼ .  ...  [b-morph, m-morph, e-morph,  , s-morph, b-morp...\n",
              "...                                                 ...  ...                                                ...\n",
              "1467                                  Xax rij mansaʼn .  ...  [b-morph, m-morph, e-morph,  , s-morph, b-morp...\n",
              "1468               Man kʼo ta pwaq chech ri umuqubʼal .  ...  [b-morph, m-morph, e-morph,  , b-morph, e-morp...\n",
              "1469        Rajawaxik kakʼaman chawe le utijik le lej .  ...  [b-morph, m-morph, m-morph, m-morph, m-morph, ...\n",
              "1470                               Sipojinaq ri nupam .  ...  [b-morph, m-morph, m-morph, m-morph, m-morph, ...\n",
              "1471                                           Xinbʼe .  ...  [s-morph, b-morph, e-morph, b-morph, e-morph, ...\n",
              "\n",
              "[1472 rows x 6 columns]"
            ]
          },
          "metadata": {
            "tags": []
          },
          "execution_count": 115
        }
      ]
    },
    {
      "cell_type": "markdown",
      "metadata": {
        "id": "hsYb0Hile86h"
      },
      "source": [
        "## Функция, которая предсказывает лейблы и считает скор "
      ]
    },
    {
      "cell_type": "markdown",
      "metadata": {
        "id": "7_J9aS9wesvt"
      },
      "source": [
        "### Функция, которая превращает предсказанные лейблы в текст"
      ]
    },
    {
      "cell_type": "code",
      "metadata": {
        "id": "bDVXcuC-g-3n"
      },
      "source": [
        "def to_text(tokens, labels):\n",
        "  sep = '>'\n",
        "  #d = dict(zip(tokens, labels))\n",
        "  answer = ''\n",
        "  for i in range(len(tokens)-1):\n",
        "    previous = tokens[i-1]\n",
        "    token = tokens[i]\n",
        "    next_ = tokens[i+1]\n",
        "    label = labels[i] \n",
        "    #if label in ['b-morph'] and previous not in punctuation:\n",
        "      #answer += sep\n",
        "    answer += token\n",
        "    if label in ['s-morph', 'e-morph'] and next_ not in punctuation:\n",
        "    #if label in ['sep'] and next_ not in punctuation:\n",
        "      answer += sep\n",
        "  answer += tokens[-1]\n",
        "  answer = answer.replace(sep+sep, sep)\n",
        "  return answer"
      ],
      "execution_count": null,
      "outputs": []
    },
    {
      "cell_type": "markdown",
      "metadata": {
        "id": "DD1U3aoee-Ut"
      },
      "source": [
        "### Две функции для подсчёта скора (из evaluation.py Франа)"
      ]
    },
    {
      "cell_type": "code",
      "metadata": {
        "id": "i-qiwgYruxiS"
      },
      "source": [
        "def evaluate(ref, hyp):\n",
        "\t\"\"\"\n",
        "\t\tTakes two strings, a reference and an output from the system, e.g.\n",
        "\t\t  ref = ch>aw>e\n",
        "\t\t  hyp = ch>awe\n",
        "\t\tand produces the precision, recall and F-score, e.g.\n",
        "\t\t  P = 1/3 = 0.333\n",
        "\t\t  R = 1/2 = 0.5\n",
        "\t\t  F = 2.0 / ((1.0/0.333)+(1/0.5)) = 0.3997\n",
        "\t\"\"\"\n",
        "\tref = ref.split('>')\n",
        "\tsys = hyp.split('>')\n",
        "\tres = copy.copy(sys)\n",
        "\t\n",
        "\t# Find out how many matches we got, this way we can check for matches\n",
        "\t# that are duplicated\n",
        "\tmatched = 0\n",
        "\tfor r in ref:\n",
        "\t\tif r in res:\n",
        "\t\t\tmatched += 1\n",
        "\t\t\tres.remove(r)\n",
        "\t\n",
        "\t# If we got 0 matches then we can't calculate a score, return 0s\n",
        "\tif matched == 0:\n",
        "\t\treturn (0.0, 0.0, 0.0)\n",
        "\t\n",
        "\t# Calculate precision and recall\n",
        "\tP = matched/len(ref)\n",
        "\tR = matched/len(sys)\n",
        "\n",
        "\t# Calculate F-score\n",
        "\tF = 2.0 / ((1.0/P)+(1.0/R))\n",
        "\n",
        "\treturn (P, R, F)"
      ],
      "execution_count": null,
      "outputs": []
    },
    {
      "cell_type": "code",
      "metadata": {
        "id": "Otst5IHrKXlw"
      },
      "source": [
        "def scores(ref, tst):\n",
        "    n_tokens = 0\n",
        "    n_sents = 0\n",
        "\n",
        "    ref_file = open(ref)\n",
        "    ref_line = ref_file.readline().strip()\n",
        "    tst_file = open(tst)\n",
        "    tst_line = tst_file.readline().strip()\n",
        "\n",
        "    Ps = []\n",
        "    Rs = []\n",
        "    Fs = []\n",
        "\n",
        "    # Read the ref and test files line by line\n",
        "    while ref_line and tst_line:\n",
        "    #\tprint(ref_line, '|||', tst_line)\t\n",
        "\n",
        "      ref_row = ref_line.split('\\t')\n",
        "      tst_row = tst_line.split('\\t')\n",
        "\n",
        "      if ref_row[0] != tst_row[0]:\n",
        "        print('ERROR: Ref and test files are misaligned:', file=sys.stderr)\n",
        "        print(ref_row)\n",
        "        print(tst_row)\n",
        "\n",
        "      ref = ref_row[1].split(' ')\n",
        "      hyp = tst_row[1].split(' ')\n",
        "\n",
        "      # Collect the individual precision and recalls\n",
        "      for (r, h) in zip(ref, hyp):\n",
        "        (p, r, f) = evaluate(r, h)\n",
        "        Ps.append(p)\n",
        "        Rs.append(r)\n",
        "        Fs.append(f)\n",
        "\n",
        "      # Update the number of tokens and sentences\n",
        "      n_tokens += len(ref)\t\n",
        "      n_sents += 1\n",
        "\n",
        "      ref_line = ref_file.readline().strip()\n",
        "      tst_line = tst_file.readline().strip()\n",
        "\n",
        "    ref_file.close()\n",
        "    tst_file.close()\n",
        "\n",
        "#    print('%d sentences read, %d tokens' % (n_sents, n_tokens))\n",
        "    # Average the precision and recall over the number of tokens\n",
        "\n",
        "    precision = sum(Ps)/n_tokens\n",
        "    recall = sum(Rs)/n_tokens\n",
        "    f_measure = sum(Fs)/n_tokens\n",
        "#    print('P:', precision)\n",
        "#    print('R:', recall)\n",
        "#    print('F:', f_measure)\n",
        "\n",
        "    answer = {\n",
        "        'precision' : precision,\n",
        "        'recall' : recall,\n",
        "        'f-measure' : f_measure}\n",
        "    return answer"
      ],
      "execution_count": null,
      "outputs": []
    },
    {
      "cell_type": "markdown",
      "metadata": {
        "id": "-u_qpDhEfeJs"
      },
      "source": [
        "### Собственно функция, которая предсказывает лейблы и считает скор\n"
      ]
    },
    {
      "cell_type": "code",
      "metadata": {
        "id": "AK-HCVR3fpgc"
      },
      "source": [
        "def predict_and_score(crf, df, X, name='dev'):\n",
        "  #предсказываем\n",
        "  y = crf.predict(X)\n",
        "  df['predicted_labels'] = y\n",
        "  #превращаем в лейблы\n",
        "  df['output'] = df.apply(lambda row: to_text(row['tokens_honest'], row['predicted_labels']), axis=1)\n",
        "  #записываем в tsv\n",
        "  df_output = df[['text', 'output']]\n",
        "  filename = name+'_'+'output.tsv'\n",
        "  df_output.to_csv(filename, sep='\\t', encoding='utf-8', header=False, index=False)\n",
        "  #считаем скор\n",
        "  ref = filename\n",
        "  tst = name + '.tsv'\n",
        "  return scores(ref, tst)\n",
        "\n"
      ],
      "execution_count": null,
      "outputs": []
    },
    {
      "cell_type": "markdown",
      "metadata": {
        "id": "3eOpx3hiczY3"
      },
      "source": [
        "## Создаём алгоритм и обучаем его"
      ]
    },
    {
      "cell_type": "markdown",
      "metadata": {
        "id": "o3Xh5SZr2QNP"
      },
      "source": [
        "Создаём"
      ]
    },
    {
      "cell_type": "code",
      "metadata": {
        "id": "ipPrRsWYaNdO"
      },
      "source": [
        "crf = sklearn_crfsuite.CRF(\n",
        "    algorithm='ap',\n",
        "    max_iterations=100,\n",
        "    #algorithm='lbfgs',\n",
        "    #c1=0.2,\n",
        "    #c2=0.1,\n",
        "    #max_iterations=500,\n",
        "    all_possible_transitions=False\n",
        ")"
      ],
      "execution_count": null,
      "outputs": []
    },
    {
      "cell_type": "markdown",
      "metadata": {
        "id": "RG1uLV5yc1OZ"
      },
      "source": [
        "Обучаем"
      ]
    },
    {
      "cell_type": "code",
      "metadata": {
        "id": "UWBlc9JDcV8Z",
        "colab": {
          "base_uri": "https://localhost:8080/"
        },
        "outputId": "797a5ba7-b0bc-49ce-937a-4af7b744fa80"
      },
      "source": [
        "%%time\n",
        "crf.fit(X_train, y_train)"
      ],
      "execution_count": null,
      "outputs": [
        {
          "output_type": "stream",
          "text": [
            "CPU times: user 3.23 s, sys: 18.4 ms, total: 3.25 s\n",
            "Wall time: 3.28 s\n"
          ],
          "name": "stdout"
        },
        {
          "output_type": "stream",
          "text": [
            "/usr/local/lib/python3.7/dist-packages/sklearn/base.py:197: FutureWarning: From version 0.24, get_params will raise an AttributeError if a parameter cannot be retrieved as an instance attribute. Previously it would return None.\n",
            "  FutureWarning)\n"
          ],
          "name": "stderr"
        },
        {
          "output_type": "execute_result",
          "data": {
            "text/plain": [
              "CRF(algorithm='ap', all_possible_states=None, all_possible_transitions=False,\n",
              "    averaging=None, c=None, c1=None, c2=None, calibration_candidates=None,\n",
              "    calibration_eta=None, calibration_max_trials=None, calibration_rate=None,\n",
              "    calibration_samples=None, delta=None, epsilon=None, error_sensitive=None,\n",
              "    gamma=None, keep_tempfiles=None, linesearch=None, max_iterations=100,\n",
              "    max_linesearch=None, min_freq=None, model_filename=None, num_memories=None,\n",
              "    pa_type=None, period=None, trainer_cls=None, variance=None, verbose=False)"
            ]
          },
          "metadata": {
            "tags": []
          },
          "execution_count": 121
        }
      ]
    },
    {
      "cell_type": "markdown",
      "metadata": {
        "id": "vzHI35cGhwos"
      },
      "source": [
        "## Посчитаем скор для dev-выборки с дефолтными параметрами"
      ]
    },
    {
      "cell_type": "markdown",
      "metadata": {
        "id": "O6mKWBQOh6zK"
      },
      "source": [
        "Откроем её"
      ]
    },
    {
      "cell_type": "code",
      "metadata": {
        "id": "2YOOnfbMf2h_"
      },
      "source": [
        "df_dev, X_dev = tsv_to_samples(\"dev.tsv\", features)"
      ],
      "execution_count": null,
      "outputs": []
    },
    {
      "cell_type": "markdown",
      "metadata": {
        "id": "6LkfA6iwh80F"
      },
      "source": [
        "И посчитаем скор"
      ]
    },
    {
      "cell_type": "code",
      "metadata": {
        "id": "4wIg9ttxiFup",
        "colab": {
          "base_uri": "https://localhost:8080/"
        },
        "outputId": "123b6ec1-aa8c-4ced-b48b-dce80545faa0"
      },
      "source": [
        "print(predict_and_score(crf, df_dev, X_dev, name='dev'))"
      ],
      "execution_count": null,
      "outputs": [
        {
          "output_type": "stream",
          "text": [
            "{'precision': 0.9468302658486708, 'recall': 0.9478527607361963, 'f-measure': 0.9468886941279581}\n"
          ],
          "name": "stdout"
        }
      ]
    },
    {
      "cell_type": "markdown",
      "metadata": {
        "id": "awdUqUV5i6vg"
      },
      "source": [
        "И для тестовой выборки"
      ]
    },
    {
      "cell_type": "code",
      "metadata": {
        "id": "mGgJlWvviyxH",
        "colab": {
          "base_uri": "https://localhost:8080/"
        },
        "outputId": "7806a071-aee8-460d-db96-ae9f4884be51"
      },
      "source": [
        "df_test, X_test = tsv_to_samples(\"test.tsv\", features)\n",
        "print(predict_and_score(crf, df_test, X_test, name='test'))"
      ],
      "execution_count": null,
      "outputs": [
        {
          "output_type": "stream",
          "text": [
            "{'precision': 0.9072429445431218, 'recall': 0.9077067298204063, 'f-measure': 0.9071188925540618}\n"
          ],
          "name": "stdout"
        }
      ]
    },
    {
      "cell_type": "markdown",
      "metadata": {
        "id": "20GyG632lSPQ"
      },
      "source": [
        "## Запустим все возможные комбинации свойств и предобработки:\n",
        "1.   Разбивать на буквы или посимвольно\n",
        "2.   Заводить ли отдельный лейбл для пунктуации\n",
        "3.   Все возможные комбинации свойств\n",
        "4.   Выборка\n",
        "\n",
        "\n",
        "\n"
      ]
    },
    {
      "cell_type": "code",
      "metadata": {
        "id": "FP6Nu3rtnUeq"
      },
      "source": [
        "# список фичей\n",
        "all_features = {'token' : lower,\n",
        "            'upper' : is_upper,\n",
        "            'vow_cons' : vow_cons,\n",
        "            'position' : position,\n",
        "            'trigramma' : trigramma,\n",
        "            'Aset' : set_a,\n",
        "            'Bset' : set_b\n",
        "            }"
      ],
      "execution_count": null,
      "outputs": []
    },
    {
      "cell_type": "code",
      "metadata": {
        "id": "gLOVuVaUt9BP"
      },
      "source": [
        "def powerset(seq):\n",
        "    \"\"\"\n",
        "    Returns all the subsets of this set. This is a generator.\n",
        "    \"\"\"\n",
        "    if len(seq) <= 1:\n",
        "        yield seq\n",
        "        yield []\n",
        "    else:\n",
        "        for item in powerset(seq[1:]):\n",
        "            yield [seq[0]]+item\n",
        "            yield item"
      ],
      "execution_count": null,
      "outputs": []
    },
    {
      "cell_type": "code",
      "metadata": {
        "id": "8UllPU2Nmo6P"
      },
      "source": [
        "features_names = list(all_features.keys())"
      ],
      "execution_count": null,
      "outputs": []
    },
    {
      "cell_type": "code",
      "metadata": {
        "id": "ONM41iz32wiY"
      },
      "source": [
        "sample_col = []\n",
        "type_col = []\n",
        "punct_col = []\n",
        "features_col = []\n",
        "score_col = []"
      ],
      "execution_count": null,
      "outputs": []
    },
    {
      "cell_type": "code",
      "metadata": {
        "id": "pblf2mtZlS3C",
        "colab": {
          "base_uri": "https://localhost:8080/"
        },
        "outputId": "69035dd2-a435-49ae-8fde-af14fd982b6b"
      },
      "source": [
        "%%time\n",
        "for type_ in ['letters', 'symbols']:\n",
        "  for unite_punct in [True, False]:\n",
        "    for features_subset in powerset(features_names):\n",
        "      #print(features_subset) \n",
        "      features = {}\n",
        "      for name in features_subset:\n",
        "        features[name] = all_features[name]\n",
        "      # создаём алгоритм\n",
        "      crf = sklearn_crfsuite.CRF(  #тут можно тоже чего-нибудь покрутить будет, например тип алгоритма\n",
        "      algorithm='ap',\n",
        "      max_iterations=100,\n",
        "      all_possible_transitions=False\n",
        "      )  \n",
        "      #открываем тренировочную выборку\n",
        "      df_train, X_train, y_train =  tsv_to_samples('train.tsv', features, is_train=True, unite_punct=unite_punct, type_=type_)\n",
        "      # обучаем алгоритм\n",
        "      crf.fit(X_train, y_train)\n",
        "      for sample in ['dev.tsv', 'test.tsv']:\n",
        "        #открываем выборку\n",
        "        df_sample, X_sample = tsv_to_samples(sample, features, is_train=False, unite_punct=unite_punct, type_=type_)\n",
        "        #предсказываем\n",
        "        score = predict_and_score(crf, df_sample, X_sample, name=sample.split('.')[0])\n",
        "        features_str = [x[:2] for x in features]\n",
        "        f1 = score['f-measure']\n",
        "        sample_col.append(sample)\n",
        "        type_col.append(type_)\n",
        "        punct_col.append(str(unite_punct))\n",
        "        features_col.append(features_str)\n",
        "        score_col.append(f1)\n",
        "        print(sample, type_, str(unite_punct), features_str, f1)"
      ],
      "execution_count": null,
      "outputs": [
        {
          "output_type": "stream",
          "text": [
            "dev.tsv letters True ['to', 'up', 'vo', 'po', 'tr', 'As', 'Bs'] 0.9468886941279581\n",
            "test.tsv letters True ['to', 'up', 'vo', 'po', 'tr', 'As', 'Bs'] 0.9065550198765121\n",
            "dev.tsv letters True ['up', 'vo', 'po', 'tr', 'As', 'Bs'] 0.9468886941279581\n",
            "test.tsv letters True ['up', 'vo', 'po', 'tr', 'As', 'Bs'] 0.9018861541064032\n",
            "dev.tsv letters True ['to', 'vo', 'po', 'tr', 'As', 'Bs'] 0.9432077125328661\n",
            "test.tsv letters True ['to', 'vo', 'po', 'tr', 'As', 'Bs'] 0.9070625052863068\n",
            "dev.tsv letters True ['vo', 'po', 'tr', 'As', 'Bs'] 0.9417470055506866\n",
            "test.tsv letters True ['vo', 'po', 'tr', 'As', 'Bs'] 0.9042544193521107\n",
            "dev.tsv letters True ['to', 'up', 'po', 'tr', 'As', 'Bs'] 0.9427987145778558\n",
            "test.tsv letters True ['to', 'up', 'po', 'tr', 'As', 'Bs'] 0.9038540697510506\n",
            "dev.tsv letters True ['up', 'po', 'tr', 'As', 'Bs'] 0.9468886941279578\n",
            "test.tsv letters True ['up', 'po', 'tr', 'As', 'Bs'] 0.9005892469480397\n",
            "dev.tsv letters True ['to', 'po', 'tr', 'As', 'Bs'] 0.9432077125328661\n",
            "test.tsv letters True ['to', 'po', 'tr', 'As', 'Bs'] 0.9072373058163472\n",
            "dev.tsv letters True ['po', 'tr', 'As', 'Bs'] 0.9379491673970201\n",
            "test.tsv letters True ['po', 'tr', 'As', 'Bs'] 0.9018184893850972\n",
            "dev.tsv letters True ['to', 'up', 'vo', 'tr', 'As', 'Bs'] 0.9379491673970201\n",
            "test.tsv letters True ['to', 'up', 'vo', 'tr', 'As', 'Bs'] 0.9041754771772537\n",
            "dev.tsv letters True ['up', 'vo', 'tr', 'As', 'Bs'] 0.9364884604148409\n",
            "test.tsv letters True ['up', 'vo', 'tr', 'As', 'Bs'] 0.899303617243227\n",
            "dev.tsv letters True ['to', 'vo', 'tr', 'As', 'Bs'] 0.9432077125328661\n",
            "test.tsv letters True ['to', 'vo', 'tr', 'As', 'Bs'] 0.9086582649637716\n",
            "dev.tsv letters True ['vo', 'tr', 'As', 'Bs'] 0.9391177329827637\n",
            "test.tsv letters True ['vo', 'tr', 'As', 'Bs'] 0.9017677408441179\n",
            "dev.tsv letters True ['to', 'up', 'tr', 'As', 'Bs'] 0.9432077125328661\n",
            "test.tsv letters True ['to', 'up', 'tr', 'As', 'Bs'] 0.9043277228001921\n",
            "dev.tsv letters True ['up', 'tr', 'As', 'Bs'] 0.9293017820625185\n",
            "test.tsv letters True ['up', 'tr', 'As', 'Bs'] 0.893038991795653\n",
            "dev.tsv letters True ['to', 'tr', 'As', 'Bs'] 0.9432077125328661\n",
            "test.tsv letters True ['to', 'tr', 'As', 'Bs'] 0.9085229355211598\n",
            "dev.tsv letters True ['tr', 'As', 'Bs'] 0.9272567922874673\n",
            "test.tsv letters True ['tr', 'As', 'Bs'] 0.898779215653106\n",
            "dev.tsv letters True ['to', 'up', 'vo', 'po', 'As', 'Bs'] 0.8796961729477069\n",
            "test.tsv letters True ['to', 'up', 'vo', 'po', 'As', 'Bs'] 0.8146776057966112\n",
            "dev.tsv letters True ['up', 'vo', 'po', 'As', 'Bs'] 0.747239263803681\n",
            "test.tsv letters True ['up', 'vo', 'po', 'As', 'Bs'] 0.7841523583974739\n",
            "dev.tsv letters True ['to', 'vo', 'po', 'As', 'Bs'] 0.8796961729477069\n",
            "test.tsv letters True ['to', 'vo', 'po', 'As', 'Bs'] 0.8202148354901463\n",
            "dev.tsv letters True ['vo', 'po', 'As', 'Bs'] 0.747239263803681\n",
            "test.tsv letters True ['vo', 'po', 'As', 'Bs'] 0.778823761594632\n",
            "dev.tsv letters True ['to', 'up', 'po', 'As', 'Bs'] 0.8796961729477069\n",
            "test.tsv letters True ['to', 'up', 'po', 'As', 'Bs'] 0.8168992641461559\n",
            "dev.tsv letters True ['up', 'po', 'As', 'Bs'] 0.7521472392638038\n",
            "test.tsv letters True ['up', 'po', 'As', 'Bs'] 0.7679438382813161\n",
            "dev.tsv letters True ['to', 'po', 'As', 'Bs'] 0.8796961729477069\n",
            "test.tsv letters True ['to', 'po', 'As', 'Bs'] 0.8198765118836167\n",
            "dev.tsv letters True ['po', 'As', 'Bs'] 0.7521472392638038\n",
            "test.tsv letters True ['po', 'As', 'Bs'] 0.7743550706250529\n",
            "dev.tsv letters True ['to', 'up', 'vo', 'As', 'Bs'] 0.8735612036225535\n",
            "test.tsv letters True ['to', 'up', 'vo', 'As', 'Bs'] 0.8162113394795455\n",
            "dev.tsv letters True ['up', 'vo', 'As', 'Bs'] 0.7558282208588958\n",
            "test.tsv letters True ['up', 'vo', 'As', 'Bs'] 0.7875581493698723\n",
            "dev.tsv letters True ['to', 'vo', 'As', 'Bs'] 0.8796961729477069\n",
            "test.tsv letters True ['to', 'vo', 'As', 'Bs'] 0.8209478699709606\n",
            "dev.tsv letters True ['vo', 'As', 'Bs'] 0.7533742331288344\n",
            "test.tsv letters True ['vo', 'As', 'Bs'] 0.781586737714624\n",
            "dev.tsv letters True ['to', 'up', 'As', 'Bs'] 0.8735612036225535\n",
            "test.tsv letters True ['to', 'up', 'As', 'Bs'] 0.8154444726380783\n",
            "dev.tsv letters True ['up', 'As', 'Bs'] 0.4817411627227578\n",
            "test.tsv letters True ['up', 'As', 'Bs'] 0.4616862612422105\n",
            "dev.tsv letters True ['to', 'As', 'Bs'] 0.8735612036225535\n",
            "test.tsv letters True ['to', 'As', 'Bs'] 0.8200625898672079\n",
            "dev.tsv letters True ['As', 'Bs'] 0.482150160677768\n",
            "test.tsv letters True ['As', 'Bs'] 0.45004229045081484\n",
            "dev.tsv letters True ['to', 'up', 'vo', 'po', 'tr', 'Bs'] 0.9432077125328661\n",
            "test.tsv letters True ['to', 'up', 'vo', 'po', 'tr', 'Bs'] 0.9034424426964395\n",
            "dev.tsv letters True ['up', 'vo', 'po', 'tr', 'Bs'] 0.9353198948290975\n",
            "test.tsv letters True ['up', 'vo', 'po', 'tr', 'Bs'] 0.9028334602046861\n",
            "dev.tsv letters True ['to', 'vo', 'po', 'tr', 'Bs'] 0.9432077125328661\n",
            "test.tsv letters True ['to', 'vo', 'po', 'tr', 'Bs'] 0.9070963376469597\n",
            "dev.tsv letters True ['vo', 'po', 'tr', 'Bs'] 0.9495179666958808\n",
            "test.tsv letters True ['vo', 'po', 'tr', 'Bs'] 0.9043728326143959\n",
            "dev.tsv letters True ['to', 'up', 'po', 'tr', 'Bs'] 0.9379491673970201\n",
            "test.tsv letters True ['to', 'up', 'po', 'tr', 'Bs'] 0.9022244777129327\n",
            "dev.tsv letters True ['up', 'po', 'tr', 'Bs'] 0.9395267309377738\n",
            "test.tsv letters True ['up', 'po', 'tr', 'Bs'] 0.9002622007950609\n",
            "dev.tsv letters True ['to', 'po', 'tr', 'Bs'] 0.9432077125328661\n",
            "test.tsv letters True ['to', 'po', 'tr', 'Bs'] 0.9066226845978185\n",
            "dev.tsv letters True ['po', 'tr', 'Bs'] 0.9395267309377738\n",
            "test.tsv letters True ['po', 'tr', 'Bs'] 0.9032394485325217\n",
            "dev.tsv letters True ['to', 'up', 'vo', 'tr', 'Bs'] 0.9432077125328661\n",
            "test.tsv letters True ['to', 'up', 'vo', 'tr', 'Bs'] 0.9032620034396235\n",
            "dev.tsv letters True ['up', 'vo', 'tr', 'Bs'] 0.9275489336839029\n",
            "test.tsv letters True ['up', 'vo', 'tr', 'Bs'] 0.9014632495982411\n",
            "dev.tsv letters True ['to', 'vo', 'tr', 'Bs'] 0.9432077125328661\n",
            "test.tsv letters True ['to', 'vo', 'tr', 'Bs'] 0.9065550198765124\n",
            "dev.tsv letters True ['vo', 'tr', 'Bs'] 0.9395267309377738\n",
            "test.tsv letters True ['vo', 'tr', 'Bs'] 0.9030420930953794\n",
            "dev.tsv letters True ['to', 'up', 'tr', 'Bs'] 0.9432077125328661\n",
            "test.tsv letters True ['to', 'up', 'tr', 'Bs'] 0.9034762750570925\n",
            "dev.tsv letters True ['up', 'tr', 'Bs'] 0.9236342389716623\n",
            "test.tsv letters True ['up', 'tr', 'Bs'] 0.8922890411345124\n",
            "dev.tsv letters True ['to', 'tr', 'Bs'] 0.9432077125328661\n",
            "test.tsv letters True ['to', 'tr', 'Bs'] 0.906368941892921\n",
            "dev.tsv letters True ['tr', 'Bs'] 0.9356120362255332\n",
            "test.tsv letters True ['tr', 'Bs'] 0.8969466294510704\n",
            "dev.tsv letters True ['to', 'up', 'vo', 'po', 'Bs'] 0.8580192813321651\n",
            "test.tsv letters True ['to', 'up', 'vo', 'po', 'Bs'] 0.8021539936282389\n",
            "dev.tsv letters True ['up', 'vo', 'po', 'Bs'] 0.7484662576687117\n",
            "test.tsv letters True ['up', 'vo', 'po', 'Bs'] 0.786145648312611\n",
            "dev.tsv letters True ['to', 'vo', 'po', 'Bs'] 0.8641542506573183\n",
            "test.tsv letters True ['to', 'vo', 'po', 'Bs'] 0.8155346922664863\n",
            "dev.tsv letters True ['vo', 'po', 'Bs'] 0.7484662576687117\n",
            "test.tsv letters True ['vo', 'po', 'Bs'] 0.7796329188869153\n",
            "dev.tsv letters True ['to', 'up', 'po', 'Bs'] 0.8518843120070118\n",
            "test.tsv letters True ['to', 'up', 'po', 'Bs'] 0.8039316022442136\n",
            "dev.tsv letters True ['up', 'po', 'Bs'] 0.7337423312883435\n",
            "test.tsv letters True ['up', 'po', 'Bs'] 0.7519242155121374\n",
            "dev.tsv letters True ['to', 'po', 'Bs'] 0.8580192813321651\n",
            "test.tsv letters True ['to', 'po', 'Bs'] 0.8039090473371115\n",
            "dev.tsv letters True ['po', 'Bs'] 0.7337423312883435\n",
            "test.tsv letters True ['po', 'Bs'] 0.7564239194789816\n",
            "dev.tsv letters True ['to', 'up', 'vo', 'Bs'] 0.8420683610867662\n",
            "test.tsv letters True ['to', 'up', 'vo', 'Bs'] 0.8025275592771153\n",
            "dev.tsv letters True ['up', 'vo', 'Bs'] 0.7619631901840492\n",
            "test.tsv letters True ['up', 'vo', 'Bs'] 0.7792776791000592\n",
            "dev.tsv letters True ['to', 'vo', 'Bs'] 0.8482033304119196\n",
            "test.tsv letters True ['to', 'vo', 'Bs'] 0.8063957258451043\n",
            "dev.tsv letters True ['vo', 'Bs'] 0.7484662576687117\n",
            "test.tsv letters True ['vo', 'Bs'] 0.7790408525754884\n",
            "dev.tsv letters True ['to', 'up', 'Bs'] 0.8457493426818584\n",
            "test.tsv letters True ['to', 'up', 'Bs'] 0.8028827990639714\n",
            "dev.tsv letters True ['up', 'Bs'] 0.49973707274320744\n",
            "test.tsv letters True ['up', 'Bs'] 0.44357796009660927\n",
            "dev.tsv letters True ['to', 'Bs'] 0.8457493426818584\n",
            "test.tsv letters True ['to', 'Bs'] 0.810934900899377\n",
            "dev.tsv letters True ['Bs'] 0.5013730645632484\n",
            "test.tsv letters True ['Bs'] 0.4390077720450711\n",
            "dev.tsv letters True ['to', 'up', 'vo', 'po', 'tr', 'As'] 0.9427987145778558\n",
            "test.tsv letters True ['to', 'up', 'vo', 'po', 'tr', 'As'] 0.9076263779638561\n",
            "dev.tsv letters True ['up', 'vo', 'po', 'tr', 'As'] 0.9375401694420099\n",
            "test.tsv letters True ['up', 'vo', 'po', 'tr', 'As'] 0.9029236798330943\n",
            "dev.tsv letters True ['to', 'vo', 'po', 'tr', 'As'] 0.9468886941279581\n",
            "test.tsv letters True ['to', 'vo', 'po', 'tr', 'As'] 0.9078124559474475\n",
            "dev.tsv letters True ['vo', 'po', 'tr', 'As'] 0.9464796961729476\n",
            "test.tsv letters True ['vo', 'po', 'tr', 'As'] 0.9052693901716996\n",
            "dev.tsv letters True ['to', 'up', 'po', 'tr', 'As'] 0.9468886941279581\n",
            "test.tsv letters True ['to', 'up', 'po', 'tr', 'As'] 0.9040739800952948\n",
            "dev.tsv letters True ['up', 'po', 'tr', 'As'] 0.9405784399649431\n",
            "test.tsv letters True ['up', 'po', 'tr', 'As'] 0.9004651949589788\n",
            "dev.tsv letters True ['to', 'po', 'tr', 'As'] 0.9464796961729476\n",
            "test.tsv letters True ['to', 'po', 'tr', 'As'] 0.9095886548817281\n",
            "dev.tsv letters True ['po', 'tr', 'As'] 0.9468886941279581\n",
            "test.tsv letters True ['po', 'tr', 'As'] 0.9026642984014216\n",
            "dev.tsv letters True ['to', 'up', 'vo', 'tr', 'As'] 0.9427987145778558\n",
            "test.tsv letters True ['to', 'up', 'vo', 'tr', 'As'] 0.9044292198821509\n",
            "dev.tsv letters True ['up', 'vo', 'tr', 'As'] 0.9391177329827637\n",
            "test.tsv letters True ['up', 'vo', 'tr', 'As'] 0.9007414925709779\n",
            "dev.tsv letters True ['to', 'vo', 'tr', 'As'] 0.9432077125328661\n",
            "test.tsv letters True ['to', 'vo', 'tr', 'As'] 0.9087879556796078\n",
            "dev.tsv letters True ['vo', 'tr', 'As'] 0.9375401694420099\n",
            "test.tsv letters True ['vo', 'tr', 'As'] 0.903092841636359\n",
            "dev.tsv letters True ['to', 'up', 'tr', 'As'] 0.9432077125328661\n",
            "test.tsv letters True ['to', 'up', 'tr', 'As'] 0.9030082607347264\n",
            "dev.tsv letters True ['up', 'tr', 'As'] 0.9256208004674263\n",
            "test.tsv letters True ['up', 'tr', 'As'] 0.8927908878175315\n",
            "dev.tsv letters True ['to', 'tr', 'As'] 0.9468886941279581\n",
            "test.tsv letters True ['to', 'tr', 'As'] 0.9099100623079314\n",
            "dev.tsv letters True ['tr', 'As'] 0.9256208004674263\n",
            "test.tsv letters True ['tr', 'As'] 0.901232061800446\n",
            "dev.tsv letters True ['to', 'up', 'vo', 'po', 'As'] 0.8796961729477069\n",
            "test.tsv letters True ['to', 'up', 'vo', 'po', 'As'] 0.820330429389044\n",
            "dev.tsv letters True ['up', 'vo', 'po', 'As'] 0.7558282208588958\n",
            "test.tsv letters True ['up', 'vo', 'po', 'As'] 0.7896021878259889\n",
            "dev.tsv letters True ['to', 'vo', 'po', 'As'] 0.8796961729477069\n",
            "test.tsv letters True ['to', 'vo', 'po', 'As'] 0.8267191068256788\n",
            "dev.tsv letters True ['vo', 'po', 'As'] 0.7468302658486708\n",
            "test.tsv letters True ['vo', 'po', 'As'] 0.7787363613296119\n",
            "dev.tsv letters True ['to', 'up', 'po', 'As'] 0.8821501606777683\n",
            "test.tsv letters True ['to', 'up', 'po', 'As'] 0.8216329752741832\n",
            "dev.tsv letters True ['up', 'po', 'As'] 0.7521472392638038\n",
            "test.tsv letters True ['up', 'po', 'As'] 0.7664213820519328\n",
            "dev.tsv letters True ['to', 'po', 'As'] 0.8821501606777683\n",
            "test.tsv letters True ['to', 'po', 'As'] 0.825236121683724\n",
            "dev.tsv letters True ['po', 'As'] 0.7521472392638038\n",
            "test.tsv letters True ['po', 'As'] 0.7738814175759114\n",
            "dev.tsv letters True ['to', 'up', 'vo', 'As'] 0.8772421852176455\n",
            "test.tsv letters True ['to', 'up', 'vo', 'As'] 0.82079844371141\n",
            "dev.tsv letters True ['up', 'vo', 'As'] 0.7558282208588958\n",
            "test.tsv letters True ['up', 'vo', 'As'] 0.7874707491048522\n",
            "dev.tsv letters True ['to', 'vo', 'As'] 0.8735612036225535\n",
            "test.tsv letters True ['to', 'vo', 'As'] 0.8250613211536835\n",
            "dev.tsv letters True ['vo', 'As'] 0.7558282208588958\n",
            "test.tsv letters True ['vo', 'As'] 0.784273591023147\n",
            "dev.tsv letters True ['to', 'up', 'As'] 0.8735612036225535\n",
            "test.tsv letters True ['to', 'up', 'As'] 0.8211762384053681\n",
            "dev.tsv letters True ['up', 'As'] 0.48624014022787015\n",
            "test.tsv letters True ['up', 'As'] 0.449832717772326\n",
            "dev.tsv letters True ['to', 'As'] 0.8735612036225535\n",
            "test.tsv letters True ['to', 'As'] 0.8248075784487864\n",
            "dev.tsv letters True ['As'] 0.485188431200701\n",
            "test.tsv letters True ['As'] 0.4517418966797284\n",
            "dev.tsv letters True ['to', 'up', 'vo', 'po', 'tr'] 0.9453111305872042\n",
            "test.tsv letters True ['to', 'up', 'vo', 'po', 'tr'] 0.9031041190899097\n",
            "dev.tsv letters True ['up', 'vo', 'po', 'tr'] 0.9432077125328661\n",
            "test.tsv letters True ['up', 'vo', 'po', 'tr'] 0.9052863063520264\n",
            "dev.tsv letters True ['to', 'vo', 'po', 'tr'] 0.9432077125328661\n",
            "test.tsv letters True ['to', 'vo', 'po', 'tr'] 0.9068425949420627\n",
            "dev.tsv letters True ['vo', 'po', 'tr'] 0.9395267309377741\n",
            "test.tsv letters True ['vo', 'po', 'tr'] 0.9022977811610142\n",
            "dev.tsv letters True ['to', 'up', 'po', 'tr'] 0.9458369851007888\n",
            "test.tsv letters True ['to', 'up', 'po', 'tr'] 0.9049536214722719\n",
            "dev.tsv letters True ['up', 'po', 'tr'] 0.9379491673970203\n",
            "test.tsv letters True ['up', 'po', 'tr'] 0.9001099551721227\n",
            "dev.tsv letters True ['to', 'po', 'tr'] 0.9468886941279581\n",
            "test.tsv letters True ['to', 'po', 'tr'] 0.9063012771716152\n",
            "dev.tsv letters True ['po', 'tr'] 0.9368974583698508\n",
            "test.tsv letters True ['po', 'tr'] 0.9040175928275401\n",
            "dev.tsv letters True ['to', 'up', 'vo', 'tr'] 0.9432077125328661\n",
            "test.tsv letters True ['to', 'up', 'vo', 'tr'] 0.9042882517127638\n",
            "dev.tsv letters True ['up', 'vo', 'tr'] 0.9405784399649431\n",
            "test.tsv letters True ['up', 'vo', 'tr'] 0.9030759254560325\n",
            "dev.tsv letters True ['to', 'vo', 'tr'] 0.9432077125328661\n",
            "test.tsv letters True ['to', 'vo', 'tr'] 0.9057092108601884\n",
            "dev.tsv letters True ['vo', 'tr'] 0.9405784399649431\n",
            "test.tsv letters True ['vo', 'tr'] 0.9056922946798619\n",
            "dev.tsv letters True ['to', 'up', 'tr'] 0.9458369851007888\n",
            "test.tsv letters True ['to', 'up', 'tr'] 0.9025346076855849\n",
            "dev.tsv letters True ['up', 'tr'] 0.9293017820625181\n",
            "test.tsv letters True ['up', 'tr'] 0.8938960782655282\n",
            "dev.tsv letters True ['to', 'tr'] 0.9458369851007888\n",
            "test.tsv letters True ['to', 'tr'] 0.9077786235867946\n",
            "dev.tsv letters True ['tr'] 0.9282500730353492\n",
            "test.tsv letters True ['tr'] 0.8991626490738397\n",
            "dev.tsv letters True ['to', 'up', 'vo', 'po'] 0.8580192813321651\n",
            "test.tsv letters True ['to', 'up', 'vo', 'po'] 0.8065860328737772\n",
            "dev.tsv letters True ['up', 'vo', 'po'] 0.7190184049079755\n",
            "test.tsv letters True ['up', 'vo', 'po'] 0.7686825114889058\n",
            "dev.tsv letters True ['to', 'vo', 'po'] 0.8641542506573183\n",
            "test.tsv letters True ['to', 'vo', 'po'] 0.8095068933434831\n",
            "dev.tsv letters True ['vo', 'po'] 0.7165644171779142\n",
            "test.tsv letters True ['vo', 'po'] 0.7625250218500663\n",
            "dev.tsv letters True ['to', 'up', 'po'] 0.8580192813321651\n",
            "test.tsv letters True ['to', 'up', 'po'] 0.8076517522343455\n",
            "dev.tsv letters True ['up', 'po'] 0.7361963190184049\n",
            "test.tsv letters True ['up', 'po'] 0.7657785671995264\n",
            "dev.tsv letters True ['to', 'po'] 0.8641542506573183\n",
            "test.tsv letters True ['to', 'po'] 0.8166116890806057\n",
            "dev.tsv letters True ['po'] 0.7361963190184049\n",
            "test.tsv letters True ['po'] 0.7726465364120781\n",
            "dev.tsv letters True ['to', 'up', 'vo'] 0.8432953549517969\n",
            "test.tsv letters True ['to', 'up', 'vo'] 0.7982971045138009\n",
            "dev.tsv letters True ['up', 'vo'] 0.7607361963190186\n",
            "test.tsv letters True ['up', 'vo'] 0.7784487862640616\n",
            "dev.tsv letters True ['to', 'vo'] 0.8494303242769502\n",
            "test.tsv letters True ['to', 'vo'] 0.8027968084806452\n",
            "dev.tsv letters True ['vo'] 0.7435582822085891\n",
            "test.tsv letters True ['vo'] 0.7804618117229127\n",
            "dev.tsv letters True ['to', 'up'] 0.8432953549517969\n",
            "test.tsv letters True ['to', 'up'] 0.8078885787589163\n",
            "dev.tsv letters True ['up'] 0.47291849255039425\n",
            "test.tsv letters True ['up'] 0.4409808565225962\n",
            "dev.tsv letters True ['to'] 0.8432953549517969\n",
            "test.tsv letters True ['to'] 0.8128619357749022\n",
            "dev.tsv letters True [] 0.4946538124452233\n",
            "test.tsv letters True [] 0.4466355596906208\n",
            "dev.tsv letters False ['to', 'up', 'vo', 'po', 'tr', 'As', 'Bs'] 0.9468886941279581\n",
            "test.tsv letters False ['to', 'up', 'vo', 'po', 'tr', 'As', 'Bs'] 0.9052017254503936\n",
            "dev.tsv letters False ['up', 'vo', 'po', 'tr', 'As', 'Bs'] 0.9338591878469179\n",
            "test.tsv letters False ['up', 'vo', 'po', 'tr', 'As', 'Bs'] 0.9023146973413406\n",
            "dev.tsv letters False ['to', 'vo', 'po', 'tr', 'As', 'Bs'] 0.9468886941279581\n",
            "test.tsv letters False ['to', 'vo', 'po', 'tr', 'As', 'Bs'] 0.9078068172206719\n",
            "dev.tsv letters False ['vo', 'po', 'tr', 'As', 'Bs'] 0.9427987145778558\n",
            "test.tsv letters False ['vo', 'po', 'tr', 'As', 'Bs'] 0.9025966336801156\n",
            "dev.tsv letters False ['to', 'up', 'po', 'tr', 'As', 'Bs'] 0.9432077125328661\n",
            "test.tsv letters False ['to', 'up', 'po', 'tr', 'As', 'Bs'] 0.9038540697510504\n",
            "dev.tsv letters False ['up', 'po', 'tr', 'As', 'Bs'] 0.9379491673970203\n",
            "test.tsv letters False ['up', 'po', 'tr', 'As', 'Bs'] 0.8996701344836342\n",
            "dev.tsv letters False ['to', 'po', 'tr', 'As', 'Bs'] 0.9458369851007888\n",
            "test.tsv letters False ['to', 'po', 'tr', 'As', 'Bs'] 0.9070004792917764\n",
            "dev.tsv letters False ['po', 'tr', 'As', 'Bs'] 0.9344434706397897\n",
            "test.tsv letters False ['po', 'tr', 'As', 'Bs'] 0.9028334602046862\n",
            "dev.tsv letters False ['to', 'up', 'vo', 'tr', 'As', 'Bs'] 0.9432077125328661\n",
            "test.tsv letters False ['to', 'up', 'vo', 'tr', 'As', 'Bs'] 0.9025289689588095\n",
            "dev.tsv letters False ['up', 'vo', 'tr', 'As', 'Bs'] 0.933859187846918\n",
            "test.tsv letters False ['up', 'vo', 'tr', 'As', 'Bs'] 0.9004200851447748\n",
            "dev.tsv letters False ['to', 'vo', 'tr', 'As', 'Bs'] 0.9468886941279581\n",
            "test.tsv letters False ['to', 'vo', 'tr', 'As', 'Bs'] 0.9076207392370806\n",
            "dev.tsv letters False ['vo', 'tr', 'As', 'Bs'] 0.9417470055506866\n",
            "test.tsv letters False ['vo', 'tr', 'As', 'Bs'] 0.9034762750570925\n",
            "dev.tsv letters False ['to', 'up', 'tr', 'As', 'Bs'] 0.9432077125328661\n",
            "test.tsv letters False ['to', 'up', 'tr', 'As', 'Bs'] 0.9032620034396236\n",
            "dev.tsv letters False ['up', 'tr', 'As', 'Bs'] 0.9277242185217647\n",
            "test.tsv letters False ['up', 'tr', 'As', 'Bs'] 0.8942231244185068\n",
            "dev.tsv letters False ['to', 'tr', 'As', 'Bs'] 0.9432077125328661\n",
            "test.tsv letters False ['to', 'tr', 'As', 'Bs'] 0.9089458400293219\n",
            "dev.tsv letters False ['tr', 'As', 'Bs'] 0.9354367513876717\n",
            "test.tsv letters False ['tr', 'As', 'Bs'] 0.8987228283853512\n",
            "dev.tsv letters False ['to', 'up', 'vo', 'po', 'As', 'Bs'] 0.8796961729477069\n",
            "test.tsv letters False ['to', 'up', 'vo', 'po', 'As', 'Bs'] 0.8151230652118753\n",
            "dev.tsv letters False ['up', 'vo', 'po', 'As', 'Bs'] 0.7496932515337424\n",
            "test.tsv letters False ['up', 'vo', 'po', 'As', 'Bs'] 0.7863345456595903\n",
            "dev.tsv letters False ['to', 'vo', 'po', 'As', 'Bs'] 0.8796961729477069\n",
            "test.tsv letters False ['to', 'vo', 'po', 'As', 'Bs'] 0.8202148354901463\n",
            "dev.tsv letters False ['vo', 'po', 'As', 'Bs'] 0.747239263803681\n",
            "test.tsv letters False ['vo', 'po', 'As', 'Bs'] 0.778823761594632\n",
            "dev.tsv letters False ['to', 'up', 'po', 'As', 'Bs'] 0.8821501606777683\n",
            "test.tsv letters False ['to', 'up', 'po', 'As', 'Bs'] 0.8171360906707266\n",
            "dev.tsv letters False ['up', 'po', 'As', 'Bs'] 0.7521472392638038\n",
            "test.tsv letters False ['up', 'po', 'As', 'Bs'] 0.768535904592743\n",
            "dev.tsv letters False ['to', 'po', 'As', 'Bs'] 0.8796961729477069\n",
            "test.tsv letters False ['to', 'po', 'As', 'Bs'] 0.8213989681130002\n",
            "dev.tsv letters False ['po', 'As', 'Bs'] 0.7521472392638038\n",
            "test.tsv letters False ['po', 'As', 'Bs'] 0.7754038738052947\n",
            "dev.tsv letters False ['to', 'up', 'vo', 'As', 'Bs'] 0.8735612036225535\n",
            "test.tsv letters False ['to', 'up', 'vo', 'As', 'Bs'] 0.8169020835095435\n",
            "dev.tsv letters False ['up', 'vo', 'As', 'Bs'] 0.7558282208588958\n",
            "test.tsv letters False ['up', 'vo', 'As', 'Bs'] 0.7908737207138627\n",
            "dev.tsv letters False ['to', 'vo', 'As', 'Bs'] 0.8735612036225535\n",
            "test.tsv letters False ['to', 'vo', 'As', 'Bs'] 0.8202373903972483\n",
            "dev.tsv letters False ['vo', 'As', 'Bs'] 0.7533742331288344\n",
            "test.tsv letters False ['vo', 'As', 'Bs'] 0.781586737714624\n",
            "dev.tsv letters False ['to', 'up', 'As', 'Bs'] 0.8735612036225535\n",
            "test.tsv letters False ['to', 'up', 'As', 'Bs'] 0.815782796244608\n",
            "dev.tsv letters False ['up', 'As', 'Bs'] 0.5293602103418055\n",
            "test.tsv letters False ['up', 'As', 'Bs'] 0.4727546120086073\n",
            "dev.tsv letters False ['to', 'As', 'Bs'] 0.8735612036225535\n",
            "test.tsv letters False ['to', 'As', 'Bs'] 0.8203614423863091\n",
            "dev.tsv letters False ['As', 'Bs'] 0.532223196026877\n",
            "test.tsv letters False ['As', 'Bs'] 0.4738950444989505\n",
            "dev.tsv letters False ['to', 'up', 'vo', 'po', 'tr', 'Bs'] 0.9432077125328661\n",
            "test.tsv letters False ['to', 'up', 'vo', 'po', 'tr', 'Bs'] 0.9041867546308047\n",
            "dev.tsv letters False ['up', 'vo', 'po', 'tr', 'Bs'] 0.9432077125328661\n",
            "test.tsv letters False ['up', 'vo', 'po', 'tr', 'Bs'] 0.9019369026473827\n",
            "dev.tsv letters False ['to', 'vo', 'po', 'tr', 'Bs'] 0.9468886941279581\n",
            "test.tsv letters False ['to', 'vo', 'po', 'tr', 'Bs'] 0.9061490315486767\n",
            "dev.tsv letters False ['vo', 'po', 'tr', 'Bs'] 0.9432077125328661\n",
            "test.tsv letters False ['vo', 'po', 'tr', 'Bs'] 0.9049648989258228\n",
            "dev.tsv letters False ['to', 'up', 'po', 'tr', 'Bs'] 0.9432077125328661\n",
            "test.tsv letters False ['to', 'up', 'po', 'tr', 'Bs'] 0.9032394485325217\n",
            "dev.tsv letters False ['up', 'po', 'tr', 'Bs'] 0.9368974583698508\n",
            "test.tsv letters False ['up', 'po', 'tr', 'Bs'] 0.900093038991796\n",
            "dev.tsv letters False ['to', 'po', 'tr', 'Bs'] 0.9379491673970201\n",
            "test.tsv letters False ['to', 'po', 'tr', 'Bs'] 0.903972483013336\n",
            "dev.tsv letters False ['po', 'tr', 'Bs'] 0.9405784399649431\n",
            "test.tsv letters False ['po', 'tr', 'Bs'] 0.9032394485325217\n",
            "dev.tsv letters False ['to', 'up', 'vo', 'tr', 'Bs'] 0.9432077125328661\n",
            "test.tsv letters False ['to', 'up', 'vo', 'tr', 'Bs'] 0.9037131015816631\n",
            "dev.tsv letters False ['up', 'vo', 'tr', 'Bs'] 0.9328074788197487\n",
            "test.tsv letters False ['up', 'vo', 'tr', 'Bs'] 0.9012264230736704\n",
            "dev.tsv letters False ['to', 'vo', 'tr', 'Bs'] 0.9432077125328661\n",
            "test.tsv letters False ['to', 'vo', 'tr', 'Bs'] 0.9071470861879393\n",
            "dev.tsv letters False ['vo', 'tr', 'Bs'] 0.9395267309377738\n",
            "test.tsv letters False ['vo', 'tr', 'Bs'] 0.9051566156361898\n",
            "dev.tsv letters False ['to', 'up', 'tr', 'Bs'] 0.9458369851007888\n",
            "test.tsv letters False ['to', 'up', 'tr', 'Bs'] 0.9006569116693454\n",
            "dev.tsv letters False ['up', 'tr', 'Bs'] 0.9290680689453695\n",
            "test.tsv letters False ['up', 'tr', 'Bs'] 0.8952662888719731\n",
            "dev.tsv letters False ['to', 'tr', 'Bs'] 0.9432077125328661\n",
            "test.tsv letters False ['to', 'tr', 'Bs'] 0.9078801206687533\n",
            "dev.tsv letters False ['tr', 'Bs'] 0.9290680689453695\n",
            "test.tsv letters False ['tr', 'Bs'] 0.8985818602159638\n",
            "dev.tsv letters False ['to', 'up', 'vo', 'po', 'Bs'] 0.8580192813321651\n",
            "test.tsv letters False ['to', 'up', 'vo', 'po', 'Bs'] 0.8022554907101979\n",
            "dev.tsv letters False ['up', 'vo', 'po', 'Bs'] 0.7484662576687117\n",
            "test.tsv letters False ['up', 'vo', 'po', 'Bs'] 0.786145648312611\n",
            "dev.tsv letters False ['to', 'vo', 'po', 'Bs'] 0.8482033304119196\n",
            "test.tsv letters False ['to', 'vo', 'po', 'Bs'] 0.8074825904310808\n",
            "dev.tsv letters False ['vo', 'po', 'Bs'] 0.7484662576687117\n",
            "test.tsv letters False ['vo', 'po', 'Bs'] 0.7796329188869153\n",
            "dev.tsv letters False ['to', 'up', 'po', 'Bs'] 0.8518843120070118\n",
            "test.tsv letters False ['to', 'up', 'po', 'Bs'] 0.8040330993261725\n",
            "dev.tsv letters False ['up', 'po', 'Bs'] 0.7337423312883435\n",
            "test.tsv letters False ['up', 'po', 'Bs'] 0.7519242155121374\n",
            "dev.tsv letters False ['to', 'po', 'Bs'] 0.8580192813321651\n",
            "test.tsv letters False ['to', 'po', 'Bs'] 0.8039301925625197\n",
            "dev.tsv letters False ['po', 'Bs'] 0.7337423312883435\n",
            "test.tsv letters False ['po', 'Bs'] 0.7564239194789816\n",
            "dev.tsv letters False ['to', 'up', 'vo', 'Bs'] 0.8420683610867662\n",
            "test.tsv letters False ['to', 'up', 'vo', 'Bs'] 0.8036933660379487\n",
            "dev.tsv letters False ['up', 'vo', 'Bs'] 0.7619631901840492\n",
            "test.tsv letters False ['up', 'vo', 'Bs'] 0.7822380106571937\n",
            "dev.tsv letters False ['to', 'vo', 'Bs'] 0.8482033304119196\n",
            "test.tsv letters False ['to', 'vo', 'Bs'] 0.8058036595336774\n",
            "dev.tsv letters False ['vo', 'Bs'] 0.7484662576687117\n",
            "test.tsv letters False ['vo', 'Bs'] 0.7790408525754884\n",
            "dev.tsv letters False ['to', 'up', 'Bs'] 0.8457493426818584\n",
            "test.tsv letters False ['to', 'up', 'Bs'] 0.8034960106008066\n",
            "dev.tsv letters False ['up', 'Bs'] 0.5291849255039439\n",
            "test.tsv letters False ['up', 'Bs'] 0.4622266392248619\n",
            "dev.tsv letters False ['to', 'Bs'] 0.8457493426818584\n",
            "test.tsv letters False ['to', 'Bs'] 0.8091798471905045\n",
            "dev.tsv letters False ['Bs'] 0.536108676599474\n",
            "test.tsv letters False ['Bs'] 0.45646527014200056\n",
            "dev.tsv letters False ['to', 'up', 'vo', 'po', 'tr', 'As'] 0.9427987145778558\n",
            "test.tsv letters False ['to', 'up', 'vo', 'po', 'tr', 'As'] 0.9057655981279432\n",
            "dev.tsv letters False ['up', 'vo', 'po', 'tr', 'As'] 0.9427987145778558\n",
            "test.tsv letters False ['up', 'vo', 'po', 'tr', 'As'] 0.907304970537653\n",
            "dev.tsv letters False ['to', 'vo', 'po', 'tr', 'As'] 0.9464796961729476\n",
            "test.tsv letters False ['to', 'vo', 'po', 'tr', 'As'] 0.9088556204009138\n",
            "dev.tsv letters False ['vo', 'po', 'tr', 'As'] 0.941221151037102\n",
            "test.tsv letters False ['vo', 'po', 'tr', 'As'] 0.9055231328765968\n",
            "dev.tsv letters False ['to', 'up', 'po', 'tr', 'As'] 0.9468886941279581\n",
            "test.tsv letters False ['to', 'up', 'po', 'tr', 'As'] 0.9057994304885963\n",
            "dev.tsv letters False ['up', 'po', 'tr', 'As'] 0.9381244522348818\n",
            "test.tsv letters False ['up', 'po', 'tr', 'As'] 0.9007527700245288\n",
            "dev.tsv letters False ['to', 'po', 'tr', 'As'] 0.95056967572305\n",
            "test.tsv letters False ['to', 'po', 'tr', 'As'] 0.9078124559474475\n",
            "dev.tsv letters False ['po', 'tr', 'As'] 0.9442594215600352\n",
            "test.tsv letters False ['po', 'tr', 'As'] 0.9023598071555448\n",
            "dev.tsv letters False ['to', 'up', 'vo', 'tr', 'As'] 0.9427987145778558\n",
            "test.tsv letters False ['to', 'up', 'vo', 'tr', 'As'] 0.9027714342101557\n",
            "dev.tsv letters False ['up', 'vo', 'tr', 'As'] 0.9329827636576102\n",
            "test.tsv letters False ['up', 'vo', 'tr', 'As'] 0.9000084580901637\n",
            "dev.tsv letters False ['to', 'vo', 'tr', 'As'] 0.9427987145778558\n",
            "test.tsv letters False ['to', 'vo', 'tr', 'As'] 0.9082184442752831\n",
            "dev.tsv letters False ['vo', 'tr', 'As'] 0.9391177329827637\n",
            "test.tsv letters False ['vo', 'tr', 'As'] 0.9047449885815788\n",
            "dev.tsv letters False ['to', 'up', 'tr', 'As'] 0.9454279871457785\n",
            "test.tsv letters False ['to', 'up', 'tr', 'As'] 0.9049987312864759\n",
            "dev.tsv letters False ['up', 'tr', 'As'] 0.9268477943324569\n",
            "test.tsv letters False ['up', 'tr', 'As'] 0.894623474019567\n",
            "dev.tsv letters False ['to', 'tr', 'As'] 0.9432077125328661\n",
            "test.tsv letters False ['to', 'tr', 'As'] 0.9090473371112807\n",
            "dev.tsv letters False ['tr', 'As'] 0.9256208004674263\n",
            "test.tsv letters False ['tr', 'As'] 0.8990047647241259\n",
            "dev.tsv letters False ['to', 'up', 'vo', 'po', 'As'] 0.8735612036225535\n",
            "test.tsv letters False ['to', 'up', 'vo', 'po', 'As'] 0.8190278835039049\n",
            "dev.tsv letters False ['up', 'vo', 'po', 'As'] 0.7558282208588958\n",
            "test.tsv letters False ['up', 'vo', 'po', 'As'] 0.7896021878259889\n",
            "dev.tsv letters False ['to', 'vo', 'po', 'As'] 0.8919661115980136\n",
            "test.tsv letters False ['to', 'vo', 'po', 'As'] 0.8319292903662354\n",
            "dev.tsv letters False ['vo', 'po', 'As'] 0.7468302658486708\n",
            "test.tsv letters False ['vo', 'po', 'As'] 0.7787363613296119\n",
            "dev.tsv letters False ['to', 'up', 'po', 'As'] 0.8821501606777683\n",
            "test.tsv letters False ['to', 'up', 'po', 'As'] 0.8210409089627563\n",
            "dev.tsv letters False ['up', 'po', 'As'] 0.7521472392638038\n",
            "test.tsv letters False ['up', 'po', 'As'] 0.7670134483633597\n",
            "dev.tsv letters False ['to', 'po', 'As'] 0.8796961729477069\n",
            "test.tsv letters False ['to', 'po', 'As'] 0.826493557754659\n",
            "dev.tsv letters False ['po', 'As'] 0.7521472392638038\n",
            "test.tsv letters False ['po', 'As'] 0.7735261777890553\n",
            "dev.tsv letters False ['to', 'up', 'vo', 'As'] 0.8772421852176455\n",
            "test.tsv letters False ['to', 'up', 'vo', 'As'] 0.8192590713017\n",
            "dev.tsv letters False ['up', 'vo', 'As'] 0.7558282208588958\n",
            "test.tsv letters False ['up', 'vo', 'As'] 0.7874707491048522\n",
            "dev.tsv letters False ['to', 'vo', 'As'] 0.8735612036225535\n",
            "test.tsv letters False ['to', 'vo', 'As'] 0.8250613211536835\n",
            "dev.tsv letters False ['vo', 'As'] 0.7558282208588958\n",
            "test.tsv letters False ['vo', 'As'] 0.783918351236291\n",
            "dev.tsv letters False ['to', 'up', 'As'] 0.8772421852176455\n",
            "test.tsv letters False ['to', 'up', 'As'] 0.8209224957004709\n",
            "dev.tsv letters False ['up', 'As'] 0.5321063394683027\n",
            "test.tsv letters False ['up', 'As'] 0.4671088368246437\n",
            "dev.tsv letters False ['to', 'As'] 0.8735612036225535\n",
            "test.tsv letters False ['to', 'As'] 0.825636471284784\n",
            "dev.tsv letters False ['As'] 0.5551270815074496\n",
            "test.tsv letters False ['As'] 0.45852998392962724\n",
            "dev.tsv letters False ['to', 'up', 'vo', 'po', 'tr'] 0.9416301489921123\n",
            "test.tsv letters False ['to', 'up', 'vo', 'po', 'tr'] 0.9052355578110465\n",
            "dev.tsv letters False ['up', 'vo', 'po', 'tr'] 0.9405784399649431\n",
            "test.tsv letters False ['up', 'vo', 'po', 'tr'] 0.9064535227945534\n",
            "dev.tsv letters False ['to', 'vo', 'po', 'tr'] 0.9468886941279581\n",
            "test.tsv letters False ['to', 'vo', 'po', 'tr'] 0.9056584623192088\n",
            "dev.tsv letters False ['vo', 'po', 'tr'] 0.9432077125328661\n",
            "test.tsv letters False ['vo', 'po', 'tr'] 0.9035777721390514\n",
            "dev.tsv letters False ['to', 'up', 'po', 'tr'] 0.9468886941279581\n",
            "test.tsv letters False ['to', 'up', 'po', 'tr'] 0.9023936395161977\n",
            "dev.tsv letters False ['up', 'po', 'tr'] 0.9395267309377738\n",
            "test.tsv letters False ['up', 'po', 'tr'] 0.9011672164425278\n",
            "dev.tsv letters False ['to', 'po', 'tr'] 0.9432077125328661\n",
            "test.tsv letters False ['to', 'po', 'tr'] 0.9051171445487615\n",
            "dev.tsv letters False ['po', 'tr'] 0.9255039439088519\n",
            "test.tsv letters False ['po', 'tr'] 0.9037807663029693\n",
            "dev.tsv letters False ['to', 'up', 'vo', 'tr'] 0.9432077125328661\n",
            "test.tsv letters False ['to', 'up', 'vo', 'tr'] 0.9029857058276245\n",
            "dev.tsv letters False ['up', 'vo', 'tr'] 0.9368974583698513\n",
            "test.tsv letters False ['up', 'vo', 'tr'] 0.9005046660464072\n",
            "dev.tsv letters False ['to', 'vo', 'tr'] 0.9432077125328661\n",
            "test.tsv letters False ['to', 'vo', 'tr'] 0.9057092108601884\n",
            "dev.tsv letters False ['vo', 'tr'] 0.9368974583698513\n",
            "test.tsv letters False ['vo', 'tr'] 0.9046491302263954\n",
            "dev.tsv letters False ['to', 'up', 'tr'] 0.9432077125328661\n",
            "test.tsv letters False ['to', 'up', 'tr'] 0.9023936395161977\n",
            "dev.tsv letters False ['up', 'tr'] 0.9256208004674263\n",
            "test.tsv letters False ['up', 'tr'] 0.8953959795878098\n",
            "dev.tsv letters False ['to', 'tr'] 0.9370727432077126\n",
            "test.tsv letters False ['to', 'tr'] 0.9080774761058957\n",
            "dev.tsv letters False ['tr'] 0.9325737657026001\n",
            "test.tsv letters False ['tr'] 0.8975443344892728\n",
            "dev.tsv letters False ['to', 'up', 'vo', 'po'] 0.8641542506573183\n",
            "test.tsv letters False ['to', 'up', 'vo', 'po'] 0.8042177676280696\n",
            "dev.tsv letters False ['up', 'vo', 'po'] 0.7190184049079755\n",
            "test.tsv letters False ['up', 'vo', 'po'] 0.7686825114889058\n",
            "dev.tsv letters False ['to', 'vo', 'po'] 0.8641542506573183\n",
            "test.tsv letters False ['to', 'vo', 'po'] 0.81009895965491\n",
            "dev.tsv letters False ['vo', 'po'] 0.7165644171779142\n",
            "test.tsv letters False ['vo', 'po'] 0.7625250218500663\n",
            "dev.tsv letters False ['to', 'up', 'po'] 0.8580192813321651\n",
            "test.tsv letters False ['to', 'up', 'po'] 0.807257041360061\n",
            "dev.tsv letters False ['up', 'po'] 0.7361963190184049\n",
            "test.tsv letters False ['up', 'po'] 0.7657785671995264\n",
            "dev.tsv letters False ['to', 'po'] 0.8641542506573183\n",
            "test.tsv letters False ['to', 'po'] 0.8166116890806057\n",
            "dev.tsv letters False ['po'] 0.7361963190184049\n",
            "test.tsv letters False ['po'] 0.7726465364120781\n",
            "dev.tsv letters False ['to', 'up', 'vo'] 0.8432953549517969\n",
            "test.tsv letters False ['to', 'up', 'vo'] 0.7979023936395162\n",
            "dev.tsv letters False ['up', 'vo'] 0.7361963190184051\n",
            "test.tsv letters False ['up', 'vo'] 0.7627223772872086\n",
            "dev.tsv letters False ['to', 'vo'] 0.861700262927257\n",
            "test.tsv letters False ['to', 'vo'] 0.8106910259663369\n",
            "dev.tsv letters False ['vo'] 0.7190184049079755\n",
            "test.tsv letters False ['vo'] 0.7627618483746369\n",
            "dev.tsv letters False ['to', 'up'] 0.8432953549517969\n",
            "test.tsv letters False ['to', 'up'] 0.8072965124474895\n",
            "dev.tsv letters False ['up'] 0.5470639789658194\n",
            "test.tsv letters False ['up'] 0.45967464546505293\n",
            "dev.tsv letters False ['to'] 0.8432953549517969\n",
            "test.tsv letters False ['to'] 0.8122698694634752\n",
            "dev.tsv letters False [] 0.517207128250073\n",
            "test.tsv letters False [] 0.45613916377681807\n",
            "dev.tsv symbols True ['to', 'up', 'vo', 'po', 'tr', 'As', 'Bs'] 0.9370727432077126\n",
            "test.tsv symbols True ['to', 'up', 'vo', 'po', 'tr', 'As', 'Bs'] 0.8954185344949114\n",
            "dev.tsv symbols True ['up', 'vo', 'po', 'tr', 'As', 'Bs'] 0.9370727432077126\n",
            "test.tsv symbols True ['up', 'vo', 'po', 'tr', 'As', 'Bs'] 0.8933773154021827\n",
            "dev.tsv symbols True ['to', 'vo', 'po', 'tr', 'As', 'Bs'] 0.9370727432077126\n",
            "test.tsv symbols True ['to', 'vo', 'po', 'tr', 'As', 'Bs'] 0.8997603541120418\n",
            "dev.tsv symbols True ['vo', 'po', 'tr', 'As', 'Bs'] 0.9370727432077126\n",
            "test.tsv symbols True ['vo', 'po', 'tr', 'As', 'Bs'] 0.8975612506695992\n",
            "dev.tsv symbols True ['to', 'up', 'po', 'tr', 'As', 'Bs'] 0.9329827636576102\n",
            "test.tsv symbols True ['to', 'up', 'po', 'tr', 'As', 'Bs'] 0.8946291127463423\n",
            "dev.tsv symbols True ['up', 'po', 'tr', 'As', 'Bs'] 0.9366637452527025\n",
            "test.tsv symbols True ['up', 'po', 'tr', 'As', 'Bs'] 0.8931799599650404\n",
            "dev.tsv symbols True ['to', 'po', 'tr', 'As', 'Bs'] 0.9277242185217647\n",
            "test.tsv symbols True ['to', 'po', 'tr', 'As', 'Bs'] 0.8993656432377574\n",
            "dev.tsv symbols True ['po', 'tr', 'As', 'Bs'] 0.9333917616126205\n",
            "test.tsv symbols True ['po', 'tr', 'As', 'Bs'] 0.8960218782598892\n",
            "dev.tsv symbols True ['to', 'up', 'vo', 'tr', 'As', 'Bs'] 0.9370727432077126\n",
            "test.tsv symbols True ['to', 'up', 'vo', 'tr', 'As', 'Bs'] 0.8924469254842261\n",
            "dev.tsv symbols True ['up', 'vo', 'tr', 'As', 'Bs'] 0.9370727432077126\n",
            "test.tsv symbols True ['up', 'vo', 'tr', 'As', 'Bs'] 0.8899828018833353\n",
            "dev.tsv symbols True ['to', 'vo', 'tr', 'As', 'Bs'] 0.9370727432077126\n",
            "test.tsv symbols True ['to', 'vo', 'tr', 'As', 'Bs'] 0.8974202825002118\n",
            "dev.tsv symbols True ['vo', 'tr', 'As', 'Bs'] 0.9370727432077126\n",
            "test.tsv symbols True ['vo', 'tr', 'As', 'Bs'] 0.8993374496038798\n",
            "dev.tsv symbols True ['to', 'up', 'tr', 'As', 'Bs'] 0.9370727432077126\n",
            "test.tsv symbols True ['to', 'up', 'tr', 'As', 'Bs'] 0.8918548591727993\n",
            "dev.tsv symbols True ['up', 'tr', 'As', 'Bs'] 0.9297107800175285\n",
            "test.tsv symbols True ['up', 'tr', 'As', 'Bs'] 0.8872423806704453\n",
            "dev.tsv symbols True ['to', 'tr', 'As', 'Bs'] 0.9309377738825593\n",
            "test.tsv symbols True ['to', 'tr', 'As', 'Bs'] 0.8977473286531906\n",
            "dev.tsv symbols True ['tr', 'As', 'Bs'] 0.9272567922874673\n",
            "test.tsv symbols True ['tr', 'As', 'Bs'] 0.8935746708393251\n",
            "dev.tsv symbols True ['to', 'up', 'vo', 'po', 'As', 'Bs'] 0.8853052877592756\n",
            "test.tsv symbols True ['to', 'up', 'vo', 'po', 'As', 'Bs'] 0.8007288054357331\n",
            "dev.tsv symbols True ['up', 'vo', 'po', 'As', 'Bs'] 0.739877300613497\n",
            "test.tsv symbols True ['up', 'vo', 'po', 'As', 'Bs'] 0.7660661422650766\n",
            "dev.tsv symbols True ['to', 'vo', 'po', 'As', 'Bs'] 0.8791703184341223\n",
            "test.tsv symbols True ['to', 'vo', 'po', 'As', 'Bs'] 0.7977684738785987\n",
            "dev.tsv symbols True ['vo', 'po', 'As', 'Bs'] 0.739877300613497\n",
            "test.tsv symbols True ['vo', 'po', 'As', 'Bs'] 0.7719868053793454\n",
            "dev.tsv symbols True ['to', 'up', 'po', 'As', 'Bs'] 0.8838445807770963\n",
            "test.tsv symbols True ['to', 'up', 'po', 'As', 'Bs'] 0.7984733147255355\n",
            "dev.tsv symbols True ['up', 'po', 'As', 'Bs'] 0.7521472392638038\n",
            "test.tsv symbols True ['up', 'po', 'As', 'Bs'] 0.7719868053793454\n",
            "dev.tsv symbols True ['to', 'po', 'As', 'Bs'] 0.8862985685071576\n",
            "test.tsv symbols True ['to', 'po', 'As', 'Bs'] 0.8012757619329561\n",
            "dev.tsv symbols True ['po', 'As', 'Bs'] 0.7521472392638038\n",
            "test.tsv symbols True ['po', 'As', 'Bs'] 0.7796836674278949\n",
            "dev.tsv symbols True ['to', 'up', 'vo', 'As', 'Bs'] 0.8853052877592756\n",
            "test.tsv symbols True ['to', 'up', 'vo', 'As', 'Bs'] 0.7971200202994168\n",
            "dev.tsv symbols True ['up', 'vo', 'As', 'Bs'] 0.7276073619631902\n",
            "test.tsv symbols True ['up', 'vo', 'As', 'Bs'] 0.7583692802165272\n",
            "dev.tsv symbols True ['to', 'vo', 'As', 'Bs'] 0.8718083552439383\n",
            "test.tsv symbols True ['to', 'vo', 'As', 'Bs'] 0.8009092446925488\n",
            "dev.tsv symbols True ['vo', 'As', 'Bs'] 0.7276073619631902\n",
            "test.tsv symbols True ['vo', 'As', 'Bs'] 0.7666582085765035\n",
            "dev.tsv symbols True ['to', 'up', 'As', 'Bs'] 0.8877592754893371\n",
            "test.tsv symbols True ['to', 'up', 'As', 'Bs'] 0.8158560996926898\n",
            "dev.tsv symbols True ['up', 'As', 'Bs'] 0.481156879929886\n",
            "test.tsv symbols True ['up', 'As', 'Bs'] 0.43055954965368765\n",
            "dev.tsv symbols True ['to', 'As', 'Bs'] 0.891440257084429\n",
            "test.tsv symbols True ['to', 'As', 'Bs'] 0.8204474329696357\n",
            "dev.tsv symbols True ['As', 'Bs'] 0.47081507449605603\n",
            "test.tsv symbols True ['As', 'Bs'] 0.42524035072880484\n",
            "dev.tsv symbols True ['to', 'up', 'vo', 'po', 'tr', 'Bs'] 0.9370727432077126\n",
            "test.tsv symbols True ['to', 'up', 'vo', 'po', 'tr', 'Bs'] 0.8968000225549074\n",
            "dev.tsv symbols True ['up', 'vo', 'po', 'tr', 'Bs'] 0.9318141980718668\n",
            "test.tsv symbols True ['up', 'vo', 'po', 'tr', 'Bs'] 0.8954298119484624\n",
            "dev.tsv symbols True ['to', 'vo', 'po', 'tr', 'Bs'] 0.9318141980718668\n",
            "test.tsv symbols True ['to', 'vo', 'po', 'tr', 'Bs'] 0.8981815106149036\n",
            "dev.tsv symbols True ['vo', 'po', 'tr', 'Bs'] 0.9370727432077126\n",
            "test.tsv symbols True ['vo', 'po', 'tr', 'Bs'] 0.8993374496038798\n",
            "dev.tsv symbols True ['to', 'up', 'po', 'tr', 'Bs'] 0.9370727432077126\n",
            "test.tsv symbols True ['to', 'up', 'po', 'tr', 'Bs'] 0.8954580055823399\n",
            "dev.tsv symbols True ['up', 'po', 'tr', 'Bs'] 0.9318141980718668\n",
            "test.tsv symbols True ['up', 'po', 'tr', 'Bs'] 0.8937720262764672\n",
            "dev.tsv symbols True ['to', 'po', 'tr', 'Bs'] 0.9281332164767747\n",
            "test.tsv symbols True ['to', 'po', 'tr', 'Bs'] 0.8987341058389019\n",
            "dev.tsv symbols True ['po', 'tr', 'Bs'] 0.9252702307917031\n",
            "test.tsv symbols True ['po', 'tr', 'Bs'] 0.8979164904564555\n",
            "dev.tsv symbols True ['to', 'up', 'vo', 'tr', 'Bs'] 0.9370727432077126\n",
            "test.tsv symbols True ['to', 'up', 'vo', 'tr', 'Bs'] 0.8936705291945083\n",
            "dev.tsv symbols True ['up', 'vo', 'tr', 'Bs'] 0.9333917616126205\n",
            "test.tsv symbols True ['up', 'vo', 'tr', 'Bs'] 0.8932983732273256\n",
            "dev.tsv symbols True ['to', 'vo', 'tr', 'Bs'] 0.9333917616126205\n",
            "test.tsv symbols True ['to', 'vo', 'tr', 'Bs'] 0.8987622994727794\n",
            "dev.tsv symbols True ['vo', 'tr', 'Bs'] 0.9333917616126205\n",
            "test.tsv symbols True ['vo', 'tr', 'Bs'] 0.8973244241450286\n",
            "dev.tsv symbols True ['to', 'up', 'tr', 'Bs'] 0.9370727432077126\n",
            "test.tsv symbols True ['to', 'up', 'tr', 'Bs'] 0.8937494713693651\n",
            "dev.tsv symbols True ['up', 'tr', 'Bs'] 0.9297107800175285\n",
            "test.tsv symbols True ['up', 'tr', 'Bs'] 0.8880148862386879\n",
            "dev.tsv symbols True ['to', 'tr', 'Bs'] 0.9281332164767747\n",
            "test.tsv symbols True ['to', 'tr', 'Bs'] 0.9006681891228966\n",
            "dev.tsv symbols True ['tr', 'Bs'] 0.9333917616126206\n",
            "test.tsv symbols True ['tr', 'Bs'] 0.893140488877612\n",
            "dev.tsv symbols True ['to', 'up', 'vo', 'po', 'Bs'] 0.8552731522056678\n",
            "test.tsv symbols True ['to', 'up', 'vo', 'po', 'Bs'] 0.7997194733429199\n",
            "dev.tsv symbols True ['up', 'vo', 'po', 'Bs'] 0.7386503067484663\n",
            "test.tsv symbols True ['up', 'vo', 'po', 'Bs'] 0.7515689757252813\n",
            "dev.tsv symbols True ['to', 'vo', 'po', 'Bs'] 0.8552731522056678\n",
            "test.tsv symbols True ['to', 'vo', 'po', 'Bs'] 0.7961839916546846\n",
            "dev.tsv symbols True ['vo', 'po', 'Bs'] 0.7386503067484663\n",
            "test.tsv symbols True ['vo', 'po', 'Bs'] 0.7539372409709888\n",
            "dev.tsv symbols True ['to', 'up', 'po', 'Bs'] 0.8515921706105759\n",
            "test.tsv symbols True ['to', 'up', 'po', 'Bs'] 0.7977149059742317\n",
            "dev.tsv symbols True ['up', 'po', 'Bs'] 0.7361963190184049\n",
            "test.tsv symbols True ['up', 'po', 'Bs'] 0.7649496743635287\n",
            "dev.tsv symbols True ['to', 'po', 'Bs'] 0.8515921706105759\n",
            "test.tsv symbols True ['to', 'po', 'Bs'] 0.794743296963546\n",
            "dev.tsv symbols True ['po', 'Bs'] 0.7337423312883435\n",
            "test.tsv symbols True ['po', 'Bs'] 0.7554766133806986\n",
            "dev.tsv symbols True ['to', 'up', 'vo', 'Bs'] 0.8618755477651183\n",
            "test.tsv symbols True ['to', 'up', 'vo', 'Bs'] 0.7913516028080864\n",
            "dev.tsv symbols True ['up', 'vo', 'Bs'] 0.7239263803680982\n",
            "test.tsv symbols True ['up', 'vo', 'Bs'] 0.7590290112492599\n",
            "dev.tsv symbols True ['to', 'vo', 'Bs'] 0.855740578439965\n",
            "test.tsv symbols True ['to', 'vo', 'Bs'] 0.7874016747018526\n",
            "dev.tsv symbols True ['vo', 'Bs'] 0.7239263803680982\n",
            "test.tsv symbols True ['vo', 'Bs'] 0.7661338069863824\n",
            "dev.tsv symbols True ['to', 'up', 'Bs'] 0.8589541338007599\n",
            "test.tsv symbols True ['to', 'up', 'Bs'] 0.7891665961825824\n",
            "dev.tsv symbols True ['up', 'Bs'] 0.5003797838153665\n",
            "test.tsv symbols True ['up', 'Bs'] 0.43029405960134104\n",
            "dev.tsv symbols True ['to', 'Bs'] 0.8589541338007599\n",
            "test.tsv symbols True ['to', 'Bs'] 0.7882080126307481\n",
            "dev.tsv symbols True ['Bs'] 0.47788489628980413\n",
            "test.tsv symbols True ['Bs'] 0.4310416607929921\n",
            "dev.tsv symbols True ['to', 'up', 'vo', 'po', 'tr', 'As'] 0.9277242185217647\n",
            "test.tsv symbols True ['to', 'up', 'vo', 'po', 'tr', 'As'] 0.8929318559869186\n",
            "dev.tsv symbols True ['up', 'vo', 'po', 'tr', 'As'] 0.9314052001168565\n",
            "test.tsv symbols True ['up', 'vo', 'po', 'tr', 'As'] 0.8927852490907557\n",
            "dev.tsv symbols True ['to', 'vo', 'po', 'tr', 'As'] 0.9329827636576102\n",
            "test.tsv symbols True ['to', 'vo', 'po', 'tr', 'As'] 0.8991964814344924\n",
            "dev.tsv symbols True ['vo', 'po', 'tr', 'As'] 0.9329827636576102\n",
            "test.tsv symbols True ['vo', 'po', 'tr', 'As'] 0.8985085567678822\n",
            "dev.tsv symbols True ['to', 'up', 'po', 'tr', 'As'] 0.9370727432077126\n",
            "test.tsv symbols True ['to', 'up', 'po', 'tr', 'As'] 0.894786997096056\n",
            "dev.tsv symbols True ['up', 'po', 'tr', 'As'] 0.9370727432077126\n",
            "test.tsv symbols True ['up', 'po', 'tr', 'As'] 0.8929431334404697\n",
            "dev.tsv symbols True ['to', 'po', 'tr', 'As'] 0.9277242185217647\n",
            "test.tsv symbols True ['to', 'po', 'tr', 'As'] 0.8989314612760442\n",
            "dev.tsv symbols True ['po', 'tr', 'As'] 0.9370727432077126\n",
            "test.tsv symbols True ['po', 'tr', 'As'] 0.8969691843581724\n",
            "dev.tsv symbols True ['to', 'up', 'vo', 'tr', 'As'] 0.9329827636576102\n",
            "test.tsv symbols True ['to', 'up', 'vo', 'tr', 'As'] 0.8934337026699375\n",
            "dev.tsv symbols True ['up', 'vo', 'tr', 'As'] 0.9370727432077126\n",
            "test.tsv symbols True ['up', 'vo', 'tr', 'As'] 0.8927852490907557\n",
            "dev.tsv symbols True ['to', 'vo', 'tr', 'As'] 0.9370727432077126\n",
            "test.tsv symbols True ['to', 'vo', 'tr', 'As'] 0.8971834559756411\n",
            "dev.tsv symbols True ['vo', 'tr', 'As'] 0.9329827636576102\n",
            "test.tsv symbols True ['vo', 'tr', 'As'] 0.8982322591558832\n",
            "dev.tsv symbols True ['to', 'up', 'tr', 'As'] 0.9329827636576102\n",
            "test.tsv symbols True ['to', 'up', 'tr', 'As'] 0.8934337026699377\n",
            "dev.tsv symbols True ['up', 'tr', 'As'] 0.9297107800175285\n",
            "test.tsv symbols True ['up', 'tr', 'As'] 0.889830556260397\n",
            "dev.tsv symbols True ['to', 'tr', 'As'] 0.9333917616126205\n",
            "test.tsv symbols True ['to', 'tr', 'As'] 0.8977078575657622\n",
            "dev.tsv symbols True ['tr', 'As'] 0.9235758106923752\n",
            "test.tsv symbols True ['tr', 'As'] 0.8938735233584263\n",
            "dev.tsv symbols True ['to', 'up', 'vo', 'po', 'As'] 0.8892199824715165\n",
            "test.tsv symbols True ['to', 'up', 'vo', 'po', 'As'] 0.800207223209\n",
            "dev.tsv symbols True ['up', 'vo', 'po', 'As'] 0.739877300613497\n",
            "test.tsv symbols True ['up', 'vo', 'po', 'As'] 0.7634610504947984\n",
            "dev.tsv symbols True ['to', 'vo', 'po', 'As'] 0.8892199824715165\n",
            "test.tsv symbols True ['to', 'vo', 'po', 'As'] 0.8073120189461225\n",
            "dev.tsv symbols True ['vo', 'po', 'As'] 0.739877300613497\n",
            "test.tsv symbols True ['vo', 'po', 'As'] 0.7711579125433479\n",
            "dev.tsv symbols True ['to', 'up', 'po', 'As'] 0.883085013146363\n",
            "test.tsv symbols True ['to', 'up', 'po', 'As'] 0.7993783303730022\n",
            "dev.tsv symbols True ['up', 'po', 'As'] 0.7521472392638038\n",
            "test.tsv symbols True ['up', 'po', 'As'] 0.7711184414559195\n",
            "dev.tsv symbols True ['to', 'po', 'As'] 0.8892199824715165\n",
            "test.tsv symbols True ['to', 'po', 'As'] 0.8065507908314307\n",
            "dev.tsv symbols True ['po', 'As'] 0.7521472392638038\n",
            "test.tsv symbols True ['po', 'As'] 0.7788153035044688\n",
            "dev.tsv symbols True ['to', 'up', 'vo', 'As'] 0.8843120070113938\n",
            "test.tsv symbols True ['to', 'up', 'vo', 'As'] 0.7992430009303904\n",
            "dev.tsv symbols True ['up', 'vo', 'As'] 0.7276073619631902\n",
            "test.tsv symbols True ['up', 'vo', 'As'] 0.7575403873805296\n",
            "dev.tsv symbols True ['to', 'vo', 'As'] 0.886765994741455\n",
            "test.tsv symbols True ['to', 'vo', 'As'] 0.8081014406946914\n",
            "dev.tsv symbols True ['vo', 'As'] 0.7276073619631902\n",
            "test.tsv symbols True ['vo', 'As'] 0.765829315740506\n",
            "dev.tsv symbols True ['to', 'up', 'As'] 0.8916739702015778\n",
            "test.tsv symbols True ['to', 'up', 'As'] 0.8156220925315067\n",
            "dev.tsv symbols True ['up', 'As'] 0.47047911189015484\n",
            "test.tsv symbols True ['up', 'As'] 0.43166145084439883\n",
            "dev.tsv symbols True ['to', 'As'] 0.8978089395267312\n",
            "test.tsv symbols True ['to', 'As'] 0.8231610702303424\n",
            "dev.tsv symbols True ['As'] 0.4580338884019866\n",
            "test.tsv symbols True ['As'] 0.4227118516638938\n",
            "dev.tsv symbols True ['to', 'up', 'vo', 'po', 'tr'] 0.9370727432077126\n",
            "test.tsv symbols True ['to', 'up', 'vo', 'po', 'tr'] 0.8955764188446252\n",
            "dev.tsv symbols True ['up', 'vo', 'po', 'tr'] 0.9307624890446977\n",
            "test.tsv symbols True ['up', 'vo', 'po', 'tr'] 0.8969691843581724\n",
            "dev.tsv symbols True ['to', 'vo', 'po', 'tr'] 0.9318141980718668\n",
            "test.tsv symbols True ['to', 'vo', 'po', 'tr'] 0.9001437875327755\n",
            "dev.tsv symbols True ['vo', 'po', 'tr'] 0.9333917616126206\n",
            "test.tsv symbols True ['vo', 'po', 'tr'] 0.8977586061067415\n",
            "dev.tsv symbols True ['to', 'up', 'po', 'tr'] 0.9318141980718668\n",
            "test.tsv symbols True ['to', 'up', 'po', 'tr'] 0.8949843525331984\n",
            "dev.tsv symbols True ['up', 'po', 'tr'] 0.9318141980718668\n",
            "test.tsv symbols True ['up', 'po', 'tr'] 0.8951929854238918\n",
            "dev.tsv symbols True ['to', 'po', 'tr'] 0.9370727432077126\n",
            "test.tsv symbols True ['to', 'po', 'tr'] 0.8997603541120418\n",
            "dev.tsv symbols True ['po', 'tr'] 0.9281332164767747\n",
            "test.tsv symbols True ['po', 'tr'] 0.8985085567678823\n",
            "dev.tsv symbols True ['to', 'up', 'vo', 'tr'] 0.9318141980718668\n",
            "test.tsv symbols True ['to', 'up', 'vo', 'tr'] 0.8926837520087968\n",
            "dev.tsv symbols True ['up', 'vo', 'tr'] 0.9370727432077126\n",
            "test.tsv symbols True ['up', 'vo', 'tr'] 0.8925878936536136\n",
            "dev.tsv symbols True ['to', 'vo', 'tr'] 0.9318141980718668\n",
            "test.tsv symbols True ['to', 'vo', 'tr'] 0.8999464320956331\n",
            "dev.tsv symbols True ['vo', 'tr'] 0.9333917616126206\n",
            "test.tsv symbols True ['vo', 'tr'] 0.8969691843581725\n",
            "dev.tsv symbols True ['to', 'up', 'tr'] 0.9293017820625181\n",
            "test.tsv symbols True ['to', 'up', 'tr'] 0.8933942315825092\n",
            "dev.tsv symbols True ['up', 'tr'] 0.9333917616126206\n",
            "test.tsv symbols True ['up', 'tr'] 0.8886238687304413\n",
            "dev.tsv symbols True ['to', 'tr'] 0.9370727432077126\n",
            "test.tsv symbols True ['to', 'tr'] 0.8999577095491842\n",
            "dev.tsv symbols True ['tr'] 0.9297107800175285\n",
            "test.tsv symbols True ['tr'] 0.8943077053201393\n",
            "dev.tsv symbols True ['to', 'up', 'vo', 'po'] 0.855740578439965\n",
            "test.tsv symbols True ['to', 'up', 'vo', 'po'] 0.7921057825143086\n",
            "dev.tsv symbols True ['up', 'vo', 'po'] 0.7361963190184049\n",
            "test.tsv symbols True ['up', 'vo', 'po'] 0.7649496743635287\n",
            "dev.tsv symbols True ['to', 'vo', 'po'] 0.855740578439965\n",
            "test.tsv symbols True ['to', 'vo', 'po'] 0.7941075305196087\n",
            "dev.tsv symbols True ['vo', 'po'] 0.7361963190184049\n",
            "test.tsv symbols True ['vo', 'po'] 0.7726465364120781\n",
            "dev.tsv symbols True ['to', 'up', 'po'] 0.855740578439965\n",
            "test.tsv symbols True ['to', 'up', 'po'] 0.793628238743692\n",
            "dev.tsv symbols True ['up', 'po'] 0.7361963190184049\n",
            "test.tsv symbols True ['up', 'po'] 0.7649496743635287\n",
            "dev.tsv symbols True ['to', 'po'] 0.8520595968448732\n",
            "test.tsv symbols True ['to', 'po'] 0.7977896191040066\n",
            "dev.tsv symbols True ['po'] 0.7361963190184049\n",
            "test.tsv symbols True ['po'] 0.7726465364120781\n",
            "dev.tsv symbols True ['to', 'up', 'vo'] 0.8581945661700265\n",
            "test.tsv symbols True ['to', 'up', 'vo'] 0.7851194000394713\n",
            "dev.tsv symbols True ['up', 'vo'] 0.7177914110429447\n",
            "test.tsv symbols True ['up', 'vo'] 0.7596210775606868\n",
            "dev.tsv symbols True ['to', 'vo'] 0.855740578439965\n",
            "test.tsv symbols True ['to', 'vo'] 0.7894894132904791\n",
            "dev.tsv symbols True ['vo'] 0.7177914110429447\n",
            "test.tsv symbols True ['vo'] 0.7679100059206632\n",
            "dev.tsv symbols True ['to', 'up'] 0.8643295354951798\n",
            "test.tsv symbols True ['to', 'up'] 0.8082099861851197\n",
            "dev.tsv symbols True ['up'] 0.4863569967864445\n",
            "test.tsv symbols True ['up'] 0.43131231967821604\n",
            "dev.tsv symbols True ['to'] 0.855740578439965\n",
            "test.tsv symbols True ['to'] 0.7932786376836112\n",
            "dev.tsv symbols True [] 0.45457201285422133\n",
            "test.tsv symbols True [] 0.4112046199968042\n",
            "dev.tsv symbols False ['to', 'up', 'vo', 'po', 'tr', 'As', 'Bs'] 0.9318141980718668\n",
            "test.tsv symbols False ['to', 'up', 'vo', 'po', 'tr', 'As', 'Bs'] 0.8959993233527873\n",
            "dev.tsv symbols False ['up', 'vo', 'po', 'tr', 'As', 'Bs'] 0.9370727432077126\n",
            "test.tsv symbols False ['up', 'vo', 'po', 'tr', 'As', 'Bs'] 0.8938227748174467\n",
            "dev.tsv symbols False ['to', 'vo', 'po', 'tr', 'As', 'Bs'] 0.9370727432077126\n",
            "test.tsv symbols False ['to', 'vo', 'po', 'tr', 'As', 'Bs'] 0.8977078575657622\n",
            "dev.tsv symbols False ['vo', 'po', 'tr', 'As', 'Bs'] 0.9370727432077126\n",
            "test.tsv symbols False ['vo', 'po', 'tr', 'As', 'Bs'] 0.8969691843581724\n",
            "dev.tsv symbols False ['to', 'up', 'po', 'tr', 'As', 'Bs'] 0.9370727432077126\n",
            "test.tsv symbols False ['to', 'up', 'po', 'tr', 'As', 'Bs'] 0.8936705291945083\n",
            "dev.tsv symbols False ['up', 'po', 'tr', 'As', 'Bs'] 0.9318141980718668\n",
            "test.tsv symbols False ['up', 'po', 'tr', 'As', 'Bs'] 0.8937720262764672\n",
            "dev.tsv symbols False ['to', 'po', 'tr', 'As', 'Bs'] 0.9329827636576102\n",
            "test.tsv symbols False ['to', 'po', 'tr', 'As', 'Bs'] 0.8978149933744964\n",
            "dev.tsv symbols False ['po', 'tr', 'As', 'Bs'] 0.9318141980718668\n",
            "test.tsv symbols False ['po', 'tr', 'As', 'Bs'] 0.8959034649976041\n",
            "dev.tsv symbols False ['to', 'up', 'vo', 'tr', 'As', 'Bs'] 0.9370727432077126\n",
            "test.tsv symbols False ['to', 'up', 'vo', 'tr', 'As', 'Bs'] 0.8924863965716545\n",
            "dev.tsv symbols False ['up', 'vo', 'tr', 'As', 'Bs'] 0.9370727432077126\n",
            "test.tsv symbols False ['up', 'vo', 'tr', 'As', 'Bs'] 0.8929036623530411\n",
            "dev.tsv symbols False ['to', 'vo', 'tr', 'As', 'Bs'] 0.9370727432077126\n",
            "test.tsv symbols False ['to', 'vo', 'tr', 'As', 'Bs'] 0.8978149933744964\n",
            "dev.tsv symbols False ['vo', 'tr', 'As', 'Bs'] 0.9329827636576102\n",
            "test.tsv symbols False ['vo', 'tr', 'As', 'Bs'] 0.8972849530576001\n",
            "dev.tsv symbols False ['to', 'up', 'tr', 'As', 'Bs'] 0.9333917616126205\n",
            "test.tsv symbols False ['to', 'up', 'tr', 'As', 'Bs'] 0.8925653387465116\n",
            "dev.tsv symbols False ['up', 'tr', 'As', 'Bs'] 0.9235758106923752\n",
            "test.tsv symbols False ['up', 'tr', 'As', 'Bs'] 0.8899658857030088\n",
            "dev.tsv symbols False ['to', 'tr', 'As', 'Bs'] 0.9329827636576102\n",
            "test.tsv symbols False ['to', 'tr', 'As', 'Bs'] 0.8967605514674791\n",
            "dev.tsv symbols False ['tr', 'As', 'Bs'] 0.9297107800175285\n",
            "test.tsv symbols False ['tr', 'As', 'Bs'] 0.8931799599650404\n",
            "dev.tsv symbols False ['to', 'up', 'vo', 'po', 'As', 'Bs'] 0.8853052877592756\n",
            "test.tsv symbols False ['to', 'up', 'vo', 'po', 'As', 'Bs'] 0.7999957709549187\n",
            "dev.tsv symbols False ['up', 'vo', 'po', 'As', 'Bs'] 0.739877300613497\n",
            "test.tsv symbols False ['up', 'vo', 'po', 'As', 'Bs'] 0.7660661422650766\n",
            "dev.tsv symbols False ['to', 'vo', 'po', 'As', 'Bs'] 0.8791703184341223\n",
            "test.tsv symbols False ['to', 'vo', 'po', 'As', 'Bs'] 0.7980053004031695\n",
            "dev.tsv symbols False ['vo', 'po', 'As', 'Bs'] 0.739877300613497\n",
            "test.tsv symbols False ['vo', 'po', 'As', 'Bs'] 0.7719868053793454\n",
            "dev.tsv symbols False ['to', 'up', 'po', 'As', 'Bs'] 0.8862985685071576\n",
            "test.tsv symbols False ['to', 'up', 'po', 'As', 'Bs'] 0.7987101412501063\n",
            "dev.tsv symbols False ['up', 'po', 'As', 'Bs'] 0.7521472392638038\n",
            "test.tsv symbols False ['up', 'po', 'As', 'Bs'] 0.773763004313626\n",
            "dev.tsv symbols False ['to', 'po', 'As', 'Bs'] 0.8777096114519429\n",
            "test.tsv symbols False ['to', 'po', 'As', 'Bs'] 0.7960655783923994\n",
            "dev.tsv symbols False ['po', 'As', 'Bs'] 0.7521472392638038\n",
            "test.tsv symbols False ['po', 'As', 'Bs'] 0.7796836674278949\n",
            "dev.tsv symbols False ['to', 'up', 'vo', 'As', 'Bs'] 0.8791703184341223\n",
            "test.tsv symbols False ['to', 'up', 'vo', 'As', 'Bs'] 0.7941596887422824\n",
            "dev.tsv symbols False ['up', 'vo', 'As', 'Bs'] 0.7276073619631902\n",
            "test.tsv symbols False ['up', 'vo', 'As', 'Bs'] 0.7571851475936734\n",
            "dev.tsv symbols False ['to', 'vo', 'As', 'Bs'] 0.8791703184341223\n",
            "test.tsv symbols False ['to', 'vo', 'As', 'Bs'] 0.8012644844794049\n",
            "dev.tsv symbols False ['vo', 'As', 'Bs'] 0.7276073619631902\n",
            "test.tsv symbols False ['vo', 'As', 'Bs'] 0.7666582085765035\n",
            "dev.tsv symbols False ['to', 'up', 'As', 'Bs'] 0.8853052877592756\n",
            "test.tsv symbols False ['to', 'up', 'As', 'Bs'] 0.8182934393413971\n",
            "dev.tsv symbols False ['up', 'As', 'Bs'] 0.4954133800759567\n",
            "test.tsv symbols False ['up', 'As', 'Bs'] 0.42796761491255225\n",
            "dev.tsv symbols False ['to', 'As', 'Bs'] 0.8853052877592756\n",
            "test.tsv symbols False ['to', 'As', 'Bs'] 0.8191434774028028\n",
            "dev.tsv symbols False ['As', 'Bs'] 0.48314344142564997\n",
            "test.tsv symbols False ['As', 'Bs'] 0.4304510041632592\n",
            "dev.tsv symbols False ['to', 'up', 'vo', 'po', 'tr', 'Bs'] 0.9370727432077126\n",
            "test.tsv symbols False ['to', 'up', 'vo', 'po', 'tr', 'Bs'] 0.8968282161887849\n",
            "dev.tsv symbols False ['up', 'vo', 'po', 'tr', 'Bs'] 0.9370727432077126\n",
            "test.tsv symbols False ['up', 'vo', 'po', 'tr', 'Bs'] 0.8932701795934482\n",
            "dev.tsv symbols False ['to', 'vo', 'po', 'tr', 'Bs'] 0.9370727432077126\n",
            "test.tsv symbols False ['to', 'vo', 'po', 'tr', 'Bs'] 0.8983675885984949\n",
            "dev.tsv symbols False ['vo', 'po', 'tr', 'Bs'] 0.9318141980718668\n",
            "test.tsv symbols False ['vo', 'po', 'tr', 'Bs'] 0.8989822098170237\n",
            "dev.tsv symbols False ['to', 'up', 'po', 'tr', 'Bs'] 0.9370727432077126\n",
            "test.tsv symbols False ['to', 'up', 'po', 'tr', 'Bs'] 0.8950520172545042\n",
            "dev.tsv symbols False ['up', 'po', 'tr', 'Bs'] 0.9318141980718668\n",
            "test.tsv symbols False ['up', 'po', 'tr', 'Bs'] 0.8933491217683053\n",
            "dev.tsv symbols False ['to', 'po', 'tr', 'Bs'] 0.9370727432077126\n",
            "test.tsv symbols False ['to', 'po', 'tr', 'Bs'] 0.8984070596859233\n",
            "dev.tsv symbols False ['po', 'tr', 'Bs'] 0.9281332164767747\n",
            "test.tsv symbols False ['po', 'tr', 'Bs'] 0.8975612506695994\n",
            "dev.tsv symbols False ['to', 'up', 'vo', 'tr', 'Bs'] 0.9370727432077126\n",
            "test.tsv symbols False ['to', 'up', 'vo', 'tr', 'Bs'] 0.8948151907299335\n",
            "dev.tsv symbols False ['up', 'vo', 'tr', 'Bs'] 0.9370727432077126\n",
            "test.tsv symbols False ['up', 'vo', 'tr', 'Bs'] 0.8930615467027551\n",
            "dev.tsv symbols False ['to', 'vo', 'tr', 'Bs'] 0.9318141980718668\n",
            "test.tsv symbols False ['to', 'vo', 'tr', 'Bs'] 0.9001437875327755\n",
            "dev.tsv symbols False ['vo', 'tr', 'Bs'] 0.9370727432077126\n",
            "test.tsv symbols False ['vo', 'tr', 'Bs'] 0.8981533169810263\n",
            "dev.tsv symbols False ['to', 'up', 'tr', 'Bs'] 0.9370727432077126\n",
            "test.tsv symbols False ['to', 'up', 'tr', 'Bs'] 0.8933942315825092\n",
            "dev.tsv symbols False ['up', 'tr', 'Bs'] 0.9272567922874673\n",
            "test.tsv symbols False ['up', 'tr', 'Bs'] 0.8898249175336215\n",
            "dev.tsv symbols False ['to', 'tr', 'Bs'] 0.9333917616126205\n",
            "test.tsv symbols False ['to', 'tr', 'Bs'] 0.8983393949646176\n",
            "dev.tsv symbols False ['tr', 'Bs'] 0.9333917616126206\n",
            "test.tsv symbols False ['tr', 'Bs'] 0.8939524655332831\n",
            "dev.tsv symbols False ['to', 'up', 'vo', 'po', 'Bs'] 0.8552731522056678\n",
            "test.tsv symbols False ['to', 'up', 'vo', 'po', 'Bs'] 0.7970833685753764\n",
            "dev.tsv symbols False ['up', 'vo', 'po', 'Bs'] 0.7386503067484663\n",
            "test.tsv symbols False ['up', 'vo', 'po', 'Bs'] 0.7515689757252813\n",
            "dev.tsv symbols False ['to', 'vo', 'po', 'Bs'] 0.8552731522056678\n",
            "test.tsv symbols False ['to', 'vo', 'po', 'Bs'] 0.7973681242775383\n",
            "dev.tsv symbols False ['vo', 'po', 'Bs'] 0.7386503067484663\n",
            "test.tsv symbols False ['vo', 'po', 'Bs'] 0.7539372409709888\n",
            "dev.tsv symbols False ['to', 'up', 'po', 'Bs'] 0.8515921706105759\n",
            "test.tsv symbols False ['to', 'up', 'po', 'Bs'] 0.7976754348868033\n",
            "dev.tsv symbols False ['up', 'po', 'Bs'] 0.7337423312883435\n",
            "test.tsv symbols False ['up', 'po', 'Bs'] 0.7519242155121374\n",
            "dev.tsv symbols False ['to', 'po', 'Bs'] 0.8454572012854226\n",
            "test.tsv symbols False ['to', 'po', 'Bs'] 0.7983069722856586\n",
            "dev.tsv symbols False ['po', 'Bs'] 0.7361963190184049\n",
            "test.tsv symbols False ['po', 'Bs'] 0.7726465364120781\n",
            "dev.tsv symbols False ['to', 'up', 'vo', 'Bs'] 0.8589541338007599\n",
            "test.tsv symbols False ['to', 'up', 'vo', 'Bs'] 0.788154444726381\n",
            "dev.tsv symbols False ['up', 'vo', 'Bs'] 0.7239263803680982\n",
            "test.tsv symbols False ['up', 'vo', 'Bs'] 0.7572528123149793\n",
            "dev.tsv symbols False ['to', 'vo', 'Bs'] 0.8528191644756066\n",
            "test.tsv symbols False ['to', 'vo', 'Bs'] 0.7871422932701799\n",
            "dev.tsv symbols False ['vo', 'Bs'] 0.7239263803680982\n",
            "test.tsv symbols False ['vo', 'Bs'] 0.7655417406749556\n",
            "dev.tsv symbols False ['to', 'up', 'Bs'] 0.8589541338007599\n",
            "test.tsv symbols False ['to', 'up', 'Bs'] 0.7895049197891123\n",
            "dev.tsv symbols False ['up', 'Bs'] 0.5093193105463044\n",
            "test.tsv symbols False ['up', 'Bs'] 0.42972360840922075\n",
            "dev.tsv symbols False ['to', 'Bs'] 0.8528191644756066\n",
            "test.tsv symbols False ['to', 'Bs'] 0.7870238800078945\n",
            "dev.tsv symbols False ['Bs'] 0.48682442302074197\n",
            "test.tsv symbols False ['Bs'] 0.4353975772270613\n",
            "dev.tsv symbols False ['to', 'up', 'vo', 'po', 'tr', 'As'] 0.9329827636576102\n",
            "test.tsv symbols False ['to', 'up', 'vo', 'po', 'tr', 'As'] 0.8952099016042181\n",
            "dev.tsv symbols False ['up', 'vo', 'po', 'tr', 'As'] 0.9370727432077126\n",
            "test.tsv symbols False ['up', 'vo', 'po', 'tr', 'As'] 0.8950745721616064\n",
            "dev.tsv symbols False ['to', 'vo', 'po', 'tr', 'As'] 0.9329827636576102\n",
            "test.tsv symbols False ['to', 'vo', 'po', 'tr', 'As'] 0.8983675885984949\n",
            "dev.tsv symbols False ['vo', 'po', 'tr', 'As'] 0.9318141980718668\n",
            "test.tsv symbols False ['vo', 'po', 'tr', 'As'] 0.8989427387295953\n",
            "dev.tsv symbols False ['to', 'up', 'po', 'tr', 'As'] 0.9318141980718668\n",
            "test.tsv symbols False ['to', 'up', 'po', 'tr', 'As'] 0.8940257689813643\n",
            "dev.tsv symbols False ['up', 'po', 'tr', 'As'] 0.9318141980718668\n",
            "test.tsv symbols False ['up', 'po', 'tr', 'As'] 0.8931122952437345\n",
            "dev.tsv symbols False ['to', 'po', 'tr', 'As'] 0.9329827636576102\n",
            "test.tsv symbols False ['to', 'po', 'tr', 'As'] 0.8968282161887849\n",
            "dev.tsv symbols False ['po', 'tr', 'As'] 0.9256792287467135\n",
            "test.tsv symbols False ['po', 'tr', 'As'] 0.899692689390736\n",
            "dev.tsv symbols False ['to', 'up', 'vo', 'tr', 'As'] 0.9293017820625181\n",
            "test.tsv symbols False ['to', 'up', 'vo', 'tr', 'As'] 0.8930784628830813\n",
            "dev.tsv symbols False ['up', 'vo', 'tr', 'As'] 0.9277242185217647\n",
            "test.tsv symbols False ['up', 'vo', 'tr', 'As'] 0.8933773154021827\n",
            "dev.tsv symbols False ['to', 'vo', 'tr', 'As'] 0.9329827636576102\n",
            "test.tsv symbols False ['to', 'vo', 'tr', 'As'] 0.8965913896642143\n",
            "dev.tsv symbols False ['vo', 'tr', 'As'] 0.9329827636576102\n",
            "test.tsv symbols False ['vo', 'tr', 'As'] 0.8992190363415945\n",
            "dev.tsv symbols False ['to', 'up', 'tr', 'As'] 0.9293017820625181\n",
            "test.tsv symbols False ['to', 'up', 'tr', 'As'] 0.8926048098339401\n",
            "dev.tsv symbols False ['up', 'tr', 'As'] 0.9333917616126206\n",
            "test.tsv symbols False ['up', 'tr', 'As'] 0.8888776114353386\n",
            "dev.tsv symbols False ['to', 'tr', 'As'] 0.9293017820625181\n",
            "test.tsv symbols False ['to', 'tr', 'As'] 0.8982999238771892\n",
            "dev.tsv symbols False ['tr', 'As'] 0.9297107800175285\n",
            "test.tsv symbols False ['tr', 'As'] 0.893140488877612\n",
            "dev.tsv symbols False ['to', 'up', 'vo', 'po', 'As'] 0.8892199824715165\n",
            "test.tsv symbols False ['to', 'up', 'vo', 'po', 'As'] 0.8003651075587137\n",
            "dev.tsv symbols False ['up', 'vo', 'po', 'As'] 0.739877300613497\n",
            "test.tsv symbols False ['up', 'vo', 'po', 'As'] 0.765237249429079\n",
            "dev.tsv symbols False ['to', 'vo', 'po', 'As'] 0.8892199824715165\n",
            "test.tsv symbols False ['to', 'vo', 'po', 'As'] 0.8073514900335509\n",
            "dev.tsv symbols False ['vo', 'po', 'As'] 0.739877300613497\n",
            "test.tsv symbols False ['vo', 'po', 'As'] 0.7711579125433479\n",
            "dev.tsv symbols False ['to', 'up', 'po', 'As'] 0.8892199824715165\n",
            "test.tsv symbols False ['to', 'up', 'po', 'As'] 0.8000098677718576\n",
            "dev.tsv symbols False ['up', 'po', 'As'] 0.7521472392638038\n",
            "test.tsv symbols False ['up', 'po', 'As'] 0.7711184414559195\n",
            "dev.tsv symbols False ['to', 'po', 'As'] 0.8892199824715165\n",
            "test.tsv symbols False ['to', 'po', 'As'] 0.8064831261101247\n",
            "dev.tsv symbols False ['po', 'As'] 0.7521472392638038\n",
            "test.tsv symbols False ['po', 'As'] 0.7788153035044688\n",
            "dev.tsv symbols False ['to', 'up', 'vo', 'As'] 0.8818580192813325\n",
            "test.tsv symbols False ['to', 'up', 'vo', 'As'] 0.7990061744058196\n",
            "dev.tsv symbols False ['up', 'vo', 'As'] 0.7276073619631902\n",
            "test.tsv symbols False ['up', 'vo', 'As'] 0.7563562547576759\n",
            "dev.tsv symbols False ['to', 'vo', 'As'] 0.8892199824715165\n",
            "test.tsv symbols False ['to', 'vo', 'As'] 0.8082987961318338\n",
            "dev.tsv symbols False ['vo', 'As'] 0.7276073619631902\n",
            "test.tsv symbols False ['vo', 'As'] 0.765829315740506\n",
            "dev.tsv symbols False ['to', 'up', 'As'] 0.8916739702015778\n",
            "test.tsv symbols False ['to', 'up', 'As'] 0.8161930136175254\n",
            "dev.tsv symbols False ['up', 'As'] 0.4933683903009056\n",
            "test.tsv symbols False ['up', 'As'] 0.43614893756989626\n",
            "dev.tsv symbols False ['to', 'As'] 0.8978089395267312\n",
            "test.tsv symbols False ['to', 'As'] 0.8249372691646231\n",
            "dev.tsv symbols False ['As'] 0.5117732982763658\n",
            "test.tsv symbols False ['As'] 0.42606548441361886\n",
            "dev.tsv symbols False ['to', 'up', 'vo', 'po', 'tr'] 0.9318141980718668\n",
            "test.tsv symbols False ['to', 'up', 'vo', 'po', 'tr'] 0.8948151907299335\n",
            "dev.tsv symbols False ['up', 'vo', 'po', 'tr'] 0.9281332164767749\n",
            "test.tsv symbols False ['up', 'vo', 'po', 'tr'] 0.8965462798500102\n",
            "dev.tsv symbols False ['to', 'vo', 'po', 'tr'] 0.9370727432077126\n",
            "test.tsv symbols False ['to', 'vo', 'po', 'tr'] 0.8983675885984949\n",
            "dev.tsv symbols False ['vo', 'po', 'tr'] 0.9333917616126206\n",
            "test.tsv symbols False ['vo', 'po', 'tr'] 0.8967831063745809\n",
            "dev.tsv symbols False ['to', 'up', 'po', 'tr'] 0.9318141980718668\n",
            "test.tsv symbols False ['to', 'up', 'po', 'tr'] 0.8944599509430774\n",
            "dev.tsv symbols False ['up', 'po', 'tr'] 0.9318141980718668\n",
            "test.tsv symbols False ['up', 'po', 'tr'] 0.8946516676534444\n",
            "dev.tsv symbols False ['to', 'po', 'tr'] 0.9370727432077126\n",
            "test.tsv symbols False ['to', 'po', 'tr'] 0.897775522287068\n",
            "dev.tsv symbols False ['po', 'tr'] 0.9318141980718668\n",
            "test.tsv symbols False ['po', 'tr'] 0.8975612506695994\n",
            "dev.tsv symbols False ['to', 'up', 'vo', 'tr'] 0.9333917616126205\n",
            "test.tsv symbols False ['to', 'up', 'vo', 'tr'] 0.8958019679156449\n",
            "dev.tsv symbols False ['up', 'vo', 'tr'] 0.9244522348816827\n",
            "test.tsv symbols False ['up', 'vo', 'tr'] 0.8950745721616064\n",
            "dev.tsv symbols False ['to', 'vo', 'tr'] 0.9333917616126205\n",
            "test.tsv symbols False ['to', 'vo', 'tr'] 0.8993543657842062\n",
            "dev.tsv symbols False ['vo', 'tr'] 0.9297107800175285\n",
            "test.tsv symbols False ['vo', 'tr'] 0.89933744960388\n",
            "dev.tsv symbols False ['to', 'up', 'tr'] 0.9333917616126205\n",
            "test.tsv symbols False ['to', 'up', 'tr'] 0.8931574050579385\n",
            "dev.tsv symbols False ['up', 'tr'] 0.9333917616126206\n",
            "test.tsv symbols False ['up', 'tr'] 0.8899038597084785\n",
            "dev.tsv symbols False ['to', 'tr'] 0.9333917616126205\n",
            "test.tsv symbols False ['to', 'tr'] 0.8990498745383297\n",
            "dev.tsv symbols False ['tr'] 0.9333917616126206\n",
            "test.tsv symbols False ['tr'] 0.8941667371507519\n",
            "dev.tsv symbols False ['to', 'up', 'vo', 'po'] 0.855740578439965\n",
            "test.tsv symbols False ['to', 'up', 'vo', 'po'] 0.7935577546589984\n",
            "dev.tsv symbols False ['up', 'vo', 'po'] 0.7361963190184049\n",
            "test.tsv symbols False ['up', 'vo', 'po'] 0.7667258732978094\n",
            "dev.tsv symbols False ['to', 'vo', 'po'] 0.855740578439965\n",
            "test.tsv symbols False ['to', 'vo', 'po'] 0.7974653923144156\n",
            "dev.tsv symbols False ['vo', 'po'] 0.7361963190184049\n",
            "test.tsv symbols False ['vo', 'po'] 0.7726465364120781\n",
            "dev.tsv symbols False ['to', 'up', 'po'] 0.855740578439965\n",
            "test.tsv symbols False ['to', 'up', 'po'] 0.7937269164622632\n",
            "dev.tsv symbols False ['up', 'po'] 0.7361963190184049\n",
            "test.tsv symbols False ['up', 'po'] 0.7667258732978094\n",
            "dev.tsv symbols False ['to', 'po'] 0.855740578439965\n",
            "test.tsv symbols False ['to', 'po'] 0.8013786686966089\n",
            "dev.tsv symbols False ['po'] 0.7361963190184049\n",
            "test.tsv symbols False ['po'] 0.7726465364120781\n",
            "dev.tsv symbols False ['to', 'up', 'vo'] 0.8581945661700265\n",
            "test.tsv symbols False ['to', 'up', 'vo'] 0.7853280329301646\n",
            "dev.tsv symbols False ['up', 'vo'] 0.7177914110429447\n",
            "test.tsv symbols False ['up', 'vo'] 0.7584369449378331\n",
            "dev.tsv symbols False ['to', 'vo'] 0.855740578439965\n",
            "test.tsv symbols False ['to', 'vo'] 0.7894894132904791\n",
            "dev.tsv symbols False ['vo'] 0.7177914110429447\n",
            "test.tsv symbols False ['vo'] 0.7679100059206632\n",
            "dev.tsv symbols False ['to', 'up'] 0.8581945661700265\n",
            "test.tsv symbols False ['to', 'up'] 0.7913953029405965\n",
            "dev.tsv symbols False ['up'] 0.5056383289512123\n",
            "test.tsv symbols False ['up'] 0.4398545208491918\n",
            "dev.tsv symbols False ['to'] 0.855740578439965\n",
            "test.tsv symbols False ['to'] 0.7943669119512815\n",
            "dev.tsv symbols False [] 0.48664913818288036\n",
            "test.tsv symbols False [] 0.4246106929055412\n",
            "CPU times: user 20min 28s, sys: 5.19 s, total: 20min 33s\n",
            "Wall time: 20min 35s\n"
          ],
          "name": "stdout"
        }
      ]
    },
    {
      "cell_type": "code",
      "metadata": {
        "id": "p5mMdAL8a_PX"
      },
      "source": [
        "big_output = pd.DataFrame({\n",
        "    'sample' : sample_col,\n",
        "    'tokenization' : type_col,\n",
        "    'one label for punctuation' : punct_col,\n",
        "    'features' : features_col,\n",
        "    'score' : score_col\n",
        "})"
      ],
      "execution_count": null,
      "outputs": []
    },
    {
      "cell_type": "code",
      "metadata": {
        "id": "KQTLEjNEF5sp"
      },
      "source": [
        "big_output = big_output.sort_values(by='score', ascending=False)"
      ],
      "execution_count": null,
      "outputs": []
    },
    {
      "cell_type": "code",
      "metadata": {
        "id": "jkxagwuAwzG8"
      },
      "source": [
        "big_output[big_output['sample'] == 'dev.tsv'].to_excel('dev_scores.xlsx')"
      ],
      "execution_count": null,
      "outputs": []
    },
    {
      "cell_type": "code",
      "metadata": {
        "id": "g02h5bEX3bEX"
      },
      "source": [
        "big_output[big_output['sample'] == 'test.tsv'].to_excel('test_scores.xlsx')"
      ],
      "execution_count": null,
      "outputs": []
    },
    {
      "cell_type": "code",
      "metadata": {
        "colab": {
          "base_uri": "https://localhost:8080/",
          "height": 419
        },
        "id": "H5wFdRUdGsIy",
        "outputId": "61fc3e71-2439-41bd-a7a1-c416fe912b08"
      },
      "source": [
        "big_output[big_output['sample'] == 'dev.tsv']"
      ],
      "execution_count": null,
      "outputs": [
        {
          "output_type": "execute_result",
          "data": {
            "text/html": [
              "<div>\n",
              "<style scoped>\n",
              "    .dataframe tbody tr th:only-of-type {\n",
              "        vertical-align: middle;\n",
              "    }\n",
              "\n",
              "    .dataframe tbody tr th {\n",
              "        vertical-align: top;\n",
              "    }\n",
              "\n",
              "    .dataframe thead th {\n",
              "        text-align: right;\n",
              "    }\n",
              "</style>\n",
              "<table border=\"1\" class=\"dataframe\">\n",
              "  <thead>\n",
              "    <tr style=\"text-align: right;\">\n",
              "      <th></th>\n",
              "      <th>sample</th>\n",
              "      <th>tokenization</th>\n",
              "      <th>one label for punctuation</th>\n",
              "      <th>features</th>\n",
              "      <th>score</th>\n",
              "    </tr>\n",
              "  </thead>\n",
              "  <tbody>\n",
              "    <tr>\n",
              "      <th>396</th>\n",
              "      <td>dev.tsv</td>\n",
              "      <td>letters</td>\n",
              "      <td>False</td>\n",
              "      <td>[to, po, tr, As]</td>\n",
              "      <td>0.950570</td>\n",
              "    </tr>\n",
              "    <tr>\n",
              "      <th>70</th>\n",
              "      <td>dev.tsv</td>\n",
              "      <td>letters</td>\n",
              "      <td>True</td>\n",
              "      <td>[vo, po, tr, Bs]</td>\n",
              "      <td>0.949518</td>\n",
              "    </tr>\n",
              "    <tr>\n",
              "      <th>456</th>\n",
              "      <td>dev.tsv</td>\n",
              "      <td>letters</td>\n",
              "      <td>False</td>\n",
              "      <td>[to, up, po, tr]</td>\n",
              "      <td>0.946889</td>\n",
              "    </tr>\n",
              "    <tr>\n",
              "      <th>136</th>\n",
              "      <td>dev.tsv</td>\n",
              "      <td>letters</td>\n",
              "      <td>True</td>\n",
              "      <td>[to, up, po, tr, As]</td>\n",
              "      <td>0.946889</td>\n",
              "    </tr>\n",
              "    <tr>\n",
              "      <th>132</th>\n",
              "      <td>dev.tsv</td>\n",
              "      <td>letters</td>\n",
              "      <td>True</td>\n",
              "      <td>[to, vo, po, tr, As]</td>\n",
              "      <td>0.946889</td>\n",
              "    </tr>\n",
              "    <tr>\n",
              "      <th>...</th>\n",
              "      <td>...</td>\n",
              "      <td>...</td>\n",
              "      <td>...</td>\n",
              "      <td>...</td>\n",
              "      <td>...</td>\n",
              "    </tr>\n",
              "    <tr>\n",
              "      <th>250</th>\n",
              "      <td>dev.tsv</td>\n",
              "      <td>letters</td>\n",
              "      <td>True</td>\n",
              "      <td>[up]</td>\n",
              "      <td>0.472918</td>\n",
              "    </tr>\n",
              "    <tr>\n",
              "      <th>574</th>\n",
              "      <td>dev.tsv</td>\n",
              "      <td>symbols</td>\n",
              "      <td>True</td>\n",
              "      <td>[As, Bs]</td>\n",
              "      <td>0.470815</td>\n",
              "    </tr>\n",
              "    <tr>\n",
              "      <th>698</th>\n",
              "      <td>dev.tsv</td>\n",
              "      <td>symbols</td>\n",
              "      <td>True</td>\n",
              "      <td>[up, As]</td>\n",
              "      <td>0.470479</td>\n",
              "    </tr>\n",
              "    <tr>\n",
              "      <th>702</th>\n",
              "      <td>dev.tsv</td>\n",
              "      <td>symbols</td>\n",
              "      <td>True</td>\n",
              "      <td>[As]</td>\n",
              "      <td>0.458034</td>\n",
              "    </tr>\n",
              "    <tr>\n",
              "      <th>766</th>\n",
              "      <td>dev.tsv</td>\n",
              "      <td>symbols</td>\n",
              "      <td>True</td>\n",
              "      <td>[]</td>\n",
              "      <td>0.454572</td>\n",
              "    </tr>\n",
              "  </tbody>\n",
              "</table>\n",
              "<p>512 rows × 5 columns</p>\n",
              "</div>"
            ],
            "text/plain": [
              "      sample tokenization  ...              features     score\n",
              "396  dev.tsv      letters  ...      [to, po, tr, As]  0.950570\n",
              "70   dev.tsv      letters  ...      [vo, po, tr, Bs]  0.949518\n",
              "456  dev.tsv      letters  ...      [to, up, po, tr]  0.946889\n",
              "136  dev.tsv      letters  ...  [to, up, po, tr, As]  0.946889\n",
              "132  dev.tsv      letters  ...  [to, vo, po, tr, As]  0.946889\n",
              "..       ...          ...  ...                   ...       ...\n",
              "250  dev.tsv      letters  ...                  [up]  0.472918\n",
              "574  dev.tsv      symbols  ...              [As, Bs]  0.470815\n",
              "698  dev.tsv      symbols  ...              [up, As]  0.470479\n",
              "702  dev.tsv      symbols  ...                  [As]  0.458034\n",
              "766  dev.tsv      symbols  ...                    []  0.454572\n",
              "\n",
              "[512 rows x 5 columns]"
            ]
          },
          "metadata": {
            "tags": []
          },
          "execution_count": 46
        }
      ]
    },
    {
      "cell_type": "code",
      "metadata": {
        "colab": {
          "base_uri": "https://localhost:8080/",
          "height": 419
        },
        "id": "H6jh2MSWOFyy",
        "outputId": "c4c01830-1378-4eca-937a-89a2bc7816be"
      },
      "source": [
        "big_output[big_output['sample'] == 'test.tsv']"
      ],
      "execution_count": null,
      "outputs": [
        {
          "output_type": "execute_result",
          "data": {
            "text/html": [
              "<div>\n",
              "<style scoped>\n",
              "    .dataframe tbody tr th:only-of-type {\n",
              "        vertical-align: middle;\n",
              "    }\n",
              "\n",
              "    .dataframe tbody tr th {\n",
              "        vertical-align: top;\n",
              "    }\n",
              "\n",
              "    .dataframe thead th {\n",
              "        text-align: right;\n",
              "    }\n",
              "</style>\n",
              "<table border=\"1\" class=\"dataframe\">\n",
              "  <thead>\n",
              "    <tr style=\"text-align: right;\">\n",
              "      <th></th>\n",
              "      <th>sample</th>\n",
              "      <th>tokenization</th>\n",
              "      <th>one label for punctuation</th>\n",
              "      <th>features</th>\n",
              "      <th>score</th>\n",
              "    </tr>\n",
              "  </thead>\n",
              "  <tbody>\n",
              "    <tr>\n",
              "      <th>157</th>\n",
              "      <td>test.tsv</td>\n",
              "      <td>letters</td>\n",
              "      <td>True</td>\n",
              "      <td>[to, tr, As]</td>\n",
              "      <td>0.909910</td>\n",
              "    </tr>\n",
              "    <tr>\n",
              "      <th>141</th>\n",
              "      <td>test.tsv</td>\n",
              "      <td>letters</td>\n",
              "      <td>True</td>\n",
              "      <td>[to, po, tr, As]</td>\n",
              "      <td>0.909589</td>\n",
              "    </tr>\n",
              "    <tr>\n",
              "      <th>413</th>\n",
              "      <td>test.tsv</td>\n",
              "      <td>letters</td>\n",
              "      <td>False</td>\n",
              "      <td>[to, tr, As]</td>\n",
              "      <td>0.909047</td>\n",
              "    </tr>\n",
              "    <tr>\n",
              "      <th>285</th>\n",
              "      <td>test.tsv</td>\n",
              "      <td>letters</td>\n",
              "      <td>False</td>\n",
              "      <td>[to, tr, As, Bs]</td>\n",
              "      <td>0.908946</td>\n",
              "    </tr>\n",
              "    <tr>\n",
              "      <th>389</th>\n",
              "      <td>test.tsv</td>\n",
              "      <td>letters</td>\n",
              "      <td>False</td>\n",
              "      <td>[to, vo, po, tr, As]</td>\n",
              "      <td>0.908856</td>\n",
              "    </tr>\n",
              "    <tr>\n",
              "      <th>...</th>\n",
              "      <td>...</td>\n",
              "      <td>...</td>\n",
              "      <td>...</td>\n",
              "      <td>...</td>\n",
              "      <td>...</td>\n",
              "    </tr>\n",
              "    <tr>\n",
              "      <th>959</th>\n",
              "      <td>test.tsv</td>\n",
              "      <td>symbols</td>\n",
              "      <td>False</td>\n",
              "      <td>[As]</td>\n",
              "      <td>0.426065</td>\n",
              "    </tr>\n",
              "    <tr>\n",
              "      <th>575</th>\n",
              "      <td>test.tsv</td>\n",
              "      <td>symbols</td>\n",
              "      <td>True</td>\n",
              "      <td>[As, Bs]</td>\n",
              "      <td>0.425240</td>\n",
              "    </tr>\n",
              "    <tr>\n",
              "      <th>1023</th>\n",
              "      <td>test.tsv</td>\n",
              "      <td>symbols</td>\n",
              "      <td>False</td>\n",
              "      <td>[]</td>\n",
              "      <td>0.424611</td>\n",
              "    </tr>\n",
              "    <tr>\n",
              "      <th>703</th>\n",
              "      <td>test.tsv</td>\n",
              "      <td>symbols</td>\n",
              "      <td>True</td>\n",
              "      <td>[As]</td>\n",
              "      <td>0.422712</td>\n",
              "    </tr>\n",
              "    <tr>\n",
              "      <th>767</th>\n",
              "      <td>test.tsv</td>\n",
              "      <td>symbols</td>\n",
              "      <td>True</td>\n",
              "      <td>[]</td>\n",
              "      <td>0.411205</td>\n",
              "    </tr>\n",
              "  </tbody>\n",
              "</table>\n",
              "<p>512 rows × 5 columns</p>\n",
              "</div>"
            ],
            "text/plain": [
              "        sample tokenization  ...              features     score\n",
              "157   test.tsv      letters  ...          [to, tr, As]  0.909910\n",
              "141   test.tsv      letters  ...      [to, po, tr, As]  0.909589\n",
              "413   test.tsv      letters  ...          [to, tr, As]  0.909047\n",
              "285   test.tsv      letters  ...      [to, tr, As, Bs]  0.908946\n",
              "389   test.tsv      letters  ...  [to, vo, po, tr, As]  0.908856\n",
              "...        ...          ...  ...                   ...       ...\n",
              "959   test.tsv      symbols  ...                  [As]  0.426065\n",
              "575   test.tsv      symbols  ...              [As, Bs]  0.425240\n",
              "1023  test.tsv      symbols  ...                    []  0.424611\n",
              "703   test.tsv      symbols  ...                  [As]  0.422712\n",
              "767   test.tsv      symbols  ...                    []  0.411205\n",
              "\n",
              "[512 rows x 5 columns]"
            ]
          },
          "metadata": {
            "tags": []
          },
          "execution_count": 47
        }
      ]
    },
    {
      "cell_type": "markdown",
      "metadata": {
        "id": "wJS2B9DSaEBT"
      },
      "source": [
        "## Подберём гиперпараметры   \n",
        "(ничего не получилось, алгоритмы случайные и результаты немного меняются туда-сюда)\n",
        "\n"
      ]
    },
    {
      "cell_type": "code",
      "metadata": {
        "id": "578CkSvgaGC-"
      },
      "source": [
        "features = {'token' : lower,\n",
        "            'position' : position,\n",
        "            'trigramma' : trigramma,\n",
        "            'Aset' : set_a\n",
        "            }"
      ],
      "execution_count": null,
      "outputs": []
    },
    {
      "cell_type": "code",
      "metadata": {
        "colab": {
          "base_uri": "https://localhost:8080/"
        },
        "id": "LsAVwKZXaOJm",
        "outputId": "3a1a2187-2bdd-4a8a-9770-c6c591699b49"
      },
      "source": [
        "%%time\n",
        "    for alg in ['lbfgs', 'l2sgd','ap', 'pa', 'arow']:\n",
        "      # создаём алгоритм\n",
        "      crf = sklearn_crfsuite.CRF(\n",
        "      algorithm=alg\n",
        "      )  \n",
        "      #открываем тренировочную выборку\n",
        "      df_train, X_train, y_train =  tsv_to_samples('train.tsv', features, is_train=True, unite_punct=False, type_='letters')\n",
        "      #обучаем алгоритм\n",
        "      crf.fit(X_train, y_train)\n",
        "      #считаем скор\n",
        "      score = predict_and_score(crf, df_dev, X_dev, name='dev')\n",
        "      print(alg, score)"
      ],
      "execution_count": null,
      "outputs": [
        {
          "output_type": "stream",
          "text": [
            "lbfgs {'precision': 0.8987730061349694, 'recall': 0.8895705521472392, 'f-measure': 0.8933683903009059}\n",
            "l2sgd {'precision': 0.8987730061349694, 'recall': 0.8895705521472392, 'f-measure': 0.8933683903009059}\n",
            "ap {'precision': 0.9120654396728017, 'recall': 0.911042944785276, 'f-measure': 0.9112474437627813}\n",
            "pa {'precision': 0.9151329243353784, 'recall': 0.9130879345603271, 'f-measure': 0.9137014314928426}\n",
            "arow {'precision': 0.8870143149284252, 'recall': 0.8844580777096114, 'f-measure': 0.8845457201285425}\n",
            "CPU times: user 24.6 s, sys: 59.5 ms, total: 24.6 s\n",
            "Wall time: 24.7 s\n"
          ],
          "name": "stdout"
        }
      ]
    },
    {
      "cell_type": "code",
      "metadata": {
        "colab": {
          "base_uri": "https://localhost:8080/"
        },
        "id": "BFqX16L_aiTO",
        "outputId": "cee2524e-4014-4c96-a96d-b2e7fd1b7c09"
      },
      "source": [
        "iter_scores = []\n",
        "for i in range(1, 101):\n",
        "      # создаём алгоритм\n",
        "      crf = sklearn_crfsuite.CRF(\n",
        "      algorithm='pa', max_iterations = i\n",
        "      )  \n",
        "      #открываем тренировочную выборку\n",
        "      df_train, X_train, y_train =  tsv_to_samples('train.tsv', features, is_train=True, unite_punct=False, type_='letters')\n",
        "      #обучаем алгоритм\n",
        "      crf.fit(X_train, y_train)\n",
        "      #считаем скор\n",
        "      score = predict_and_score(crf, df_dev, X_dev, name='dev')\n",
        "      iter_scores.append(score['f-measure'])\n",
        "      print(i, score)"
      ],
      "execution_count": null,
      "outputs": [
        {
          "output_type": "stream",
          "text": [
            "1 {'precision': 0.8660531697341515, 'recall': 0.8558282208588958, 'f-measure': 0.860064271107216}\n",
            "2 {'precision': 0.8844580777096116, 'recall': 0.8742331288343558, 'f-measure': 0.8784691790826761}\n",
            "3 {'precision': 0.8987730061349694, 'recall': 0.8916155419222903, 'f-measure': 0.8945369558866494}\n",
            "4 {'precision': 0.9130879345603272, 'recall': 0.9089979550102248, 'f-measure': 0.9106631609699095}\n",
            "5 {'precision': 0.9304703476482619, 'recall': 0.9284253578732106, 'f-measure': 0.9292433537832311}\n",
            "6 {'precision': 0.9212678936605319, 'recall': 0.9202453987730062, 'f-measure': 0.920479111890155}\n",
            "7 {'precision': 0.9141104294478528, 'recall': 0.9100204498977504, 'f-measure': 0.9117148699970786}\n",
            "8 {'precision': 0.9120654396728016, 'recall': 0.9069529652351737, 'f-measure': 0.9090855974291557}\n",
            "9 {'precision': 0.9427402862985687, 'recall': 0.9406952965235172, 'f-measure': 0.9415132924335379}\n",
            "10 {'precision': 0.9212678936605319, 'recall': 0.918200408997955, 'f-measure': 0.9194274028629857}\n",
            "11 {'precision': 0.9182004089979551, 'recall': 0.9161554192229038, 'f-measure': 0.9169734151329245}\n",
            "12 {'precision': 0.9182004089979551, 'recall': 0.9161554192229038, 'f-measure': 0.9169734151329245}\n",
            "13 {'precision': 0.9212678936605319, 'recall': 0.9202453987730062, 'f-measure': 0.9206543967280163}\n",
            "14 {'precision': 0.9182004089979551, 'recall': 0.9161554192229038, 'f-measure': 0.9169734151329245}\n",
            "15 {'precision': 0.9182004089979551, 'recall': 0.9161554192229038, 'f-measure': 0.9169734151329245}\n",
            "16 {'precision': 0.934560327198364, 'recall': 0.9325153374233128, 'f-measure': 0.9333333333333335}\n",
            "17 {'precision': 0.9284253578732106, 'recall': 0.9253578732106338, 'f-measure': 0.9266140812153083}\n",
            "18 {'precision': 0.9304703476482619, 'recall': 0.9284253578732106, 'f-measure': 0.9292433537832313}\n",
            "19 {'precision': 0.9304703476482619, 'recall': 0.9284253578732106, 'f-measure': 0.9292433537832313}\n",
            "20 {'precision': 0.9141104294478528, 'recall': 0.9130879345603271, 'f-measure': 0.9132924335378324}\n",
            "21 {'precision': 0.9314928425357872, 'recall': 0.9294478527607362, 'f-measure': 0.9302950628104001}\n",
            "22 {'precision': 0.9304703476482619, 'recall': 0.9284253578732106, 'f-measure': 0.9292433537832313}\n",
            "23 {'precision': 0.9304703476482619, 'recall': 0.9284253578732106, 'f-measure': 0.9292433537832313}\n",
            "24 {'precision': 0.9243353783231083, 'recall': 0.9222903885480571, 'f-measure': 0.9229330996202161}\n",
            "25 {'precision': 0.9182004089979551, 'recall': 0.9161554192229038, 'f-measure': 0.9169734151329245}\n",
            "26 {'precision': 0.9304703476482619, 'recall': 0.9284253578732106, 'f-measure': 0.9292433537832313}\n",
            "27 {'precision': 0.9284253578732106, 'recall': 0.9253578732106338, 'f-measure': 0.9266140812153083}\n",
            "28 {'precision': 0.9284253578732106, 'recall': 0.9253578732106338, 'f-measure': 0.9266140812153083}\n",
            "29 {'precision': 0.9304703476482619, 'recall': 0.9284253578732106, 'f-measure': 0.9292433537832313}\n",
            "30 {'precision': 0.9304703476482619, 'recall': 0.9284253578732106, 'f-measure': 0.9292433537832313}\n",
            "31 {'precision': 0.9212678936605319, 'recall': 0.9202453987730062, 'f-measure': 0.9206543967280163}\n",
            "32 {'precision': 0.9263803680981595, 'recall': 0.9253578732106338, 'f-measure': 0.9255623721881391}\n",
            "33 {'precision': 0.9263803680981595, 'recall': 0.9253578732106338, 'f-measure': 0.9255623721881391}\n",
            "34 {'precision': 0.9304703476482619, 'recall': 0.9284253578732106, 'f-measure': 0.9292433537832313}\n",
            "35 {'precision': 0.9304703476482619, 'recall': 0.9284253578732106, 'f-measure': 0.9292433537832313}\n",
            "36 {'precision': 0.9141104294478528, 'recall': 0.9130879345603271, 'f-measure': 0.9132924335378324}\n",
            "37 {'precision': 0.9161554192229038, 'recall': 0.9130879345603271, 'f-measure': 0.9143441425650015}\n",
            "38 {'precision': 0.9243353783231083, 'recall': 0.9222903885480571, 'f-measure': 0.9229330996202161}\n",
            "39 {'precision': 0.9120654396728016, 'recall': 0.9100204498977504, 'f-measure': 0.9106631609699094}\n",
            "40 {'precision': 0.9284253578732106, 'recall': 0.9253578732106338, 'f-measure': 0.9266140812153083}\n",
            "41 {'precision': 0.9263803680981595, 'recall': 0.9253578732106338, 'f-measure': 0.9255623721881391}\n",
            "42 {'precision': 0.9141104294478528, 'recall': 0.9130879345603271, 'f-measure': 0.9132924335378324}\n",
            "43 {'precision': 0.9182004089979551, 'recall': 0.9161554192229038, 'f-measure': 0.9169734151329245}\n",
            "44 {'precision': 0.9304703476482619, 'recall': 0.9284253578732106, 'f-measure': 0.9292433537832313}\n",
            "45 {'precision': 0.9304703476482619, 'recall': 0.9284253578732106, 'f-measure': 0.9292433537832313}\n",
            "46 {'precision': 0.9314928425357873, 'recall': 0.9284253578732106, 'f-measure': 0.9296523517382415}\n",
            "47 {'precision': 0.9141104294478528, 'recall': 0.9130879345603271, 'f-measure': 0.9132924335378324}\n",
            "48 {'precision': 0.9294478527607362, 'recall': 0.9253578732106338, 'f-measure': 0.9270230791703185}\n",
            "49 {'precision': 0.9120654396728016, 'recall': 0.9100204498977504, 'f-measure': 0.9106631609699094}\n",
            "50 {'precision': 0.9141104294478528, 'recall': 0.9130879345603271, 'f-measure': 0.9132924335378324}\n",
            "51 {'precision': 0.9100204498977504, 'recall': 0.9100204498977504, 'f-measure': 0.9096114519427402}\n",
            "52 {'precision': 0.9120654396728016, 'recall': 0.9100204498977504, 'f-measure': 0.9106631609699094}\n",
            "53 {'precision': 0.9120654396728016, 'recall': 0.9100204498977504, 'f-measure': 0.9106631609699094}\n",
            "54 {'precision': 0.9120654396728016, 'recall': 0.9100204498977504, 'f-measure': 0.9106631609699094}\n",
            "55 {'precision': 0.9120654396728016, 'recall': 0.9100204498977504, 'f-measure': 0.9106631609699094}\n",
            "56 {'precision': 0.9243353783231083, 'recall': 0.9222903885480571, 'f-measure': 0.9229330996202161}\n",
            "57 {'precision': 0.9120654396728016, 'recall': 0.9100204498977504, 'f-measure': 0.9106631609699094}\n",
            "58 {'precision': 0.9161554192229038, 'recall': 0.9130879345603271, 'f-measure': 0.9143441425650015}\n",
            "59 {'precision': 0.9182004089979551, 'recall': 0.9161554192229038, 'f-measure': 0.9169734151329245}\n",
            "60 {'precision': 0.9263803680981595, 'recall': 0.9253578732106338, 'f-measure': 0.9255623721881391}\n",
            "61 {'precision': 0.9151329243353784, 'recall': 0.9130879345603271, 'f-measure': 0.9137014314928426}\n",
            "62 {'precision': 0.9161554192229038, 'recall': 0.9130879345603271, 'f-measure': 0.9143441425650015}\n",
            "63 {'precision': 0.9141104294478528, 'recall': 0.9130879345603271, 'f-measure': 0.9132924335378324}\n",
            "64 {'precision': 0.9151329243353784, 'recall': 0.9130879345603271, 'f-measure': 0.9137014314928426}\n",
            "65 {'precision': 0.911042944785276, 'recall': 0.9100204498977504, 'f-measure': 0.9100204498977505}\n",
            "66 {'precision': 0.9120654396728016, 'recall': 0.9100204498977504, 'f-measure': 0.9106631609699094}\n",
            "67 {'precision': 0.9079754601226994, 'recall': 0.9069529652351737, 'f-measure': 0.9069821793748176}\n",
            "68 {'precision': 0.9151329243353784, 'recall': 0.9130879345603271, 'f-measure': 0.9137014314928426}\n",
            "69 {'precision': 0.9120654396728016, 'recall': 0.9100204498977504, 'f-measure': 0.9106631609699094}\n",
            "70 {'precision': 0.9089979550102248, 'recall': 0.9069529652351737, 'f-measure': 0.9073911773298278}\n",
            "71 {'precision': 0.9151329243353784, 'recall': 0.9130879345603271, 'f-measure': 0.9137014314928426}\n",
            "72 {'precision': 0.9151329243353784, 'recall': 0.9130879345603271, 'f-measure': 0.9137014314928426}\n",
            "73 {'precision': 0.9130879345603271, 'recall': 0.9100204498977504, 'f-measure': 0.9110721589249198}\n",
            "74 {'precision': 0.9130879345603271, 'recall': 0.9100204498977504, 'f-measure': 0.9110721589249198}\n",
            "75 {'precision': 0.9171779141104295, 'recall': 0.9130879345603271, 'f-measure': 0.9147531405200118}\n",
            "76 {'precision': 0.9120654396728016, 'recall': 0.9100204498977504, 'f-measure': 0.9106631609699094}\n",
            "77 {'precision': 0.911042944785276, 'recall': 0.9100204498977504, 'f-measure': 0.9100204498977505}\n",
            "78 {'precision': 0.9120654396728016, 'recall': 0.9100204498977504, 'f-measure': 0.9106631609699094}\n",
            "79 {'precision': 0.9141104294478528, 'recall': 0.9130879345603271, 'f-measure': 0.9132924335378324}\n",
            "80 {'precision': 0.9192229038854807, 'recall': 0.9161554192229038, 'f-measure': 0.9173824130879348}\n",
            "81 {'precision': 0.9192229038854807, 'recall': 0.9161554192229038, 'f-measure': 0.9173824130879348}\n",
            "82 {'precision': 0.9130879345603271, 'recall': 0.9100204498977504, 'f-measure': 0.9110721589249198}\n",
            "83 {'precision': 0.9151329243353784, 'recall': 0.9130879345603271, 'f-measure': 0.9137014314928426}\n",
            "84 {'precision': 0.9120654396728017, 'recall': 0.9100204498977504, 'f-measure': 0.9106631609699094}\n",
            "85 {'precision': 0.9130879345603271, 'recall': 0.9100204498977504, 'f-measure': 0.9110721589249198}\n",
            "86 {'precision': 0.9130879345603271, 'recall': 0.9100204498977504, 'f-measure': 0.9110721589249198}\n",
            "87 {'precision': 0.9120654396728016, 'recall': 0.9100204498977504, 'f-measure': 0.9106631609699094}\n",
            "88 {'precision': 0.9120654396728017, 'recall': 0.911042944785276, 'f-measure': 0.9110721589249198}\n",
            "89 {'precision': 0.9089979550102248, 'recall': 0.9069529652351737, 'f-measure': 0.9073911773298278}\n",
            "90 {'precision': 0.9192229038854807, 'recall': 0.9161554192229038, 'f-measure': 0.9173824130879348}\n",
            "91 {'precision': 0.9130879345603271, 'recall': 0.9100204498977504, 'f-measure': 0.9110721589249198}\n",
            "92 {'precision': 0.9151329243353784, 'recall': 0.9130879345603271, 'f-measure': 0.9137014314928426}\n",
            "93 {'precision': 0.9151329243353784, 'recall': 0.9130879345603271, 'f-measure': 0.9137014314928426}\n",
            "94 {'precision': 0.9130879345603271, 'recall': 0.9100204498977504, 'f-measure': 0.9110721589249198}\n",
            "95 {'precision': 0.9130879345603271, 'recall': 0.9100204498977504, 'f-measure': 0.9110721589249198}\n",
            "96 {'precision': 0.9141104294478528, 'recall': 0.9130879345603271, 'f-measure': 0.9132924335378324}\n",
            "97 {'precision': 0.9100204498977504, 'recall': 0.9079754601226994, 'f-measure': 0.908442886356997}\n",
            "98 {'precision': 0.9151329243353784, 'recall': 0.9130879345603271, 'f-measure': 0.9137014314928426}\n",
            "99 {'precision': 0.9079754601226994, 'recall': 0.9079754601226994, 'f-measure': 0.9073911773298278}\n",
            "100 {'precision': 0.9171779141104295, 'recall': 0.9130879345603271, 'f-measure': 0.9147531405200118}\n"
          ],
          "name": "stdout"
        }
      ]
    },
    {
      "cell_type": "code",
      "metadata": {
        "colab": {
          "base_uri": "https://localhost:8080/",
          "height": 295
        },
        "id": "T6zSnG2_b1Yy",
        "outputId": "c7036dee-74f3-4dd1-9dd7-7c72e7a7b1ee"
      },
      "source": [
        "plt.plot(iter_scores, label='pa-dev')\n",
        "plt.ylabel('f-measure')\n",
        "plt.xlabel('iterations')\n",
        "plt.title('iterations-scores')\n",
        "plt.legend()\n",
        "plt.show()"
      ],
      "execution_count": null,
      "outputs": [
        {
          "output_type": "display_data",
          "data": {
            "image/png": "[encoded data removed]",
            "text/plain": [
              "<Figure size 432x288 with 1 Axes>"
            ]
          },
          "metadata": {
            "tags": [],
            "needs_background": "light"
          }
        }
      ]
    },
    {
      "cell_type": "code",
      "metadata": {
        "colab": {
          "base_uri": "https://localhost:8080/"
        },
        "id": "0F7KyL1YfOqN",
        "outputId": "a7b0a512-ac50-4852-8cac-b61b92ddcb54"
      },
      "source": [
        "iter_scores = []\n",
        "for i in range(1, 101):\n",
        "      # создаём алгоритм\n",
        "      crf = sklearn_crfsuite.CRF(\n",
        "      algorithm='ap', max_iterations = i\n",
        "      )  \n",
        "      #открываем тренировочную выборку\n",
        "      df_train, X_train, y_train =  tsv_to_samples('train.tsv', features, is_train=True, unite_punct=False, type_='letters')\n",
        "      #обучаем алгоритм\n",
        "      crf.fit(X_train, y_train)\n",
        "      #считаем скор\n",
        "      score = predict_and_score(crf, df_dev, X_dev, name='dev')\n",
        "      iter_scores.append(score['f-measure'])\n",
        "      print(i, score)"
      ],
      "execution_count": null,
      "outputs": [
        {
          "output_type": "stream",
          "text": [
            "1 {'precision': 0.8793456032719835, 'recall': 0.8650306748466258, 'f-measure': 0.8706397896581949}\n",
            "2 {'precision': 0.903885480572597, 'recall': 0.894683026584867, 'f-measure': 0.89845165059889}\n",
            "3 {'precision': 0.9049079754601227, 'recall': 0.8967280163599182, 'f-measure': 0.9001460706982181}\n",
            "4 {'precision': 0.903885480572597, 'recall': 0.8957055214723927, 'f-measure': 0.899094361671049}\n",
            "5 {'precision': 0.8987730061349694, 'recall': 0.8905930470347647, 'f-measure': 0.8940111013730646}\n",
            "6 {'precision': 0.9028629856850717, 'recall': 0.8967280163599182, 'f-measure': 0.8992696465089104}\n",
            "7 {'precision': 0.9089979550102248, 'recall': 0.9028629856850715, 'f-measure': 0.9054046158340637}\n",
            "8 {'precision': 0.911042944785276, 'recall': 0.9059304703476482, 'f-measure': 0.9080338884019866}\n",
            "9 {'precision': 0.9130879345603271, 'recall': 0.9089979550102248, 'f-measure': 0.9106631609699094}\n",
            "10 {'precision': 0.8987730061349694, 'recall': 0.8936605316973415, 'f-measure': 0.8957639497516798}\n",
            "11 {'precision': 0.9069529652351739, 'recall': 0.9028629856850715, 'f-measure': 0.9045281916447562}\n",
            "12 {'precision': 0.9089979550102248, 'recall': 0.9028629856850715, 'f-measure': 0.9054046158340637}\n",
            "13 {'precision': 0.9100204498977505, 'recall': 0.9069529652351737, 'f-measure': 0.9082091732398482}\n",
            "14 {'precision': 0.9079754601226994, 'recall': 0.9028629856850715, 'f-measure': 0.9049371895997664}\n",
            "15 {'precision': 0.9100204498977504, 'recall': 0.9069529652351737, 'f-measure': 0.9082091732398482}\n",
            "16 {'precision': 0.9059304703476482, 'recall': 0.9008179959100203, 'f-measure': 0.9029506281040024}\n",
            "17 {'precision': 0.9130879345603271, 'recall': 0.9089979550102248, 'f-measure': 0.9106631609699094}\n",
            "18 {'precision': 0.9141104294478528, 'recall': 0.911042944785276, 'f-measure': 0.9122991527899503}\n",
            "19 {'precision': 0.9069529652351739, 'recall': 0.9028629856850715, 'f-measure': 0.9045281916447562}\n",
            "20 {'precision': 0.9100204498977504, 'recall': 0.9069529652351737, 'f-measure': 0.9082091732398482}\n",
            "21 {'precision': 0.9120654396728016, 'recall': 0.9069529652351737, 'f-measure': 0.9090855974291556}\n",
            "22 {'precision': 0.9100204498977504, 'recall': 0.9069529652351737, 'f-measure': 0.9082091732398482}\n",
            "23 {'precision': 0.9100204498977504, 'recall': 0.9069529652351737, 'f-measure': 0.9082091732398482}\n",
            "24 {'precision': 0.9100204498977504, 'recall': 0.9069529652351737, 'f-measure': 0.9082091732398482}\n",
            "25 {'precision': 0.9182004089979551, 'recall': 0.9161554192229038, 'f-measure': 0.9169734151329245}\n",
            "26 {'precision': 0.9100204498977504, 'recall': 0.9069529652351737, 'f-measure': 0.9082091732398482}\n",
            "27 {'precision': 0.9171779141104295, 'recall': 0.9130879345603271, 'f-measure': 0.9147531405200118}\n",
            "28 {'precision': 0.9120654396728017, 'recall': 0.9100204498977504, 'f-measure': 0.9108384458077712}\n",
            "29 {'precision': 0.9192229038854804, 'recall': 0.9171779141104295, 'f-measure': 0.9180251241600934}\n",
            "30 {'precision': 0.9294478527607362, 'recall': 0.9253578732106338, 'f-measure': 0.9270230791703185}\n",
            "31 {'precision': 0.9100204498977504, 'recall': 0.9069529652351737, 'f-measure': 0.9082091732398482}\n",
            "32 {'precision': 0.9161554192229038, 'recall': 0.9130879345603271, 'f-measure': 0.9143441425650015}\n",
            "33 {'precision': 0.9161554192229038, 'recall': 0.9130879345603271, 'f-measure': 0.9143441425650015}\n",
            "34 {'precision': 0.9130879345603272, 'recall': 0.9100204498977504, 'f-measure': 0.9112474437627813}\n",
            "35 {'precision': 0.9161554192229038, 'recall': 0.9130879345603271, 'f-measure': 0.9143441425650015}\n",
            "36 {'precision': 0.9171779141104295, 'recall': 0.9130879345603271, 'f-measure': 0.9147531405200118}\n",
            "37 {'precision': 0.9151329243353783, 'recall': 0.911042944785276, 'f-measure': 0.9127665790242477}\n",
            "38 {'precision': 0.9141104294478528, 'recall': 0.9100204498977504, 'f-measure': 0.9117148699970786}\n",
            "39 {'precision': 0.9141104294478528, 'recall': 0.911042944785276, 'f-measure': 0.9122991527899503}\n",
            "40 {'precision': 0.911042944785276, 'recall': 0.9069529652351737, 'f-measure': 0.9086181711948583}\n",
            "41 {'precision': 0.9130879345603272, 'recall': 0.9100204498977504, 'f-measure': 0.9112474437627813}\n",
            "42 {'precision': 0.9059304703476482, 'recall': 0.9008179959100203, 'f-measure': 0.9029506281040024}\n",
            "43 {'precision': 0.911042944785276, 'recall': 0.9069529652351737, 'f-measure': 0.9086181711948583}\n",
            "44 {'precision': 0.9151329243353784, 'recall': 0.9130879345603271, 'f-measure': 0.9137014314928426}\n",
            "45 {'precision': 0.9171779141104295, 'recall': 0.9130879345603271, 'f-measure': 0.9147531405200118}\n",
            "46 {'precision': 0.9028629856850717, 'recall': 0.9008179959100203, 'f-measure': 0.9014314928425358}\n",
            "47 {'precision': 0.9192229038854804, 'recall': 0.9171779141104295, 'f-measure': 0.9180251241600934}\n",
            "48 {'precision': 0.911042944785276, 'recall': 0.9069529652351737, 'f-measure': 0.9086181711948583}\n",
            "49 {'precision': 0.9141104294478528, 'recall': 0.911042944785276, 'f-measure': 0.9122991527899503}\n",
            "50 {'precision': 0.9069529652351737, 'recall': 0.903885480572597, 'f-measure': 0.9049371895997664}\n",
            "51 {'precision': 0.9130879345603272, 'recall': 0.9100204498977504, 'f-measure': 0.9112474437627813}\n",
            "52 {'precision': 0.9141104294478528, 'recall': 0.9130879345603271, 'f-measure': 0.9132924335378324}\n",
            "53 {'precision': 0.9171779141104295, 'recall': 0.9130879345603271, 'f-measure': 0.9147531405200118}\n",
            "54 {'precision': 0.911042944785276, 'recall': 0.9069529652351737, 'f-measure': 0.9086181711948583}\n",
            "55 {'precision': 0.9069529652351737, 'recall': 0.903885480572597, 'f-measure': 0.9049371895997664}\n",
            "56 {'precision': 0.9028629856850715, 'recall': 0.8977505112474436, 'f-measure': 0.8996786444639207}\n",
            "57 {'precision': 0.9161554192229038, 'recall': 0.9141104294478528, 'f-measure': 0.9147531405200118}\n",
            "58 {'precision': 0.9089979550102251, 'recall': 0.9069529652351737, 'f-measure': 0.9075664621676892}\n",
            "59 {'precision': 0.911042944785276, 'recall': 0.9069529652351737, 'f-measure': 0.9086181711948583}\n",
            "60 {'precision': 0.9171779141104295, 'recall': 0.9130879345603271, 'f-measure': 0.9147531405200118}\n",
            "61 {'precision': 0.9171779141104295, 'recall': 0.9130879345603271, 'f-measure': 0.9147531405200118}\n",
            "62 {'precision': 0.9069529652351737, 'recall': 0.903885480572597, 'f-measure': 0.9049371895997664}\n",
            "63 {'precision': 0.9100204498977504, 'recall': 0.9069529652351737, 'f-measure': 0.9082091732398482}\n",
            "64 {'precision': 0.9100204498977504, 'recall': 0.9079754601226994, 'f-measure': 0.9086181711948583}\n",
            "65 {'precision': 0.9069529652351737, 'recall': 0.903885480572597, 'f-measure': 0.9049371895997664}\n",
            "66 {'precision': 0.9130879345603271, 'recall': 0.911042944785276, 'f-measure': 0.9118901548349402}\n",
            "67 {'precision': 0.9141104294478528, 'recall': 0.911042944785276, 'f-measure': 0.9122991527899503}\n",
            "68 {'precision': 0.9069529652351737, 'recall': 0.903885480572597, 'f-measure': 0.9049371895997664}\n",
            "69 {'precision': 0.9059304703476482, 'recall': 0.903885480572597, 'f-measure': 0.9045281916447562}\n",
            "70 {'precision': 0.9151329243353784, 'recall': 0.9130879345603271, 'f-measure': 0.9137014314928426}\n",
            "71 {'precision': 0.9069529652351737, 'recall': 0.903885480572597, 'f-measure': 0.9049371895997664}\n",
            "72 {'precision': 0.9141104294478528, 'recall': 0.911042944785276, 'f-measure': 0.9122991527899503}\n",
            "73 {'precision': 0.911042944785276, 'recall': 0.9069529652351737, 'f-measure': 0.9086181711948583}\n",
            "74 {'precision': 0.911042944785276, 'recall': 0.9069529652351737, 'f-measure': 0.9086181711948583}\n",
            "75 {'precision': 0.9069529652351737, 'recall': 0.903885480572597, 'f-measure': 0.9049371895997664}\n",
            "76 {'precision': 0.9089979550102251, 'recall': 0.9069529652351737, 'f-measure': 0.9075664621676892}\n",
            "77 {'precision': 0.9100204498977504, 'recall': 0.9049079754601227, 'f-measure': 0.9070406076541045}\n",
            "78 {'precision': 0.9069529652351737, 'recall': 0.903885480572597, 'f-measure': 0.9049371895997664}\n",
            "79 {'precision': 0.9100204498977504, 'recall': 0.9079754601226994, 'f-measure': 0.9086181711948583}\n",
            "80 {'precision': 0.9028629856850715, 'recall': 0.9008179959100203, 'f-measure': 0.9012562080046744}\n",
            "81 {'precision': 0.9141104294478528, 'recall': 0.911042944785276, 'f-measure': 0.9122991527899503}\n",
            "82 {'precision': 0.9069529652351737, 'recall': 0.903885480572597, 'f-measure': 0.9049371895997664}\n",
            "83 {'precision': 0.9069529652351737, 'recall': 0.903885480572597, 'f-measure': 0.9049371895997664}\n",
            "84 {'precision': 0.9028629856850715, 'recall': 0.8977505112474436, 'f-measure': 0.8996786444639207}\n",
            "85 {'precision': 0.9069529652351737, 'recall': 0.903885480572597, 'f-measure': 0.9049371895997664}\n",
            "86 {'precision': 0.911042944785276, 'recall': 0.9069529652351737, 'f-measure': 0.9086181711948583}\n",
            "87 {'precision': 0.9069529652351737, 'recall': 0.9008179959100203, 'f-measure': 0.9033596260590127}\n",
            "88 {'precision': 0.911042944785276, 'recall': 0.9069529652351737, 'f-measure': 0.9086181711948583}\n",
            "89 {'precision': 0.9069529652351737, 'recall': 0.903885480572597, 'f-measure': 0.9049371895997664}\n",
            "90 {'precision': 0.9069529652351737, 'recall': 0.903885480572597, 'f-measure': 0.9049371895997664}\n",
            "91 {'precision': 0.9069529652351737, 'recall': 0.903885480572597, 'f-measure': 0.9049371895997664}\n",
            "92 {'precision': 0.9059304703476482, 'recall': 0.903885480572597, 'f-measure': 0.9045281916447562}\n",
            "93 {'precision': 0.9069529652351737, 'recall': 0.903885480572597, 'f-measure': 0.9049371895997664}\n",
            "94 {'precision': 0.9069529652351737, 'recall': 0.903885480572597, 'f-measure': 0.9049371895997664}\n",
            "95 {'precision': 0.9069529652351737, 'recall': 0.903885480572597, 'f-measure': 0.9049371895997664}\n",
            "96 {'precision': 0.9069529652351737, 'recall': 0.903885480572597, 'f-measure': 0.9049371895997664}\n",
            "97 {'precision': 0.9141104294478528, 'recall': 0.911042944785276, 'f-measure': 0.9122991527899503}\n",
            "98 {'precision': 0.9069529652351737, 'recall': 0.903885480572597, 'f-measure': 0.9049371895997664}\n",
            "99 {'precision': 0.911042944785276, 'recall': 0.9069529652351737, 'f-measure': 0.9086181711948583}\n",
            "100 {'precision': 0.9069529652351737, 'recall': 0.903885480572597, 'f-measure': 0.9049371895997664}\n"
          ],
          "name": "stdout"
        }
      ]
    },
    {
      "cell_type": "code",
      "metadata": {
        "colab": {
          "base_uri": "https://localhost:8080/",
          "height": 295
        },
        "id": "MSOrYJwzfG11",
        "outputId": "48e54ce0-1c69-49a3-b7a6-215c0b2856f5"
      },
      "source": [
        "plt.plot(iter_scores, label='ap-dev')\n",
        "plt.ylabel('f-measure')\n",
        "plt.xlabel('iterations')\n",
        "plt.title('iterations-scores')\n",
        "plt.legend()\n",
        "plt.show()"
      ],
      "execution_count": null,
      "outputs": [
        {
          "output_type": "display_data",
          "data": {
            "image/png": "[encoded data removed]",
            "text/plain": [
              "<Figure size 432x288 with 1 Axes>"
            ]
          },
          "metadata": {
            "tags": [],
            "needs_background": "light"
          }
        }
      ]
    },
    {
      "cell_type": "code",
      "metadata": {
        "colab": {
          "base_uri": "https://localhost:8080/"
        },
        "id": "4TJw0g4Udl8s",
        "outputId": "e3bf9d1e-9dc0-4c34-913e-9e25c99d458d"
      },
      "source": [
        "for states in [True, False]:\n",
        "  for trans in [True, False]:\n",
        "      # создаём алгоритм\n",
        "      crf = sklearn_crfsuite.CRF(\n",
        "      algorithm='pa', max_iterations=9,\n",
        "      all_possible_states=states,\n",
        "      all_possible_transitions=trans\n",
        "      )  \n",
        "      #открываем тренировочную выборку\n",
        "      df_train, X_train, y_train =  tsv_to_samples('train.tsv', features, is_train=True, unite_punct=False, type_='letters')\n",
        "      #обучаем алгоритм\n",
        "      crf.fit(X_train, y_train)\n",
        "      #считаем скор\n",
        "      score = predict_and_score(crf, df_dev, X_dev, name='dev')\n",
        "      print('states', states, 'trans', trans, score)"
      ],
      "execution_count": null,
      "outputs": [
        {
          "output_type": "stream",
          "text": [
            "states True trans True {'precision': 0.9304703476482619, 'recall': 0.9284253578732106, 'f-measure': 0.9292433537832311}\n",
            "states True trans False {'precision': 0.9314928425357872, 'recall': 0.9304703476482615, 'f-measure': 0.9307040607654105}\n",
            "states False trans True {'precision': 0.9253578732106338, 'recall': 0.9212678936605316, 'f-measure': 0.9229330996202161}\n",
            "states False trans False {'precision': 0.9100204498977504, 'recall': 0.9069529652351737, 'f-measure': 0.9080338884019866}\n"
          ],
          "name": "stdout"
        }
      ]
    },
    {
      "cell_type": "code",
      "metadata": {
        "colab": {
          "base_uri": "https://localhost:8080/"
        },
        "id": "j_eJJMm4eVvV",
        "outputId": "1a54dd75-71f7-4218-e3c6-3851840648ae"
      },
      "source": [
        "      # создаём алгоритм\n",
        "      crf = sklearn_crfsuite.CRF(\n",
        "      algorithm='pa', max_iterations=100,\n",
        "      all_possible_states=True\n",
        "      )  \n",
        "      #открываем тренировочную выборку\n",
        "      df_train, X_train, y_train =  tsv_to_samples('train.tsv', features, is_train=True, unite_punct=False, type_='letters')\n",
        "      #обучаем алгоритм\n",
        "      crf.fit(X_train, y_train)\n",
        "      #считаем скор\n",
        "      score = predict_and_score(crf, df_test, X_test, name='test')\n",
        "      print(score)"
      ],
      "execution_count": null,
      "outputs": [
        {
          "output_type": "stream",
          "text": [
            "{'precision': 0.8931517663311621, 'recall': 0.8934971383461614, 'f-measure': 0.8928867461727149}\n"
          ],
          "name": "stdout"
        }
      ]
    },
    {
      "cell_type": "code",
      "metadata": {
        "id": "aaPmJELsinXf"
      },
      "source": [
        ""
      ],
      "execution_count": null,
      "outputs": []
    }
  ]
}