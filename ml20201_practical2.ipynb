{
 "cells": [
  {
   "cell_type": "code",
   "execution_count": 1,
   "metadata": {},
   "outputs": [],
   "source": [
    "import numpy as np\n",
    "\n",
    "import matplotlib.pyplot as plt\n",
    "\n",
    "from numpy.typing import ArrayLike\n",
    "\n",
    "from typing import Optional"
   ]
  },
  {
   "cell_type": "code",
   "execution_count": 2,
   "metadata": {},
   "outputs": [],
   "source": [
    "from collections import defaultdict"
   ]
  },
  {
   "cell_type": "code",
   "execution_count": 3,
   "metadata": {},
   "outputs": [],
   "source": [
    "d = defaultdict(int)"
   ]
  },
  {
   "cell_type": "markdown",
   "metadata": {},
   "source": [
    "Task 1"
   ]
  },
  {
   "cell_type": "code",
   "execution_count": 4,
   "metadata": {},
   "outputs": [],
   "source": [
    "def scatter_clusters(\n",
    "  centers: ArrayLike,\n",
    "  spread: ArrayLike,\n",
    "  n_points: int\n",
    ") -> ArrayLike:\n",
    "    clusters = []\n",
    "    dim = len(centers[0])\n",
    "    for i in range(len(centers)):\n",
    "        center = centers[i]\n",
    "        points = []\n",
    "        for j in range(dim):\n",
    "            points_d = (np.random.random(size=n_points) - 0.5) *spread[i] + center[j]\n",
    "            points.append(points_d)\n",
    "        clusters.append(np.array(points))\n",
    "    #retrun clusters\n",
    "    raw_points = [[], []]\n",
    "    labels = []\n",
    "    for i in range(len(clusters)):\n",
    "        for d in range(len(clusters[i])):\n",
    "            for j in range(len(clusters[i][d])):\n",
    "                raw_points[d].append(clusters[i][d][j])\n",
    "                if d == 0:\n",
    "                    labels.append(i)\n",
    "    for i in range(len(raw_points)):\n",
    "        raw_points[i] = np.array(raw_points[i])\n",
    "    return (raw_points, np.array(labels))"
   ]
  },
  {
   "cell_type": "code",
   "execution_count": 5,
   "metadata": {},
   "outputs": [],
   "source": [
    "easy_problem = scatter_clusters([[1, 2], [5, 7], [10, 2]], [4, 3, 2], 25)"
   ]
  },
  {
   "cell_type": "code",
   "execution_count": 6,
   "metadata": {},
   "outputs": [],
   "source": [
    "hard_problem = scatter_clusters([[3, 2], [5, 7], [6, 3]], [6, 4, 3], 15)"
   ]
  },
  {
   "cell_type": "code",
   "execution_count": 7,
   "metadata": {},
   "outputs": [],
   "source": [
    "def plot(points_and_labels):\n",
    "    points = points_and_labels[0]\n",
    "    labels = points_and_labels[1]\n",
    "    clusters = []\n",
    "    for i in set(labels):\n",
    "        cluster = []\n",
    "        cluster.append(points[0][labels == i])\n",
    "        cluster.append(points[1][labels == i])\n",
    "        clusters.append(cluster)\n",
    "    for cluster in clusters:\n",
    "        plt.scatter(cluster[0], cluster[1])\n",
    "    plt.show()"
   ]
  },
  {
   "cell_type": "code",
   "execution_count": 8,
   "metadata": {},
   "outputs": [
    {
     "data": {
      "image/png": "[encoded data removed]",
      "text/plain": [
       "<Figure size 432x288 with 1 Axes>"
      ]
     },
     "metadata": {
      "needs_background": "light"
     },
     "output_type": "display_data"
    }
   ],
   "source": [
    "plot(easy_problem)"
   ]
  },
  {
   "cell_type": "code",
   "execution_count": 9,
   "metadata": {},
   "outputs": [
    {
     "data": {
      "image/png": "[encoded data removed]",
      "text/plain": [
       "<Figure size 432x288 with 1 Axes>"
      ]
     },
     "metadata": {
      "needs_background": "light"
     },
     "output_type": "display_data"
    }
   ],
   "source": [
    "plot(hard_problem)"
   ]
  },
  {
   "cell_type": "markdown",
   "metadata": {},
   "source": [
    "Task 2"
   ]
  },
  {
   "cell_type": "code",
   "execution_count": 10,
   "metadata": {},
   "outputs": [],
   "source": [
    "def kmeans_cluster_assignment(\n",
    "  k: int,\n",
    "  points: ArrayLike,\n",
    "  centres_guess: Optional[ArrayLike] = None,\n",
    "  max_iterations: Optional[int] = None,\n",
    "  tolerance: Optional[float] = None\n",
    ") -> ArrayLike:\n",
    "    if max_iterations == None:\n",
    "        max_iterations = np.inf\n",
    "    if tolerance == None:\n",
    "        tolerance = -np.inf\n",
    "    N = len(points[0])\n",
    "    if centres_guess == None:\n",
    "        current_centres = []\n",
    "        for i in range(k):\n",
    "            current_centre = np.random.random(2) * np.array([max(points[0]), max(points[1])])\n",
    "            current_centres.append(current_centre)\n",
    "    else:\n",
    "        current_centres = centres_guess\n",
    "    iterations = 0\n",
    "    labels = np.zeros(N)\n",
    "    flag = True\n",
    "    while flag:\n",
    "        diffs = []\n",
    "        prev_labels = labels.copy()\n",
    "        for i in range(N):\n",
    "            point = np.array([points[0][i], points[1][i]])\n",
    "            nearest_centre = min(range(k), key = lambda x: np.linalg.norm(point - current_centres[x]))\n",
    "            labels[i] = nearest_centre\n",
    "        for i in range(k):\n",
    "            current_cluster = np.array([points[0][labels == i], points[1][labels == i]])\n",
    "            current_centre = np.array([np.mean(current_cluster[0]), np.mean(current_cluster[1])])\n",
    "            diffs.append(abs(current_centre - current_centres[i]))\n",
    "            current_centres[i] = current_centre\n",
    "        iterations += 1\n",
    "        print(iterations)\n",
    "        diff = np.mean(diffs)\n",
    "        plot([points, labels])\n",
    "        if np.all(labels == prev_labels):\n",
    "            flag = False\n",
    "        if iterations >= max_iterations:\n",
    "            flag = False\n",
    "        if diff < tolerance:\n",
    "            flag = False\n",
    "    return (labels, current_centres)"
   ]
  },
  {
   "cell_type": "code",
   "execution_count": 11,
   "metadata": {},
   "outputs": [],
   "source": [
    "points = easy_problem[0]"
   ]
  },
  {
   "cell_type": "code",
   "execution_count": 12,
   "metadata": {},
   "outputs": [
    {
     "name": "stdout",
     "output_type": "stream",
     "text": [
      "Wall time: 0 ns\n",
      "1\n"
     ]
    },
    {
     "data": {
      "image/png": "[encoded data removed]",
      "text/plain": [
       "<Figure size 432x288 with 1 Axes>"
      ]
     },
     "metadata": {
      "needs_background": "light"
     },
     "output_type": "display_data"
    },
    {
     "name": "stdout",
     "output_type": "stream",
     "text": [
      "2\n"
     ]
    },
    {
     "data": {
      "image/png": "[encoded data removed]",
      "text/plain": [
       "<Figure size 432x288 with 1 Axes>"
      ]
     },
     "metadata": {
      "needs_background": "light"
     },
     "output_type": "display_data"
    },
    {
     "name": "stdout",
     "output_type": "stream",
     "text": [
      "3\n"
     ]
    },
    {
     "data": {
      "image/png": "[encoded data removed]",
      "text/plain": [
       "<Figure size 432x288 with 1 Axes>"
      ]
     },
     "metadata": {
      "needs_background": "light"
     },
     "output_type": "display_data"
    },
    {
     "name": "stdout",
     "output_type": "stream",
     "text": [
      "4\n"
     ]
    },
    {
     "data": {
      "image/png": "[encoded data removed]",
      "text/plain": [
       "<Figure size 432x288 with 1 Axes>"
      ]
     },
     "metadata": {
      "needs_background": "light"
     },
     "output_type": "display_data"
    }
   ],
   "source": [
    "%time\n",
    "res = kmeans_cluster_assignment(3, points)"
   ]
  },
  {
   "cell_type": "code",
   "execution_count": 13,
   "metadata": {},
   "outputs": [
    {
     "data": {
      "image/png": "[encoded data removed]",
      "text/plain": [
       "<Figure size 432x288 with 1 Axes>"
      ]
     },
     "metadata": {
      "needs_background": "light"
     },
     "output_type": "display_data"
    }
   ],
   "source": [
    "plot((points, res[0]))"
   ]
  },
  {
   "cell_type": "markdown",
   "metadata": {},
   "source": [
    "Task 3"
   ]
  },
  {
   "cell_type": "code",
   "execution_count": 14,
   "metadata": {},
   "outputs": [],
   "source": [
    "from scipy.cluster.vq import kmeans, whiten"
   ]
  },
  {
   "cell_type": "code",
   "execution_count": 15,
   "metadata": {},
   "outputs": [],
   "source": [
    "features  = np.array(points).transpose()\n",
    "whitened = whiten(features)"
   ]
  },
  {
   "cell_type": "code",
   "execution_count": 16,
   "metadata": {},
   "outputs": [
    {
     "name": "stdout",
     "output_type": "stream",
     "text": [
      "Wall time: 18 ms\n"
     ]
    }
   ],
   "source": [
    "%%time\n",
    "scipy_centres = kmeans(whitened, k_or_guess=3)[0]"
   ]
  },
  {
   "cell_type": "markdown",
   "metadata": {},
   "source": [
    "Mine k-means is faster than scipy (it looks strange)"
   ]
  },
  {
   "cell_type": "code",
   "execution_count": 17,
   "metadata": {},
   "outputs": [
    {
     "data": {
      "text/plain": [
       "array([[1.37422757, 2.77868536],\n",
       "       [2.64814553, 0.79403304],\n",
       "       [0.28228868, 0.83837097]])"
      ]
     },
     "execution_count": 17,
     "metadata": {},
     "output_type": "execute_result"
    }
   ],
   "source": [
    "print(scipy_centres)"
   ]
  },
  {
   "cell_type": "code",
   "execution_count": 18,
   "metadata": {},
   "outputs": [
    {
     "data": {
      "image/png": "[encoded data removed]",
      "text/plain": [
       "<Figure size 432x288 with 1 Axes>"
      ]
     },
     "metadata": {
      "needs_background": "light"
     },
     "output_type": "display_data"
    }
   ],
   "source": [
    "plt.scatter(whitened[:, 0], whitened[:, 1])\n",
    "plt.scatter(scipy_centres[:, 0], scipy_centres[:, 1], c='r')\n",
    "plt.show()"
   ]
  },
  {
   "cell_type": "code",
   "execution_count": null,
   "metadata": {},
   "outputs": [],
   "source": []
  }
 ],
 "metadata": {
  "kernelspec": {
   "display_name": "Python 3",
   "language": "python",
   "name": "python3"
  },
  "language_info": {
   "codemirror_mode": {
    "name": "ipython",
    "version": 3
   },
   "file_extension": ".py",
   "mimetype": "text/x-python",
   "name": "python",
   "nbconvert_exporter": "python",
   "pygments_lexer": "ipython3",
   "version": "3.7.4"
  }
 },
 "nbformat": 4,
 "nbformat_minor": 2
}
