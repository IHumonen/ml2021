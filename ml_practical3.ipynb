{
 "cells": [
  {
   "cell_type": "markdown",
   "metadata": {},
   "source": [
    "# Task 1"
   ]
  },
  {
   "cell_type": "code",
   "execution_count": 1,
   "metadata": {},
   "outputs": [],
   "source": [
    "from typing import Union, List\n",
    "from math import sqrt"
   ]
  },
  {
   "cell_type": "code",
   "execution_count": 2,
   "metadata": {},
   "outputs": [],
   "source": [
    "class Scalar:\n",
    "  pass\n",
    "class Vector:\n",
    "  pass"
   ]
  },
  {
   "cell_type": "code",
   "execution_count": 3,
   "metadata": {},
   "outputs": [],
   "source": [
    "class Scalar:\n",
    "  def __init__(self: Scalar, val: float):\n",
    "    self.val = float(val)\n",
    "    \n",
    "  def __mul__(self: Scalar, other: Union[Scalar, Vector]) -> Union[Scalar, Vector]:\n",
    "    if isinstance(other, Scalar):\n",
    "        return Scalar(self.val * other.val)\n",
    "    elif isinstance(other, Vector):\n",
    "        new_entries = []\n",
    "        for entry in other.entries:\n",
    "            new_entries.append(entry * self.val)\n",
    "        return Vector(*new_entries)\n",
    "    else:\n",
    "        raise Exception(\"Wrong type\")\n",
    "        \n",
    "  def __add__(self: Scalar, other: Scalar) -> Scalar:\n",
    "    return Scalar(self.val + other.val)\n",
    "\n",
    "  def __sub__(self: Scalar, other: Scalar) -> Scalar:\n",
    "    return Scalar(self.val - other.val)\n",
    "\n",
    "  def __truediv__(self: Scalar, other: Scalar) -> Scalar:\n",
    "    return self * Scalar(1/other.val)  \n",
    "\n",
    "  def __rtruediv__(self: Scalar, other: Vector) -> Vector:\n",
    "    return Scalar(1/self.val) * other\n",
    "\n",
    "\n",
    "#   def __truediv__(self: Scalar, other: Scalar) -> Scalar:\n",
    "#     return Scalar(self.val / other.val)\n",
    "\n",
    "#   def __rtruediv__(self: Scalar, other: Vector) -> Vector:\n",
    "#     new_entries = []\n",
    "#     for entry in other.entries:\n",
    "#         new_entries.append(entry / self.val)\n",
    "#     return Vector(*new_entries)\n",
    "\n",
    "\n",
    "  def __repr__(self: Scalar) -> str:\n",
    "    return \"Scalar(%r)\" % self.val\n",
    "\n",
    "  def sign(self: Scalar) -> int:\n",
    "    if self.val > 0:\n",
    "        return 1\n",
    "    else:\n",
    "        if self.val < 0:\n",
    "            return -1\n",
    "        else:\n",
    "            return 0\n",
    "        \n",
    "  def __float__(self: Scalar) -> float:\n",
    "    return self.val\n",
    "\n",
    "class Vector:\n",
    "  def __init__(self: Vector, *entries: List[float]):\n",
    "    self.entries = entries\n",
    "    \n",
    "  def zero(size: int) -> Vector:\n",
    "    return Vector(*[0 for i in range(size)])\n",
    "\n",
    "  def __add__(self: Vector, other: Vector) -> Vector:\n",
    "    if len(self.entries) == len(other.entries):\n",
    "        new_entries = []\n",
    "        for i in range(len(self.entries)):\n",
    "            new_entries.append(self.entries[i] + other.entries[i])\n",
    "        return Vector(*new_entries)\n",
    "    else:\n",
    "        raise Exception(\"The lengths of the vectors \", self, other, \" do not match\")\n",
    "        \n",
    "  def __sub__(self: Vector, other: Vector) -> Vector:\n",
    "    return self + Scalar(-1)*other\n",
    "\n",
    "  def __mul__(self: Vector, other: Vector) -> Scalar:\n",
    "    if len(self.entries) == len(other.entries):\n",
    "        dot_product = 0\n",
    "        for i in range(len(self.entries)):\n",
    "            dot_product += (self.entries[i] * other.entries[i])\n",
    "        return Scalar(dot_product)\n",
    "    else:\n",
    "        raise Exception(\"The lengths of the vectors do not match\")\n",
    "\n",
    "  def magnitude(self: Vector) -> Scalar:\n",
    "    length = 0 \n",
    "    for entry in entries:\n",
    "        lenght += entry*entry\n",
    "    return Scalar(sqrt(length))\n",
    "\n",
    "  def unit(self: Vector) -> Vector:\n",
    "    return self / self.magnitude()\n",
    "\n",
    "  def __len__(self: Vector) -> int:\n",
    "    return len(self.entries)\n",
    "\n",
    "  def __repr__(self: Vector) -> str:\n",
    "    return \"Vector%s\" % repr(self.entries)\n",
    "\n",
    "  def __iter__(self: Vector):\n",
    "    return iter(self.entries)"
   ]
  },
  {
   "cell_type": "markdown",
   "metadata": {},
   "source": [
    "# Task 2"
   ]
  },
  {
   "cell_type": "code",
   "execution_count": 4,
   "metadata": {},
   "outputs": [],
   "source": [
    "def PerceptronTrain(D, MaxIter):\n",
    "    #D — list of lists [x, y], x — vector, y — scalar\n",
    "    w = Vector.zero(len(D[0][0])) #initialize weights\n",
    "    b = Scalar(0) # initialize bias\n",
    "    for i in range (MaxIter):\n",
    "        for pair in D:\n",
    "            x = pair[0]\n",
    "            y = pair[1]\n",
    "            a = x*w + b #compute activasion for this example\n",
    "            y_s = y.sign()\n",
    "            if a.sign() != y_s:\n",
    "                w = w + y*x # update weights\n",
    "                b = b + y\n",
    "    return (w, b)"
   ]
  },
  {
   "cell_type": "code",
   "execution_count": 5,
   "metadata": {},
   "outputs": [],
   "source": [
    "def PerceptronTest(w, b, x):\n",
    "    a = w*x + b # compute activation for the test example\n",
    "    return a.sign()"
   ]
  },
  {
   "cell_type": "markdown",
   "metadata": {},
   "source": [
    "# Task 3"
   ]
  },
  {
   "cell_type": "code",
   "execution_count": 6,
   "metadata": {},
   "outputs": [],
   "source": [
    "from random import randint"
   ]
  },
  {
   "cell_type": "code",
   "execution_count": 7,
   "metadata": {},
   "outputs": [],
   "source": [
    "def make_d(X, y):\n",
    "    d = []\n",
    "    if len(X) == len(y):\n",
    "        for i in range(len(X)):\n",
    "            d.append([X[i], y[i]])\n",
    "        return d\n",
    "    else:\n",
    "        pront('The lengths do not match')\n",
    "        "
   ]
  },
  {
   "cell_type": "code",
   "execution_count": 8,
   "metadata": {},
   "outputs": [],
   "source": [
    "n_iter = 500"
   ]
  },
  {
   "cell_type": "code",
   "execution_count": 9,
   "metadata": {},
   "outputs": [],
   "source": [
    "v = Vector(randint(-100, 100), randint(-100, 100))\n",
    "xs = [Vector(randint(-100, 100), randint(-100, 100)) for i in range(500)]\n",
    "ys = [v * x * Scalar(randint(-1, 9)) for x in xs]"
   ]
  },
  {
   "cell_type": "code",
   "execution_count": 10,
   "metadata": {},
   "outputs": [],
   "source": [
    "#our sample is random, so we can just take fist 0.9 as a train sample\n",
    "sep = int(0.9*len(xs))\n",
    "X_train = xs[:sep]\n",
    "X_test = xs[sep:]\n",
    "y_train = ys[:sep]\n",
    "y_test = ys[sep:]"
   ]
  },
  {
   "cell_type": "code",
   "execution_count": 11,
   "metadata": {},
   "outputs": [],
   "source": [
    "D_3 = make_d(X_train, y_train)"
   ]
  },
  {
   "cell_type": "code",
   "execution_count": 12,
   "metadata": {},
   "outputs": [],
   "source": [
    "w, b = PerceptronTrain(D_3, n_iter)"
   ]
  },
  {
   "cell_type": "code",
   "execution_count": 13,
   "metadata": {},
   "outputs": [],
   "source": [
    "def accuracy(X_test, y_test, w, b):\n",
    "    true_answers = 0\n",
    "    for i in range(len(X_test)):\n",
    "        x = X_test[i]\n",
    "        y = y_test[i]\n",
    "        y_pred = PerceptronTest(w, b, x)\n",
    "        if y_pred == y.sign():\n",
    "            true_answers += 1\n",
    "    return true_answers / len(y_test)"
   ]
  },
  {
   "cell_type": "code",
   "execution_count": 14,
   "metadata": {},
   "outputs": [
    {
     "data": {
      "text/plain": [
       "0.84"
      ]
     },
     "execution_count": 14,
     "metadata": {},
     "output_type": "execute_result"
    }
   ],
   "source": [
    "accuracy(X_test, y_test, w, b)"
   ]
  },
  {
   "cell_type": "code",
   "execution_count": 15,
   "metadata": {},
   "outputs": [
    {
     "data": {
      "text/plain": [
       "0.86"
      ]
     },
     "execution_count": 15,
     "metadata": {},
     "output_type": "execute_result"
    }
   ],
   "source": [
    "accuracy(X_test, y_test, v, Scalar(0))"
   ]
  },
  {
   "cell_type": "markdown",
   "metadata": {},
   "source": [
    "# Task 4"
   ]
  },
  {
   "cell_type": "code",
   "execution_count": 16,
   "metadata": {},
   "outputs": [],
   "source": [
    "from random import randint\n",
    "xs = [Vector(randint(-100, 100), randint(-100, 100)) for i in range(500)]\n",
    "ys = [Scalar(1) if x.entries[0]*x.entries[1] < 0 else Scalar(-1) for x in xs]"
   ]
  },
  {
   "cell_type": "code",
   "execution_count": 17,
   "metadata": {},
   "outputs": [],
   "source": [
    "#our sample is random, so we can just take fist 0.9 as a train sample\n",
    "sep = int(0.9*len(xs))\n",
    "X_train = xs[:sep]\n",
    "X_test = xs[sep:]\n",
    "y_train = ys[:sep]\n",
    "y_test = ys[sep:]\n",
    "D_4 = make_d(X_train, y_train)"
   ]
  },
  {
   "cell_type": "code",
   "execution_count": 18,
   "metadata": {},
   "outputs": [],
   "source": [
    "w, b = PerceptronTrain(D_4, n_iter)"
   ]
  },
  {
   "cell_type": "code",
   "execution_count": 19,
   "metadata": {},
   "outputs": [
    {
     "data": {
      "text/plain": [
       "0.62"
      ]
     },
     "execution_count": 19,
     "metadata": {},
     "output_type": "execute_result"
    }
   ],
   "source": [
    "accuracy(X_test, y_test, w, b)"
   ]
  },
  {
   "cell_type": "markdown",
   "metadata": {},
   "source": [
    "## Task 5"
   ]
  },
  {
   "cell_type": "code",
   "execution_count": 20,
   "metadata": {},
   "outputs": [],
   "source": [
    "import copy\n",
    "import random"
   ]
  },
  {
   "cell_type": "code",
   "execution_count": 21,
   "metadata": {},
   "outputs": [],
   "source": [
    "v = Vector(randint(-100, 100), randint(-100, 100))\n",
    "xs = [Vector(randint(-100, 100), randint(-100, 100)) for i in range(500)]\n",
    "ys = [v * x * Scalar(randint(-1, 9)) for x in xs]"
   ]
  },
  {
   "cell_type": "code",
   "execution_count": 22,
   "metadata": {},
   "outputs": [],
   "source": [
    "sep = int(0.9*len(xs))\n",
    "X_train = xs[:sep]\n",
    "X_test = xs[sep:]\n",
    "y_train = ys[:sep]\n",
    "y_test = ys[sep:]"
   ]
  },
  {
   "cell_type": "code",
   "execution_count": 23,
   "metadata": {},
   "outputs": [],
   "source": [
    "D_3 = make_d(X_train, y_train)"
   ]
  },
  {
   "cell_type": "code",
   "execution_count": 24,
   "metadata": {},
   "outputs": [],
   "source": [
    "D = sorted(D_3, key=lambda x: x[1].val)"
   ]
  },
  {
   "cell_type": "code",
   "execution_count": 25,
   "metadata": {},
   "outputs": [],
   "source": [
    "#we will rewrite PerceptronTrain and it will return list of pairs (w, b per each epoch)\n",
    "def PerceptronTrain(D, MaxIter):\n",
    "    #D — list of lists [x, y], x — vector, y — scalar\n",
    "    pairs = []\n",
    "    w = Vector.zero(len(D[0][0])) #initialize weights\n",
    "    b = Scalar(0) # initialize bias\n",
    "    for i in range (MaxIter):\n",
    "        for pair in D:\n",
    "            x = pair[0]\n",
    "            y = pair[1]\n",
    "            a = x*w + b #compute activasion for this example\n",
    "            y_s = y.sign()\n",
    "            if a.sign() != y_s:\n",
    "                w = w + y*x # update weights\n",
    "                b = b + y\n",
    "        pairs.append((w, b))\n",
    "    return pairs"
   ]
  },
  {
   "cell_type": "code",
   "execution_count": 26,
   "metadata": {},
   "outputs": [],
   "source": [
    "#no permutation\n",
    "no_perm_weights = PerceptronTrain(D, n_iter)"
   ]
  },
  {
   "cell_type": "code",
   "execution_count": 27,
   "metadata": {},
   "outputs": [],
   "source": [
    "#random permutation at the beginning\n",
    "D_shuffled = random.sample(D, len(D))\n",
    "one_perm_weights = PerceptronTrain(D_shuffled, n_iter)"
   ]
  },
  {
   "cell_type": "code",
   "execution_count": 28,
   "metadata": {},
   "outputs": [],
   "source": [
    "#random permutation at each epoch\n",
    "def PerceptronTrain(D, MaxIter):\n",
    "    #D — list of lists [x, y], x — vector, y — scalar\n",
    "    D_copy = D.copy()\n",
    "    pairs = []\n",
    "    w = Vector.zero(len(D[0][0])) #initialize weights\n",
    "    b = Scalar(0) # initialize bias\n",
    "    for i in range (MaxIter):\n",
    "        random.shuffle(D_copy)\n",
    "        for pair in D_copy:\n",
    "            x = pair[0]\n",
    "            y = pair[1]\n",
    "            a = x*w + b #compute activasion for this example\n",
    "            y_s = y.sign()\n",
    "            if a.sign() != y_s:\n",
    "                w = w + y*x # update weights\n",
    "                b = b + y\n",
    "        pairs.append((w, b))\n",
    "    return pairs"
   ]
  },
  {
   "cell_type": "code",
   "execution_count": 29,
   "metadata": {},
   "outputs": [],
   "source": [
    "many_perm_weights = PerceptronTrain(D, n_iter)"
   ]
  },
  {
   "cell_type": "code",
   "execution_count": 30,
   "metadata": {},
   "outputs": [],
   "source": [
    "def get_scores(pairs, X, y):\n",
    "    scores = []\n",
    "    for pair in pairs:\n",
    "        w = pair[0]\n",
    "        b = pair[1]\n",
    "        scores.append(1 - accuracy(X, y, w, b))\n",
    "    return scores"
   ]
  },
  {
   "cell_type": "code",
   "execution_count": 31,
   "metadata": {},
   "outputs": [],
   "source": [
    "#compute scores\n",
    "no_perm_train_scores = get_scores(no_perm_weights, X_train, y_train)\n",
    "one_perm_train_scores = get_scores(one_perm_weights, X_train, y_train)\n",
    "many_perm_train_scores = get_scores(many_perm_weights, X_train, y_train)\n",
    "no_perm_test_scores = get_scores(no_perm_weights, X_test, y_test)\n",
    "one_perm_test_scores = get_scores(one_perm_weights, X_test, y_test)\n",
    "many_perm_test_scores = get_scores(many_perm_weights, X_test, y_test)"
   ]
  },
  {
   "cell_type": "code",
   "execution_count": 32,
   "metadata": {},
   "outputs": [],
   "source": [
    "import matplotlib.pyplot as plt"
   ]
  },
  {
   "cell_type": "code",
   "execution_count": 33,
   "metadata": {},
   "outputs": [],
   "source": [
    "def smoothed(array, n=20):\n",
    "    new = []\n",
    "    for i in range(len(array)):\n",
    "        summa = array[i]\n",
    "        counter = 1\n",
    "        for j in range(1, n):\n",
    "            if i-j > 0:\n",
    "                summa += array[i-j]\n",
    "                counter += 1\n",
    "            if i+j < len(array) - 1:\n",
    "                summa += array[i+j]\n",
    "                counter += 1\n",
    "        new.append(summa/counter)\n",
    "    return new"
   ]
  },
  {
   "cell_type": "code",
   "execution_count": 34,
   "metadata": {},
   "outputs": [
    {
     "data": {
      "image/png": "[encoded data removed]",
      "text/plain": [
       "<Figure size 432x288 with 1 Axes>"
      ]
     },
     "metadata": {
      "needs_background": "light"
     },
     "output_type": "display_data"
    }
   ],
   "source": [
    "plt.plot(smoothed(no_perm_train_scores), label='no_perm')\n",
    "plt.plot(smoothed(one_perm_train_scores), label='one_perm')\n",
    "plt.plot(smoothed(many_perm_train_scores), label='many_perm')\n",
    "plt.ylabel('error rate')\n",
    "plt.xlabel('epochs')\n",
    "plt.title('train')\n",
    "plt.legend()\n",
    "plt.show()"
   ]
  },
  {
   "cell_type": "code",
   "execution_count": 35,
   "metadata": {},
   "outputs": [
    {
     "data": {
      "image/png": "[encoded data removed]",
      "text/plain": [
       "<Figure size 432x288 with 1 Axes>"
      ]
     },
     "metadata": {
      "needs_background": "light"
     },
     "output_type": "display_data"
    }
   ],
   "source": [
    "plt.plot(smoothed(no_perm_test_scores), label='no_perm')\n",
    "plt.plot(smoothed(one_perm_test_scores), label='one_perm')\n",
    "plt.plot(smoothed(many_perm_test_scores), label='many_perm')\n",
    "plt.ylabel('error rate')\n",
    "plt.xlabel('epochs')\n",
    "plt.title('test')\n",
    "plt.legend()\n",
    "plt.show()"
   ]
  },
  {
   "cell_type": "markdown",
   "metadata": {},
   "source": [
    "## Task 6"
   ]
  },
  {
   "cell_type": "code",
   "execution_count": 36,
   "metadata": {},
   "outputs": [],
   "source": [
    "def AveragedPerceptronTrain(D, MaxIter):\n",
    "    #D — list of lists [x, y], x — vector, y — scalar\n",
    "    D_copy = D.copy()\n",
    "    pairs = []\n",
    "    w = Vector.zero(len(D[0][0])) #initialize weights\n",
    "    b = Scalar(0) # initialize bias\n",
    "    W = Vector.zero(len(D[0][0])) #initialize weights\n",
    "    B = Scalar(0) # initialize bias\n",
    "    counter = Scalar(0)\n",
    "    for i in range (MaxIter):\n",
    "        random.shuffle(D_copy)\n",
    "        for pair in D_copy:\n",
    "            x = pair[0]\n",
    "            y = pair[1]\n",
    "            a = x*w + b #compute activasion for this example\n",
    "            y_s = y.sign()\n",
    "            if a.sign() != y_s:\n",
    "                w = w + y*x # update weights\n",
    "                b = b + y\n",
    "                W = W + y*counter*x # update weights\n",
    "                B = B + y*counter\n",
    "            counter = counter + Scalar(1)\n",
    "        pairs.append((w - Scalar(1)/counter*W, b - Scalar(1)/counter*B))\n",
    "    return pairs"
   ]
  },
  {
   "cell_type": "code",
   "execution_count": 37,
   "metadata": {},
   "outputs": [],
   "source": [
    "p = PerceptronTrain(D_3, n_iter)[-1]\n",
    "ap = AveragedPerceptronTrain(D_3, n_iter)[-1]"
   ]
  },
  {
   "cell_type": "code",
   "execution_count": 38,
   "metadata": {},
   "outputs": [],
   "source": [
    "p_accuracy = accuracy(X_test, y_test, *p)\n",
    "ap_accuracy = accuracy(X_test, y_test, *ap)"
   ]
  },
  {
   "cell_type": "code",
   "execution_count": 39,
   "metadata": {},
   "outputs": [
    {
     "name": "stdout",
     "output_type": "stream",
     "text": [
      "perceptron 0.82\n",
      "ap_perceptron 0.84\n"
     ]
    }
   ],
   "source": [
    "print('perceptron', p_accuracy)\n",
    "print('ap_perceptron', ap_accuracy)"
   ]
  },
  {
   "cell_type": "code",
   "execution_count": null,
   "metadata": {},
   "outputs": [],
   "source": []
  }
 ],
 "metadata": {
  "kernelspec": {
   "display_name": "Python 3",
   "language": "python",
   "name": "python3"
  },
  "language_info": {
   "codemirror_mode": {
    "name": "ipython",
    "version": 3
   },
   "file_extension": ".py",
   "mimetype": "text/x-python",
   "name": "python",
   "nbconvert_exporter": "python",
   "pygments_lexer": "ipython3",
   "version": "3.7.6"
  }
 },
 "nbformat": 4,
 "nbformat_minor": 4
}
